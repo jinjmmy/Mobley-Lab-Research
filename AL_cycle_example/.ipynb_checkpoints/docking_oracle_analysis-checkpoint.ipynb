{
 "cells": [
  {
   "cell_type": "code",
   "execution_count": 1,
   "id": "2d92ad9f",
   "metadata": {},
   "outputs": [],
   "source": [
    "#import libraries\n",
    "import pandas as pd\n",
    "import matplotlib.pyplot as plt\n",
    "import numpy as np\n",
    "from collections import Counter"
   ]
  },
  {
   "cell_type": "raw",
   "id": "bcc3786a",
   "metadata": {},
   "source": [
    "#Create the binders/actives file\n",
    "csv_file_path = '7nsw_all_hybrid.csv'\n",
    "\n",
    "# Load the data from CSV\n",
    "data = pd.read_csv(csv_file_path)\n",
    "\n",
    "# Sort the DataFrame based on the \"Score\" column in ascending order\n",
    "sorted_data = data.sort_values(by='Score', ascending=True)\n",
    "\n",
    "# Select the top 2000 compounds\n",
    "binders = sorted_data.head(2000)\n",
    "\n",
    "# Save the selected compounds to a new CSV file\n",
    "output_csv_path = 'binders_docking.csv'\n",
    "binders.to_csv(output_csv_path, index=False)\n",
    "\n",
    "print(f'Active compound list saved to {output_csv_path}')\n"
   ]
  },
  {
   "cell_type": "raw",
   "id": "1724b46c",
   "metadata": {},
   "source": [
    "#Check if any of the experimental binders match the docked binders\n",
    "\n",
    "# Load the CSV files\n",
    "docked_binders = pd.read_csv('binders_docking.csv')\n",
    "experimental_binders = pd.read_csv('SAMPL9/NCATS_experimental_data/nanoluc_binders_tranche1_with_IC50.csv')\n",
    "\n",
    "# Check if names in these dataframes match at all\n",
    "matching_names = docked_binders[docked_binders['Name'].isin(experimental_binders['Sample ID'])]\n",
    "\n",
    "# Display or save the result as needed\n",
    "print(matching_names)\n"
   ]
  },
  {
   "cell_type": "markdown",
   "id": "cc2cc8d6",
   "metadata": {},
   "source": [
    "Create a list of predicted hits that is crosschecked to the \"true hits\" - top 2000 compounds - from 7nsw_all_hybrid.csv docked compounds at every round."
   ]
  },
  {
   "cell_type": "code",
   "execution_count": 2,
   "id": "28e6432e",
   "metadata": {},
   "outputs": [],
   "source": [
    "def predicted_hits(predictions_file, top_n=None):\n",
    "    # Load the predicted results CSV\n",
    "    predicted_results = pd.read_csv(predictions_file)\n",
    "\n",
    "    # Sort the DataFrame based on greedy in descending order\n",
    "    sorted_results = predicted_results.sort_values(by='Predicted_Score', ascending=True)\n",
    "\n",
    "    # Select the top N compounds, or all if top_n is None\n",
    "    if top_n is not None:\n",
    "        top_compounds = sorted_results.head(top_n)\n",
    "    else:\n",
    "        top_compounds = sorted_results\n",
    "\n",
    "    return top_compounds"
   ]
  },
  {
   "cell_type": "code",
   "execution_count": 3,
   "id": "b0c77758",
   "metadata": {},
   "outputs": [],
   "source": [
    "def TP(file1_path, df2):\n",
    "    \"\"\"\n",
    "    Compare compounds between a CSV file and a DataFrame.\n",
    "\n",
    "    Parameters:\n",
    "    - file1_path (str): Path to the CSV file.\n",
    "    - df2 (pd.DataFrame): DataFrame containing the compounds for comparison.\n",
    "\n",
    "    Returns:\n",
    "    - common_compound_count (int): Number of common compounds.\n",
    "    \"\"\"\n",
    "    # Read the data from the CSV file into a pandas DataFrame\n",
    "    df1 = pd.read_csv(file1_path)\n",
    "\n",
    "    # Extract the compounds (e.g., 'Name') from each DataFrame\n",
    "    compounds_file1 = set(df1['Name'])\n",
    "    compounds_df2 = set(df2['Name'])\n",
    "\n",
    "    # Find the common compounds between the CSV file and DataFrame\n",
    "    common_compounds = compounds_file1.intersection(compounds_df2)\n",
    "\n",
    "    # Count the number of common compounds\n",
    "    common_compound_count = len(common_compounds)\n",
    "\n",
    "    return common_compound_count\n",
    "\n"
   ]
  },
  {
   "cell_type": "code",
   "execution_count": 4,
   "id": "1e4e5709",
   "metadata": {},
   "outputs": [],
   "source": [
    "def calculate_recall(TP, Ntot):\n",
    "    \"\"\"\n",
    "    Calculate recall based on True Positives and the total number of compounds evaluated.\n",
    "\n",
    "    Parameters:\n",
    "    - TP (int): Number of True Positives.\n",
    "    - Ntot (int): Total number of compounds evaluated.\n",
    "\n",
    "    Returns:\n",
    "    - recall (float): Recall value.\n",
    "    \"\"\"\n",
    "    recall = TP / Ntot\n",
    "    return recall"
   ]
  },
  {
   "cell_type": "markdown",
   "id": "dab0d8c7",
   "metadata": {},
   "source": [
    "ROUND 1 RECALL"
   ]
  },
  {
   "cell_type": "code",
   "execution_count": 5,
   "id": "b4d44aef",
   "metadata": {},
   "outputs": [],
   "source": [
    "#Find the binders in round1 - uncertainty strategy\n",
    "predictions_file = 'round0_100_predicted_results.csv'\n",
    "top_n = 2000\n",
    "\n",
    "# Get the DataFrame of top compounds\n",
    "top_compounds_df = predicted_hits(predictions_file, top_n)"
   ]
  },
  {
   "cell_type": "code",
   "execution_count": 6,
   "id": "c28406be",
   "metadata": {},
   "outputs": [
    {
     "name": "stdout",
     "output_type": "stream",
     "text": [
      "210\n"
     ]
    }
   ],
   "source": [
    "# Calculate TP for round1 of the predictions\n",
    "TP_1 = TP('../binders_docking.csv', top_compounds_df)\n",
    "print(TP_1)"
   ]
  },
  {
   "cell_type": "code",
   "execution_count": 7,
   "id": "33fe8f1c",
   "metadata": {},
   "outputs": [
    {
     "name": "stdout",
     "output_type": "stream",
     "text": [
      "Recall: 0.105\n"
     ]
    }
   ],
   "source": [
    "# Calculate recall\n",
    "Ntot = 2000\n",
    "recall_1= calculate_recall(TP_1, Ntot)\n",
    "\n",
    "# Display the recall value\n",
    "print(f\"Recall: {recall_1}\")"
   ]
  },
  {
   "cell_type": "markdown",
   "id": "9a499107",
   "metadata": {},
   "source": [
    "ROUND 2 RECALL"
   ]
  },
  {
   "cell_type": "code",
   "execution_count": 8,
   "id": "47693286",
   "metadata": {},
   "outputs": [],
   "source": [
    "# Find the binders in round2 - uncertainty strategy\n",
    "predictions_file = 'round1_100_predicted_results.csv'\n",
    "top_n = 2000\n",
    "\n",
    "# Get the DataFrame of top compounds\n",
    "top_compounds_df = predicted_hits(predictions_file, top_n)"
   ]
  },
  {
   "cell_type": "code",
   "execution_count": 9,
   "id": "38581f39",
   "metadata": {},
   "outputs": [
    {
     "name": "stdout",
     "output_type": "stream",
     "text": [
      "234\n"
     ]
    }
   ],
   "source": [
    "# Calculate TP for round2 of the predictions\n",
    "TP_2 = TP('../binders_docking.csv', top_compounds_df)\n",
    "print(TP_2)"
   ]
  },
  {
   "cell_type": "code",
   "execution_count": 10,
   "id": "4c174308",
   "metadata": {},
   "outputs": [
    {
     "name": "stdout",
     "output_type": "stream",
     "text": [
      "Recall: 0.117\n"
     ]
    }
   ],
   "source": [
    "# Calculate recall\n",
    "Ntot = 2000\n",
    "recall_2= calculate_recall(TP_2, Ntot)\n",
    "\n",
    "# Display the recall value\n",
    "print(f\"Recall: {recall_2}\")"
   ]
  },
  {
   "cell_type": "markdown",
   "id": "2137a031",
   "metadata": {},
   "source": [
    "ROUND 3 RECALL"
   ]
  },
  {
   "cell_type": "code",
   "execution_count": 11,
   "id": "304f51c3",
   "metadata": {},
   "outputs": [],
   "source": [
    "# Find the binders in round3 - uncertainty strategy\n",
    "predictions_file = 'round2_100_predicted_results.csv'\n",
    "top_n = 2000\n",
    "\n",
    "# Get the DataFrame of top compounds\n",
    "top_compounds_df = predicted_hits(predictions_file, top_n)"
   ]
  },
  {
   "cell_type": "code",
   "execution_count": 12,
   "id": "fa491a1b",
   "metadata": {},
   "outputs": [
    {
     "name": "stdout",
     "output_type": "stream",
     "text": [
      "243\n"
     ]
    }
   ],
   "source": [
    "# Calculate TP for round3 of the predictions\n",
    "TP_3 = TP('../binders_docking.csv', top_compounds_df)\n",
    "print(TP_3)"
   ]
  },
  {
   "cell_type": "code",
   "execution_count": 13,
   "id": "0035e8ed",
   "metadata": {},
   "outputs": [
    {
     "name": "stdout",
     "output_type": "stream",
     "text": [
      "Recall: 0.1215\n"
     ]
    }
   ],
   "source": [
    "# Calculate recall\n",
    "Ntot = 2000\n",
    "recall_3= calculate_recall(TP_3, Ntot)\n",
    "\n",
    "# Display the recall value\n",
    "print(f\"Recall: {recall_3}\")"
   ]
  },
  {
   "cell_type": "markdown",
   "id": "05ef6601",
   "metadata": {},
   "source": [
    "ROUND 4 RECALL"
   ]
  },
  {
   "cell_type": "code",
   "execution_count": 14,
   "id": "6203f9ba",
   "metadata": {},
   "outputs": [],
   "source": [
    "# Find the binders in round4 - greedy strategy\n",
    "predictions_file = 'round3_100_predicted_results.csv'\n",
    "top_n = 2000\n",
    "\n",
    "# Get the DataFrame of top compounds\n",
    "top_compounds_df = predicted_hits(predictions_file, top_n)"
   ]
  },
  {
   "cell_type": "code",
   "execution_count": 15,
   "id": "c5f5a8cb",
   "metadata": {},
   "outputs": [
    {
     "name": "stdout",
     "output_type": "stream",
     "text": [
      "238\n"
     ]
    }
   ],
   "source": [
    "# Calculate TP for round4 of the predictions\n",
    "TP_4 = TP('../binders_docking.csv', top_compounds_df)\n",
    "print(TP_4)"
   ]
  },
  {
   "cell_type": "code",
   "execution_count": 16,
   "id": "c7239b8f",
   "metadata": {},
   "outputs": [
    {
     "name": "stdout",
     "output_type": "stream",
     "text": [
      "Recall: 0.119\n"
     ]
    }
   ],
   "source": [
    "# Calculate recall\n",
    "Ntot = 2000\n",
    "recall_4= calculate_recall(TP_4, Ntot)\n",
    "\n",
    "# Display the recall value\n",
    "print(f\"Recall: {recall_4}\")"
   ]
  },
  {
   "cell_type": "markdown",
   "id": "0f77f07d",
   "metadata": {},
   "source": [
    "ROUND 5 RECALL"
   ]
  },
  {
   "cell_type": "code",
   "execution_count": 17,
   "id": "018b06d9",
   "metadata": {},
   "outputs": [],
   "source": [
    "# Find the binders in round5 - greedy strategy\n",
    "predictions_file = 'round4_100_predicted_results.csv'\n",
    "top_n = 2000\n",
    "\n",
    "# Get the DataFrame of top compounds\n",
    "top_compounds_df = predicted_hits(predictions_file, top_n)"
   ]
  },
  {
   "cell_type": "code",
   "execution_count": 18,
   "id": "4e1174b6",
   "metadata": {},
   "outputs": [
    {
     "name": "stdout",
     "output_type": "stream",
     "text": [
      "194\n"
     ]
    }
   ],
   "source": [
    "# Calculate TP for round4 of the predictions\n",
    "TP_5 = TP('../binders_docking.csv', top_compounds_df)\n",
    "print(TP_5)"
   ]
  },
  {
   "cell_type": "code",
   "execution_count": 19,
   "id": "17dd6bfb",
   "metadata": {},
   "outputs": [
    {
     "name": "stdout",
     "output_type": "stream",
     "text": [
      "Recall: 0.097\n"
     ]
    }
   ],
   "source": [
    "# Calculate recall\n",
    "Ntot = 2000\n",
    "recall_5= calculate_recall(TP_5, Ntot)\n",
    "\n",
    "# Display the recall value\n",
    "print(f\"Recall: {recall_5}\")"
   ]
  },
  {
   "cell_type": "code",
   "execution_count": 28,
   "id": "58d8a622",
   "metadata": {},
   "outputs": [],
   "source": [
    "strats = ['Uncertain', 'Uncertain', 'Uncertain', 'Greedy', 'Greedy']\n",
    "rounds = ['Round 1', 'Round 2', 'Round 3', 'Round 4', 'Round 5']\n",
    "recall = [recall_1, recall_2, recall_3, recall_4, recall_5]\n",
    "# Multiply the recall values by 100\n",
    "recall_percentage = np.array(recall) * 100\n"
   ]
  },
  {
   "cell_type": "code",
   "execution_count": 31,
   "id": "8cb610e5",
   "metadata": {},
   "outputs": [
    {
     "data": {
      "image/png": "[encoded data removed]",
      "text/plain": [
       "<Figure size 1000x600 with 1 Axes>"
      ]
     },
     "metadata": {},
     "output_type": "display_data"
    }
   ],
   "source": [
    "# Create a figure and axis\n",
    "fig, ax = plt.subplots(figsize=(10, 6))\n",
    "\n",
    "# Set up colors for each strategy\n",
    "colors = {'Uncertain': 'indigo', 'Greedy': 'salmon'}\n",
    "\n",
    "# Plot bars for each round\n",
    "for i, (strategy, round_, r) in enumerate(zip(strats, rounds, recall_percentage)):\n",
    "    color = colors[strategy]\n",
    "    ax.bar(i, r, color=color, label=strategy, edgecolor='black', alpha=0.8)\n",
    "\n",
    "# Set x-axis ticks and labels\n",
    "ax.set_xticks(np.arange(len(rounds)))\n",
    "ax.set_xticklabels(rounds)\n",
    "ax.set_xlabel('Rounds')\n",
    "ax.set_ylabel('Recall %')\n",
    "\n",
    "# Add a single legend for each strategy\n",
    "handles, labels = ax.get_legend_handles_labels()\n",
    "unique_labels = list(set(labels))\n",
    "unique_handles = [handles[labels.index(label)] for label in unique_labels]\n",
    "ax.legend(unique_handles, unique_labels, title='Strategies')\n",
    "\n",
    "# Set title\n",
    "ax.set_title('Recall Values (for 100cmpds/round)')\n",
    "\n",
    "plt.show()"
   ]
  },
  {
   "cell_type": "markdown",
   "id": "2cac10db-0f82-4c81-928c-9eb70fbd912e",
   "metadata": {},
   "source": [
    "Now that I also did AL for the 1000 I want to see if it helps the recall at all. "
   ]
  },
  {
   "cell_type": "markdown",
   "id": "1d412d33-bc62-4e0a-8084-eb3ae43da6fb",
   "metadata": {},
   "source": [
    "ROUND 1 RECALL for 1000 compounds"
   ]
  },
  {
   "cell_type": "code",
   "execution_count": 32,
   "id": "84a98cdc-8596-45fe-8554-4043123940de",
   "metadata": {},
   "outputs": [],
   "source": [
    "#Find the binders in round1 - uncertainty strategy\n",
    "predictions_file = 'round0_1000_predicted_results.csv'\n",
    "top_n = 2000\n",
    "\n",
    "# Get the DataFrame of top compounds\n",
    "top_compounds_df = predicted_hits(predictions_file, top_n)"
   ]
  },
  {
   "cell_type": "code",
   "execution_count": 33,
   "id": "5276db44-18a6-4fa5-a04b-0b356755c369",
   "metadata": {},
   "outputs": [
    {
     "name": "stdout",
     "output_type": "stream",
     "text": [
      "328\n"
     ]
    }
   ],
   "source": [
    "# Calculate TP for round1 of the predictions\n",
    "TP_1 = TP('../binders_docking.csv', top_compounds_df)\n",
    "print(TP_1)"
   ]
  },
  {
   "cell_type": "code",
   "execution_count": 34,
   "id": "77f9bb0d-07bc-4ac9-83d2-5060f3879dd2",
   "metadata": {},
   "outputs": [
    {
     "name": "stdout",
     "output_type": "stream",
     "text": [
      "Recall: 0.164\n"
     ]
    }
   ],
   "source": [
    "# Calculate recall\n",
    "Ntot = 2000\n",
    "recall_1= calculate_recall(TP_1, Ntot)\n",
    "\n",
    "# Display the recall value\n",
    "print(f\"Recall: {recall_1}\")"
   ]
  },
  {
   "cell_type": "markdown",
   "id": "cfce5042-06d1-4d7b-9720-4b5eb0b45974",
   "metadata": {},
   "source": [
    "ROUND 2 RECALL for 1000 compounds"
   ]
  },
  {
   "cell_type": "code",
   "execution_count": 35,
   "id": "5b721e3b-cd92-404c-9b54-3db702076325",
   "metadata": {},
   "outputs": [],
   "source": [
    "#Find the binders in round2 - uncertainty strategy\n",
    "predictions_file = 'round1_1000_predicted_results.csv'\n",
    "top_n = 2000\n",
    "\n",
    "# Get the DataFrame of top compounds\n",
    "top_compounds_df = predicted_hits(predictions_file, top_n)"
   ]
  },
  {
   "cell_type": "code",
   "execution_count": 36,
   "id": "7e3fd80c-21e3-491e-a83f-db23bf1f7bf0",
   "metadata": {},
   "outputs": [
    {
     "name": "stdout",
     "output_type": "stream",
     "text": [
      "364\n"
     ]
    }
   ],
   "source": [
    "# Calculate TP for round2 of the predictions\n",
    "TP_2 = TP('../binders_docking.csv', top_compounds_df)\n",
    "print(TP_2)"
   ]
  },
  {
   "cell_type": "code",
   "execution_count": 37,
   "id": "f793f721-c47b-4e84-883e-724691d84f32",
   "metadata": {},
   "outputs": [
    {
     "name": "stdout",
     "output_type": "stream",
     "text": [
      "Recall: 0.182\n"
     ]
    }
   ],
   "source": [
    "# Calculate recall\n",
    "Ntot = 2000\n",
    "recall_2= calculate_recall(TP_2, Ntot)\n",
    "\n",
    "# Display the recall value\n",
    "print(f\"Recall: {recall_2}\")"
   ]
  },
  {
   "cell_type": "markdown",
   "id": "c4c90e20-f4de-4c89-a001-f9847ecce8e7",
   "metadata": {},
   "source": [
    "ROUND 3 RECALL for 1000 compounds"
   ]
  },
  {
   "cell_type": "code",
   "execution_count": 38,
   "id": "e36c43a1-7bf4-4714-935f-2143a750239b",
   "metadata": {},
   "outputs": [],
   "source": [
    "#Find the binders in round3 - uncertainty strategy\n",
    "predictions_file = 'round2_1000_predicted_results.csv'\n",
    "top_n = 2000\n",
    "\n",
    "# Get the DataFrame of top compounds\n",
    "top_compounds_df = predicted_hits(predictions_file, top_n)"
   ]
  },
  {
   "cell_type": "code",
   "execution_count": 39,
   "id": "99d79581-6c47-4aee-8491-8eb205425b03",
   "metadata": {},
   "outputs": [
    {
     "name": "stdout",
     "output_type": "stream",
     "text": [
      "390\n"
     ]
    }
   ],
   "source": [
    "# Calculate TP for round13of the predictions\n",
    "TP_3 = TP('../binders_docking.csv', top_compounds_df)\n",
    "print(TP_3)"
   ]
  },
  {
   "cell_type": "code",
   "execution_count": 40,
   "id": "89cd6fb2-eec5-4a39-8d34-a23609ebacc0",
   "metadata": {},
   "outputs": [
    {
     "name": "stdout",
     "output_type": "stream",
     "text": [
      "Recall: 0.195\n"
     ]
    }
   ],
   "source": [
    "# Calculate recall\n",
    "Ntot = 2000\n",
    "recall_3= calculate_recall(TP_3, Ntot)\n",
    "\n",
    "# Display the recall value\n",
    "print(f\"Recall: {recall_3}\")"
   ]
  },
  {
   "cell_type": "markdown",
   "id": "7486c917-2547-43f4-ac7a-e66d746670b0",
   "metadata": {},
   "source": [
    "ROUND 4 RECALL for 1000 compounds"
   ]
  },
  {
   "cell_type": "code",
   "execution_count": 41,
   "id": "d865e93d-fd7d-4e47-865f-a28bcdb2a5da",
   "metadata": {},
   "outputs": [],
   "source": [
    "#Find the binders in round4 - greedy strategy\n",
    "predictions_file = 'round3_1000_predicted_results.csv'\n",
    "top_n = 2000\n",
    "\n",
    "# Get the DataFrame of top compounds\n",
    "top_compounds_df = predicted_hits(predictions_file, top_n)"
   ]
  },
  {
   "cell_type": "code",
   "execution_count": 42,
   "id": "c989dbbc-f3bc-4e7e-8669-8f30d03374ba",
   "metadata": {},
   "outputs": [
    {
     "name": "stdout",
     "output_type": "stream",
     "text": [
      "418\n"
     ]
    }
   ],
   "source": [
    "# Calculate TP for round4 the predictions\n",
    "TP_4 = TP('../binders_docking.csv', top_compounds_df)\n",
    "print(TP_4)"
   ]
  },
  {
   "cell_type": "code",
   "execution_count": 43,
   "id": "4a4f1043-bb16-4b75-889b-e5e5b18b4855",
   "metadata": {},
   "outputs": [
    {
     "name": "stdout",
     "output_type": "stream",
     "text": [
      "Recall: 0.209\n"
     ]
    }
   ],
   "source": [
    "# Calculate recall\n",
    "Ntot = 2000\n",
    "recall_4= calculate_recall(TP_4, Ntot)\n",
    "\n",
    "# Display the recall value\n",
    "print(f\"Recall: {recall_4}\")"
   ]
  },
  {
   "cell_type": "markdown",
   "id": "5f3f07c5-12cb-46a4-a404-fffe594962ca",
   "metadata": {},
   "source": [
    "ROUND 5 RECALL for 1000 compounds"
   ]
  },
  {
   "cell_type": "code",
   "execution_count": 44,
   "id": "e84ee60b-9215-4c8e-a65d-132583319ede",
   "metadata": {},
   "outputs": [],
   "source": [
    "#Find the binders in round5 - greedy strategy\n",
    "predictions_file = 'round4_1000_predicted_results.csv'\n",
    "top_n = 2000\n",
    "\n",
    "# Get the DataFrame of top compounds\n",
    "top_compounds_df = predicted_hits(predictions_file, top_n)"
   ]
  },
  {
   "cell_type": "code",
   "execution_count": 45,
   "id": "a1313650-ae01-4e4f-a939-9d35fa24c17b",
   "metadata": {},
   "outputs": [
    {
     "name": "stdout",
     "output_type": "stream",
     "text": [
      "482\n"
     ]
    }
   ],
   "source": [
    "# Calculate TP for round5 the predictions\n",
    "TP_5 = TP('../binders_docking.csv', top_compounds_df)\n",
    "print(TP_5)"
   ]
  },
  {
   "cell_type": "code",
   "execution_count": 46,
   "id": "8f924340-5a29-4d8b-a579-6e5566b552af",
   "metadata": {},
   "outputs": [
    {
     "name": "stdout",
     "output_type": "stream",
     "text": [
      "Recall: 0.241\n"
     ]
    }
   ],
   "source": [
    "# Calculate recall\n",
    "Ntot = 2000\n",
    "recall_5= calculate_recall(TP_5, Ntot)\n",
    "\n",
    "# Display the recall value\n",
    "print(f\"Recall: {recall_5}\")"
   ]
  },
  {
   "cell_type": "code",
   "execution_count": 47,
   "id": "616e10c0-8ba3-484d-9c7a-1df432a0437a",
   "metadata": {},
   "outputs": [],
   "source": [
    "strats = ['Uncertain', 'Uncertain', 'Uncertain', 'Greedy', 'Greedy']\n",
    "rounds = ['Round 1', 'Round 2', 'Round 3', 'Round 4', 'Round 5']\n",
    "recall = [recall_1, recall_2, recall_3, recall_4, recall_5]\n",
    "# Multiply the recall values by 100\n",
    "recall_percentage = np.array(recall) * 100"
   ]
  },
  {
   "cell_type": "code",
   "execution_count": 48,
   "id": "01e26585-6ed1-4021-a7f9-caf487681009",
   "metadata": {},
   "outputs": [
    {
     "data": {
      "image/png": "[encoded data removed]",
      "text/plain": [
       "<Figure size 1000x600 with 1 Axes>"
      ]
     },
     "metadata": {},
     "output_type": "display_data"
    }
   ],
   "source": [
    "# Create a figure and axis\n",
    "fig, ax = plt.subplots(figsize=(10, 6))\n",
    "\n",
    "# Set up colors for each strategy\n",
    "colors = {'Uncertain': 'indigo', 'Greedy': 'salmon'}\n",
    "\n",
    "# Plot bars for each round\n",
    "for i, (strategy, round_, r) in enumerate(zip(strats, rounds, recall_percentage)):\n",
    "    color = colors[strategy]\n",
    "    ax.bar(i, r, color=color, label=strategy, edgecolor='black', alpha=0.8)\n",
    "\n",
    "# Set x-axis ticks and labels\n",
    "ax.set_xticks(np.arange(len(rounds)))\n",
    "ax.set_xticklabels(rounds)\n",
    "ax.set_xlabel('Rounds')\n",
    "ax.set_ylabel('Recall %')\n",
    "\n",
    "# Add a single legend for each strategy\n",
    "handles, labels = ax.get_legend_handles_labels()\n",
    "unique_labels = list(set(labels))\n",
    "unique_handles = [handles[labels.index(label)] for label in unique_labels]\n",
    "ax.legend(unique_handles, unique_labels, title='Strategies')\n",
    "\n",
    "# Set title\n",
    "ax.set_title('Recall Values (for 1000cmpds/round)')\n",
    "\n",
    "plt.show()"
   ]
  },
  {
   "cell_type": "code",
   "execution_count": null,
   "id": "4374c180-8897-4d73-a847-eadb614c34cc",
   "metadata": {},
   "outputs": [],
   "source": []
  }
 ],
 "metadata": {
  "kernelspec": {
   "display_name": "Python [conda env:sklearn] *",
   "language": "python",
   "name": "conda-env-sklearn-py"
  },
  "language_info": {
   "codemirror_mode": {
    "name": "ipython",
    "version": 3
   },
   "file_extension": ".py",
   "mimetype": "text/x-python",
   "name": "python",
   "nbconvert_exporter": "python",
   "pygments_lexer": "ipython3",
   "version": "3.9.18"
  }
 },
 "nbformat": 4,
 "nbformat_minor": 5
}

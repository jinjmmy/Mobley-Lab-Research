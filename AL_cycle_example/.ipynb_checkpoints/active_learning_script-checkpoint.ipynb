{
 "cells": [
  {
   "cell_type": "code",
   "execution_count": 1,
   "id": "6796b705-0958-49f5-b9aa-dbc9d86d1c92",
   "metadata": {},
   "outputs": [],
   "source": [
    "# import packages\n",
    "import csv\n",
    "import pandas as pd\n",
    "import numpy as np\n",
    "import matplotlib.pyplot as plt\n",
    "%matplotlib inline\n",
    "from typing import List\n",
    "from rdkit import DataStructs, Chem\n",
    "from rdkit.Chem import MolFromSmiles, AllChem\n",
    "from rdkit.DataStructs.cDataStructs import ExplicitBitVect\n",
    "from sklearn import gaussian_process\n",
    "from sklearn.gaussian_process import GaussianProcessRegressor\n",
    "from sklearn.gaussian_process.kernels import Kernel"
   ]
  },
  {
   "cell_type": "code",
   "execution_count": 2,
   "id": "00091357-e827-4203-b029-2645895842d5",
   "metadata": {},
   "outputs": [],
   "source": [
    "def random_strategy(docked_file, output_csv, subset_size=None, random_seed=None):\n",
    "    \"\"\"\n",
    "    Randomly selects a subset of compounds from the docking results CSV.\n",
    "\n",
    "    Parameters:\n",
    "    - docked_file (str): Path to the CSV file with docking results.\n",
    "    - output_csv (str): Path to the output CSV file to save the selected compounds.\n",
    "    - subset_size (int or None): Number of compounds to randomly select. If None, selects all (default is None).\n",
    "    - random_seed (int or None): Seed for reproducibility in random sampling. If None, no seed is set (default is None).\n",
    "    \"\"\"\n",
    "    # Load the docking results CSV\n",
    "    docking_results = pd.read_csv(docked_file)\n",
    "\n",
    "    # Randomly select a subset of compounds\n",
    "    if subset_size is not None:\n",
    "        selected_compounds = docking_results.sample(n=subset_size, random_state=random_seed)\n",
    "    else:\n",
    "        selected_compounds = docking_results\n",
    "\n",
    "    # Save the selected compounds to a new CSV file\n",
    "    selected_compounds.to_csv(output_csv, index=False)"
   ]
  },
  {
   "cell_type": "code",
   "execution_count": 3,
   "id": "498db871-1f69-48cf-88de-5a021ae7aba0",
   "metadata": {},
   "outputs": [],
   "source": [
    "def select_scores(input_csv_path, cmpds_csv_path, output_csv_path):\n",
    "    # Load the main CSV file into a DataFrame\n",
    "    all_compounds_df = pd.read_csv(input_csv_path)\n",
    "\n",
    "    # Load the compounds CSV file into a DataFrame\n",
    "    cmpds_df = pd.read_csv(cmpds_csv_path)\n",
    "\n",
    "    # Merge the two DataFrames based on the 'Name' column using an inner join\n",
    "    merged_df = pd.merge(all_compounds_df, cmpds_df, how='inner', on='Name')\n",
    "\n",
    "    # Select the desired columns\n",
    "    selected_df = merged_df[['Name', 'SMILES_x', 'Score']]\n",
    "\n",
    "    # Rename 'SMILES_x' to 'SMILES'\n",
    "    selected_df = selected_df.rename(columns={'SMILES_x': 'SMILES'})\n",
    "\n",
    "    # Save the resulting DataFrame to a new CSV file\n",
    "    selected_df.to_csv(output_csv_path, index=False)\n",
    "\n",
    "    print(f\"Selected compounds saved to {output_csv_path}\")\n"
   ]
  },
  {
   "cell_type": "code",
   "execution_count": 4,
   "id": "ac82d457-8aea-41a6-8627-03ebd1b976a5",
   "metadata": {},
   "outputs": [],
   "source": [
    "def append_descriptors_to_csv(compounds_csv_path, descriptors_csv_path):\n",
    "    # Read the main compounds CSV file\n",
    "    compounds_df = pd.read_csv(compounds_csv_path)\n",
    "\n",
    "    # Read the descriptors CSV file\n",
    "    descriptors_df = pd.read_csv(descriptors_csv_path)\n",
    "\n",
    "    # Merge the two DataFrames based on the 'Name' column\n",
    "    merged_df = pd.merge(compounds_df, descriptors_df, on='Name', how='left', suffixes=('', '_descriptor'))\n",
    "\n",
    "    # Append descriptor columns after the 'Score' column\n",
    "    score_index = merged_df.columns.get_loc('Score')\n",
    "    descriptor_columns = [col for col in merged_df.columns if col.endswith('_descriptor')]\n",
    "    columns_order = list(merged_df.columns[:score_index + 1]) + descriptor_columns + list(merged_df.columns[score_index + 1:])\n",
    "\n",
    "    # Update DataFrame with the new column order\n",
    "    merged_df = merged_df[columns_order]\n",
    "\n",
    "    # Drop the descriptor columns\n",
    "    merged_df = merged_df.drop(merged_df.filter(like='_descriptor').columns, axis=1)\n",
    "\n",
    "    # Save the updated DataFrame to the same CSV file\n",
    "    merged_df.to_csv(compounds_csv_path, index=False)\n",
    "\n",
    "    print(f\"Descriptors appended to {compounds_csv_path}\")"
   ]
  },
  {
   "cell_type": "markdown",
   "id": "fa80f1c6-d491-4d7a-9e95-51ac6059f326",
   "metadata": {},
   "source": [
    "Set up Gaussian Process Regressor model"
   ]
  },
  {
   "cell_type": "code",
   "execution_count": 5,
   "id": "8b94dc8f-9896-427b-bd7b-bfcf30a9e04e",
   "metadata": {},
   "outputs": [],
   "source": [
    "# Function to calculate the tanimoto similarity for the Gaussian process kernel prediction\n",
    "def tanimoto_similarity(a, b):\n",
    "    \"\"\"Computes the Tanimoto similarity for all pairs.\n",
    "\n",
    "  Args:\n",
    "    a: Numpy array with shape [batch_size_a, num_features].\n",
    "    b: Numpy array with shape [batch_size_b, num_features].\n",
    "\n",
    "  Returns:\n",
    "    Numpy array with shape [batch_size_a, batch_size_b].\n",
    "  \"\"\"\n",
    "    aa = np.sum(a, axis=1, keepdims=True)\n",
    "    bb = np.sum(b, axis=1, keepdims=True)\n",
    "    ab = np.matmul(a, b.T)\n",
    "    return np.true_divide(ab, aa + bb.T - ab)"
   ]
  },
  {
   "cell_type": "code",
   "execution_count": 6,
   "id": "dba36afc-b835-4095-b718-02589b840262",
   "metadata": {},
   "outputs": [],
   "source": [
    "class TanimotoKernel(gaussian_process.kernels.NormalizedKernelMixin,\n",
    "                     gaussian_process.kernels.StationaryKernelMixin,\n",
    "                     gaussian_process.kernels.Kernel):\n",
    "  \"\"\"Custom Gaussian process kernel that computes Tanimoto similarity.\"\"\"\n",
    "\n",
    "  def __init__(self):\n",
    "    \"\"\"Initializer.\"\"\"\n",
    "    pass  # Does nothing; this is required by get_params().\n",
    "\n",
    "  def __call__(self, X, Y=None, eval_gradient=False):  # pylint: disable=invalid-name\n",
    "    \"\"\"Computes the pairwise Tanimoto similarity.\n",
    "\n",
    "    Args:\n",
    "      X: Numpy array with shape [batch_size_a, num_features].\n",
    "      Y: Numpy array with shape [batch_size_b, num_features]. If None, X is\n",
    "        used.\n",
    "      eval_gradient: Whether to compute the gradient.\n",
    "\n",
    "    Returns:\n",
    "      Numpy array with shape [batch_size_a, batch_size_b].\n",
    "\n",
    "    Raises:\n",
    "      NotImplementedError: If eval_gradient is True.\n",
    "    \"\"\"\n",
    "    if eval_gradient:\n",
    "      raise NotImplementedError\n",
    "    if Y is None:\n",
    "      Y = X\n",
    "    return tanimoto_similarity(X, Y)"
   ]
  },
  {
   "cell_type": "code",
   "execution_count": 7,
   "id": "90c19bae-e7c7-4ee6-bc28-f1b309b7a2ad",
   "metadata": {},
   "outputs": [],
   "source": [
    "def train_gpr_model(csv_file_path):\n",
    "    # Load data from CSV\n",
    "    data = pd.read_csv(csv_file_path)\n",
    "\n",
    "    # Extract individual bit columns for the representations needed for X_train\n",
    "    bit_columns = data.drop(columns=['Name', 'SMILES', 'Score'])\n",
    "\n",
    "    # Convert bits to NumPy array\n",
    "    X_train = np.array(bit_columns)\n",
    "\n",
    "    # Target values which in this case are the docking scores for the training data\n",
    "    y_train = data['Score']\n",
    "\n",
    "    # Use the custom kernel in a Gaussian process\n",
    "    gpr = GaussianProcessRegressor(kernel=TanimotoKernel(), n_restarts_optimizer=100).fit(X_train, y_train)\n",
    "\n",
    "    return gpr"
   ]
  },
  {
   "cell_type": "code",
   "execution_count": 8,
   "id": "3e6177f1-5768-4898-b56c-4818e2716889",
   "metadata": {},
   "outputs": [],
   "source": [
    "def remove_train_compounds(input_csv_path, compounds_to_remove_csv_path, output_csv_path):\n",
    "    # Read the main compounds CSV file\n",
    "    all_compounds_df = pd.read_csv(input_csv_path)\n",
    "\n",
    "    # Read the list of compounds to remove\n",
    "    compounds_to_remove_df = pd.read_csv(compounds_to_remove_csv_path)\n",
    "\n",
    "    # Identify the indices of compounds to remove\n",
    "    indices_to_remove = all_compounds_df[all_compounds_df['Name'].isin(compounds_to_remove_df['Name'])].index\n",
    "\n",
    "    # Remove compounds from the main DataFrame\n",
    "    remaining_compounds_df = all_compounds_df.drop(indices_to_remove)\n",
    "\n",
    "    # Save the remaining compounds to a new CSV file\n",
    "    remaining_compounds_df.to_csv(output_csv_path, index=False)\n",
    "\n",
    "    print(f\"Compounds removed and remaining compounds saved to {output_csv_path}\")"
   ]
  },
  {
   "cell_type": "code",
   "execution_count": 9,
   "id": "85d261b0-bafc-4763-a663-4af8968efab9",
   "metadata": {},
   "outputs": [],
   "source": [
    "def predict_and_save_results(gpr, csv_file, output_csv):\n",
    "    # Load data from CSV\n",
    "    data = pd.read_csv(csv_file)\n",
    "\n",
    "    # Extract individual bit columns for the representations needed for X_test\n",
    "    bit_columns = data.drop(columns=['Name', 'SMILES'])\n",
    "\n",
    "    # Convert bits to NumPy array\n",
    "    X_test = np.array(bit_columns)\n",
    "\n",
    "    # Predict using the Gaussian process model and obtain covariance\n",
    "    y_pred, sigma = gpr.predict(X_test, return_std=True)\n",
    "\n",
    "    # Add predicted values and uncertainty to the DataFrame\n",
    "    data['Predicted_Score'] = y_pred\n",
    "    data['Uncertainty'] = sigma\n",
    "\n",
    "    # Save the DataFrame to a new CSV file\n",
    "    output_data = data[['Name', 'SMILES', 'Predicted_Score', 'Uncertainty']]\n",
    "    output_data.to_csv(output_csv, index=False)"
   ]
  },
  {
   "cell_type": "code",
   "execution_count": 10,
   "id": "128ce014-6434-4c62-b3d9-f28cf06924d4",
   "metadata": {},
   "outputs": [],
   "source": [
    "def append_train_compounds(file1_path, file2_path, output_path):\n",
    "    \"\"\"\n",
    "    Concatenates two CSV files with the same format and saves the result to a new CSV file.\n",
    "\n",
    "    Parameters:\n",
    "    - file1_path (str): Path to the first CSV file.\n",
    "    - file2_path (str): Path to the second CSV file.\n",
    "    - output_path (str): Path to save the concatenated CSV file.\n",
    "    \"\"\"\n",
    "    # Load the data from both CSV files\n",
    "    data1 = pd.read_csv(file1_path)\n",
    "    data2 = pd.read_csv(file2_path)\n",
    "\n",
    "    # Concatenate the two DataFrames\n",
    "    concatenated_data = pd.concat([data1, data2], ignore_index=True)\n",
    "\n",
    "    # Save the concatenated DataFrame to a new CSV file\n",
    "    concatenated_data.to_csv(output_path, index=False)\n",
    "\n",
    "    print(f\"Concatenated compounds saved to {output_path}\")"
   ]
  },
  {
   "cell_type": "markdown",
   "id": "a35f8724-59a1-4f74-9466-493b0f786af1",
   "metadata": {},
   "source": [
    "_________________________________________________________________________________________________________"
   ]
  },
  {
   "cell_type": "code",
   "execution_count": 11,
   "id": "03bbac9b-a812-43e2-8b71-f4b9dd3a0a06",
   "metadata": {},
   "outputs": [],
   "source": [
    "# Choose a random subset of compounds to start with.\n",
    "docked_file_path = '../../../docked_ecfp.csv'\n",
    "output_csv_path = 'round0_100_ecfp.csv'\n",
    "subset_size_to_select = 100  # Set the desired subset size\n",
    "\n",
    "# Call the function\n",
    "random_strategy(docked_file_path, output_csv_path, subset_size=subset_size_to_select)\n"
   ]
  },
  {
   "cell_type": "code",
   "execution_count": 12,
   "id": "d7c8033f-7b4c-428a-9d51-788c992bb527",
   "metadata": {},
   "outputs": [
    {
     "name": "stdout",
     "output_type": "stream",
     "text": [
      "Selected compounds saved to round0_100_train_cmpds.csv\n"
     ]
    }
   ],
   "source": [
    "# Unblind the scores for these 100 randomly chosen compounds and save as training set.\n",
    "input_csv_path = '../../../7nsw_all_hybrid.csv'\n",
    "cmpds_csv_path = 'round0_100_ecfp.csv'\n",
    "output_csv_path = 'round0_100_train_cmpds.csv'\n",
    "\n",
    "select_scores(input_csv_path, cmpds_csv_path, output_csv_path)"
   ]
  },
  {
   "cell_type": "code",
   "execution_count": 13,
   "id": "41eb49a0-cd20-4fc1-ab00-196a1a4a92f4",
   "metadata": {},
   "outputs": [
    {
     "name": "stdout",
     "output_type": "stream",
     "text": [
      "Name,SMILES,Score\n",
      "NCGC00373801-01,c1cc(cc(c1)c2cccs2)C[NH3+],-9.1241\n"
     ]
    }
   ],
   "source": [
    "!head -n 2 round0_100_train_cmpds.csv"
   ]
  },
  {
   "cell_type": "code",
   "execution_count": 14,
   "id": "df03bca5-8f9f-4793-b2e7-e4a499fbf2b4",
   "metadata": {},
   "outputs": [
    {
     "name": "stdout",
     "output_type": "stream",
     "text": [
      "Descriptors appended to round0_100_train_cmpds.csv\n"
     ]
    }
   ],
   "source": [
    "# Extract the descriptors and append them to the training set.\n",
    "compounds_csv_path = 'round0_100_train_cmpds.csv'\n",
    "descriptors_csv_path = '../../../docked_ecfp.csv'\n",
    "\n",
    "append_descriptors_to_csv(compounds_csv_path, descriptors_csv_path)"
   ]
  },
  {
   "cell_type": "code",
   "execution_count": 15,
   "id": "71c0f262-a665-40e7-b0c8-54abde881dea",
   "metadata": {},
   "outputs": [
    {
     "name": "stdout",
     "output_type": "stream",
     "text": [
      "Name,SMILES,Score,Morgan_bit0,Morgan_bit1,Morgan_bit2,Morgan_bit3,Morgan_bit4,Morgan_bit5,Morgan_bit6,Morgan_bit7,Morgan_bit8,Morgan_bit9,Morgan_bit10,Morgan_bit11,Morgan_bit12,Morgan_bit13,Morgan_bit14,Morgan_bit15,Morgan_bit16,Morgan_bit17,Morgan_bit18,Morgan_bit19,Morgan_bit20,Morgan_bit21,Morgan_bit22,Morgan_bit23,Morgan_bit24,Morgan_bit25,Morgan_bit26,Morgan_bit27,Morgan_bit28,Morgan_bit29,Morgan_bit30,Morgan_bit31,Morgan_bit32,Morgan_bit33,Morgan_bit34,Morgan_bit35,Morgan_bit36,Morgan_bit37,Morgan_bit38,Morgan_bit39,Morgan_bit40,Morgan_bit41,Morgan_bit42,Morgan_bit43,Morgan_bit44,Morgan_bit45,Morgan_bit46,Morgan_bit47,Morgan_bit48,Morgan_bit49,Morgan_bit50,Morgan_bit51,Morgan_bit52,Morgan_bit53,Morgan_bit54,Morgan_bit55,Morgan_bit56,Morgan_bit57,Morgan_bit58,Morgan_bit59,Morgan_bit60,Morgan_bit61,Morgan_bit62,Morgan_bit63,Morgan_bit64,Morgan_bit65,Morgan_bit66,Morgan_bit67,Morgan_bit68,Morgan_bit69,Morgan_bit70,Morgan_bit71,Morgan_bit72,Morgan_bit73,Morgan_bit74,Morgan_bit75,Morgan_bit76,Morgan_bit77,Morgan_bit78,Morgan_bit79,Morgan_bit80,Morgan_bit81,Morgan_bit82,Morgan_bit83,Morgan_bit84,Morgan_bit85,Morgan_bit86,Morgan_bit87,Morgan_bit88,Morgan_bit89,Morgan_bit90,Morgan_bit91,Morgan_bit92,Morgan_bit93,Morgan_bit94,Morgan_bit95,Morgan_bit96,Morgan_bit97,Morgan_bit98,Morgan_bit99,Morgan_bit100,Morgan_bit101,Morgan_bit102,Morgan_bit103,Morgan_bit104,Morgan_bit105,Morgan_bit106,Morgan_bit107,Morgan_bit108,Morgan_bit109,Morgan_bit110,Morgan_bit111,Morgan_bit112,Morgan_bit113,Morgan_bit114,Morgan_bit115,Morgan_bit116,Morgan_bit117,Morgan_bit118,Morgan_bit119,Morgan_bit120,Morgan_bit121,Morgan_bit122,Morgan_bit123,Morgan_bit124,Morgan_bit125,Morgan_bit126,Morgan_bit127,Morgan_bit128,Morgan_bit129,Morgan_bit130,Morgan_bit131,Morgan_bit132,Morgan_bit133,Morgan_bit134,Morgan_bit135,Morgan_bit136,Morgan_bit137,Morgan_bit138,Morgan_bit139,Morgan_bit140,Morgan_bit141,Morgan_bit142,Morgan_bit143,Morgan_bit144,Morgan_bit145,Morgan_bit146,Morgan_bit147,Morgan_bit148,Morgan_bit149,Morgan_bit150,Morgan_bit151,Morgan_bit152,Morgan_bit153,Morgan_bit154,Morgan_bit155,Morgan_bit156,Morgan_bit157,Morgan_bit158,Morgan_bit159,Morgan_bit160,Morgan_bit161,Morgan_bit162,Morgan_bit163,Morgan_bit164,Morgan_bit165,Morgan_bit166,Morgan_bit167,Morgan_bit168,Morgan_bit169,Morgan_bit170,Morgan_bit171,Morgan_bit172,Morgan_bit173,Morgan_bit174,Morgan_bit175,Morgan_bit176,Morgan_bit177,Morgan_bit178,Morgan_bit179,Morgan_bit180,Morgan_bit181,Morgan_bit182,Morgan_bit183,Morgan_bit184,Morgan_bit185,Morgan_bit186,Morgan_bit187,Morgan_bit188,Morgan_bit189,Morgan_bit190,Morgan_bit191,Morgan_bit192,Morgan_bit193,Morgan_bit194,Morgan_bit195,Morgan_bit196,Morgan_bit197,Morgan_bit198,Morgan_bit199,Morgan_bit200,Morgan_bit201,Morgan_bit202,Morgan_bit203,Morgan_bit204,Morgan_bit205,Morgan_bit206,Morgan_bit207,Morgan_bit208,Morgan_bit209,Morgan_bit210,Morgan_bit211,Morgan_bit212,Morgan_bit213,Morgan_bit214,Morgan_bit215,Morgan_bit216,Morgan_bit217,Morgan_bit218,Morgan_bit219,Morgan_bit220,Morgan_bit221,Morgan_bit222,Morgan_bit223,Morgan_bit224,Morgan_bit225,Morgan_bit226,Morgan_bit227,Morgan_bit228,Morgan_bit229,Morgan_bit230,Morgan_bit231,Morgan_bit232,Morgan_bit233,Morgan_bit234,Morgan_bit235,Morgan_bit236,Morgan_bit237,Morgan_bit238,Morgan_bit239,Morgan_bit240,Morgan_bit241,Morgan_bit242,Morgan_bit243,Morgan_bit244,Morgan_bit245,Morgan_bit246,Morgan_bit247,Morgan_bit248,Morgan_bit249,Morgan_bit250,Morgan_bit251,Morgan_bit252,Morgan_bit253,Morgan_bit254,Morgan_bit255,Morgan_bit256,Morgan_bit257,Morgan_bit258,Morgan_bit259,Morgan_bit260,Morgan_bit261,Morgan_bit262,Morgan_bit263,Morgan_bit264,Morgan_bit265,Morgan_bit266,Morgan_bit267,Morgan_bit268,Morgan_bit269,Morgan_bit270,Morgan_bit271,Morgan_bit272,Morgan_bit273,Morgan_bit274,Morgan_bit275,Morgan_bit276,Morgan_bit277,Morgan_bit278,Morgan_bit279,Morgan_bit280,Morgan_bit281,Morgan_bit282,Morgan_bit283,Morgan_bit284,Morgan_bit285,Morgan_bit286,Morgan_bit287,Morgan_bit288,Morgan_bit289,Morgan_bit290,Morgan_bit291,Morgan_bit292,Morgan_bit293,Morgan_bit294,Morgan_bit295,Morgan_bit296,Morgan_bit297,Morgan_bit298,Morgan_bit299,Morgan_bit300,Morgan_bit301,Morgan_bit302,Morgan_bit303,Morgan_bit304,Morgan_bit305,Morgan_bit306,Morgan_bit307,Morgan_bit308,Morgan_bit309,Morgan_bit310,Morgan_bit311,Morgan_bit312,Morgan_bit313,Morgan_bit314,Morgan_bit315,Morgan_bit316,Morgan_bit317,Morgan_bit318,Morgan_bit319,Morgan_bit320,Morgan_bit321,Morgan_bit322,Morgan_bit323,Morgan_bit324,Morgan_bit325,Morgan_bit326,Morgan_bit327,Morgan_bit328,Morgan_bit329,Morgan_bit330,Morgan_bit331,Morgan_bit332,Morgan_bit333,Morgan_bit334,Morgan_bit335,Morgan_bit336,Morgan_bit337,Morgan_bit338,Morgan_bit339,Morgan_bit340,Morgan_bit341,Morgan_bit342,Morgan_bit343,Morgan_bit344,Morgan_bit345,Morgan_bit346,Morgan_bit347,Morgan_bit348,Morgan_bit349,Morgan_bit350,Morgan_bit351,Morgan_bit352,Morgan_bit353,Morgan_bit354,Morgan_bit355,Morgan_bit356,Morgan_bit357,Morgan_bit358,Morgan_bit359,Morgan_bit360,Morgan_bit361,Morgan_bit362,Morgan_bit363,Morgan_bit364,Morgan_bit365,Morgan_bit366,Morgan_bit367,Morgan_bit368,Morgan_bit369,Morgan_bit370,Morgan_bit371,Morgan_bit372,Morgan_bit373,Morgan_bit374,Morgan_bit375,Morgan_bit376,Morgan_bit377,Morgan_bit378,Morgan_bit379,Morgan_bit380,Morgan_bit381,Morgan_bit382,Morgan_bit383,Morgan_bit384,Morgan_bit385,Morgan_bit386,Morgan_bit387,Morgan_bit388,Morgan_bit389,Morgan_bit390,Morgan_bit391,Morgan_bit392,Morgan_bit393,Morgan_bit394,Morgan_bit395,Morgan_bit396,Morgan_bit397,Morgan_bit398,Morgan_bit399,Morgan_bit400,Morgan_bit401,Morgan_bit402,Morgan_bit403,Morgan_bit404,Morgan_bit405,Morgan_bit406,Morgan_bit407,Morgan_bit408,Morgan_bit409,Morgan_bit410,Morgan_bit411,Morgan_bit412,Morgan_bit413,Morgan_bit414,Morgan_bit415,Morgan_bit416,Morgan_bit417,Morgan_bit418,Morgan_bit419,Morgan_bit420,Morgan_bit421,Morgan_bit422,Morgan_bit423,Morgan_bit424,Morgan_bit425,Morgan_bit426,Morgan_bit427,Morgan_bit428,Morgan_bit429,Morgan_bit430,Morgan_bit431,Morgan_bit432,Morgan_bit433,Morgan_bit434,Morgan_bit435,Morgan_bit436,Morgan_bit437,Morgan_bit438,Morgan_bit439,Morgan_bit440,Morgan_bit441,Morgan_bit442,Morgan_bit443,Morgan_bit444,Morgan_bit445,Morgan_bit446,Morgan_bit447,Morgan_bit448,Morgan_bit449,Morgan_bit450,Morgan_bit451,Morgan_bit452,Morgan_bit453,Morgan_bit454,Morgan_bit455,Morgan_bit456,Morgan_bit457,Morgan_bit458,Morgan_bit459,Morgan_bit460,Morgan_bit461,Morgan_bit462,Morgan_bit463,Morgan_bit464,Morgan_bit465,Morgan_bit466,Morgan_bit467,Morgan_bit468,Morgan_bit469,Morgan_bit470,Morgan_bit471,Morgan_bit472,Morgan_bit473,Morgan_bit474,Morgan_bit475,Morgan_bit476,Morgan_bit477,Morgan_bit478,Morgan_bit479,Morgan_bit480,Morgan_bit481,Morgan_bit482,Morgan_bit483,Morgan_bit484,Morgan_bit485,Morgan_bit486,Morgan_bit487,Morgan_bit488,Morgan_bit489,Morgan_bit490,Morgan_bit491,Morgan_bit492,Morgan_bit493,Morgan_bit494,Morgan_bit495,Morgan_bit496,Morgan_bit497,Morgan_bit498,Morgan_bit499,Morgan_bit500,Morgan_bit501,Morgan_bit502,Morgan_bit503,Morgan_bit504,Morgan_bit505,Morgan_bit506,Morgan_bit507,Morgan_bit508,Morgan_bit509,Morgan_bit510,Morgan_bit511,Morgan_bit512,Morgan_bit513,Morgan_bit514,Morgan_bit515,Morgan_bit516,Morgan_bit517,Morgan_bit518,Morgan_bit519,Morgan_bit520,Morgan_bit521,Morgan_bit522,Morgan_bit523,Morgan_bit524,Morgan_bit525,Morgan_bit526,Morgan_bit527,Morgan_bit528,Morgan_bit529,Morgan_bit530,Morgan_bit531,Morgan_bit532,Morgan_bit533,Morgan_bit534,Morgan_bit535,Morgan_bit536,Morgan_bit537,Morgan_bit538,Morgan_bit539,Morgan_bit540,Morgan_bit541,Morgan_bit542,Morgan_bit543,Morgan_bit544,Morgan_bit545,Morgan_bit546,Morgan_bit547,Morgan_bit548,Morgan_bit549,Morgan_bit550,Morgan_bit551,Morgan_bit552,Morgan_bit553,Morgan_bit554,Morgan_bit555,Morgan_bit556,Morgan_bit557,Morgan_bit558,Morgan_bit559,Morgan_bit560,Morgan_bit561,Morgan_bit562,Morgan_bit563,Morgan_bit564,Morgan_bit565,Morgan_bit566,Morgan_bit567,Morgan_bit568,Morgan_bit569,Morgan_bit570,Morgan_bit571,Morgan_bit572,Morgan_bit573,Morgan_bit574,Morgan_bit575,Morgan_bit576,Morgan_bit577,Morgan_bit578,Morgan_bit579,Morgan_bit580,Morgan_bit581,Morgan_bit582,Morgan_bit583,Morgan_bit584,Morgan_bit585,Morgan_bit586,Morgan_bit587,Morgan_bit588,Morgan_bit589,Morgan_bit590,Morgan_bit591,Morgan_bit592,Morgan_bit593,Morgan_bit594,Morgan_bit595,Morgan_bit596,Morgan_bit597,Morgan_bit598,Morgan_bit599,Morgan_bit600,Morgan_bit601,Morgan_bit602,Morgan_bit603,Morgan_bit604,Morgan_bit605,Morgan_bit606,Morgan_bit607,Morgan_bit608,Morgan_bit609,Morgan_bit610,Morgan_bit611,Morgan_bit612,Morgan_bit613,Morgan_bit614,Morgan_bit615,Morgan_bit616,Morgan_bit617,Morgan_bit618,Morgan_bit619,Morgan_bit620,Morgan_bit621,Morgan_bit622,Morgan_bit623,Morgan_bit624,Morgan_bit625,Morgan_bit626,Morgan_bit627,Morgan_bit628,Morgan_bit629,Morgan_bit630,Morgan_bit631,Morgan_bit632,Morgan_bit633,Morgan_bit634,Morgan_bit635,Morgan_bit636,Morgan_bit637,Morgan_bit638,Morgan_bit639,Morgan_bit640,Morgan_bit641,Morgan_bit642,Morgan_bit643,Morgan_bit644,Morgan_bit645,Morgan_bit646,Morgan_bit647,Morgan_bit648,Morgan_bit649,Morgan_bit650,Morgan_bit651,Morgan_bit652,Morgan_bit653,Morgan_bit654,Morgan_bit655,Morgan_bit656,Morgan_bit657,Morgan_bit658,Morgan_bit659,Morgan_bit660,Morgan_bit661,Morgan_bit662,Morgan_bit663,Morgan_bit664,Morgan_bit665,Morgan_bit666,Morgan_bit667,Morgan_bit668,Morgan_bit669,Morgan_bit670,Morgan_bit671,Morgan_bit672,Morgan_bit673,Morgan_bit674,Morgan_bit675,Morgan_bit676,Morgan_bit677,Morgan_bit678,Morgan_bit679,Morgan_bit680,Morgan_bit681,Morgan_bit682,Morgan_bit683,Morgan_bit684,Morgan_bit685,Morgan_bit686,Morgan_bit687,Morgan_bit688,Morgan_bit689,Morgan_bit690,Morgan_bit691,Morgan_bit692,Morgan_bit693,Morgan_bit694,Morgan_bit695,Morgan_bit696,Morgan_bit697,Morgan_bit698,Morgan_bit699,Morgan_bit700,Morgan_bit701,Morgan_bit702,Morgan_bit703,Morgan_bit704,Morgan_bit705,Morgan_bit706,Morgan_bit707,Morgan_bit708,Morgan_bit709,Morgan_bit710,Morgan_bit711,Morgan_bit712,Morgan_bit713,Morgan_bit714,Morgan_bit715,Morgan_bit716,Morgan_bit717,Morgan_bit718,Morgan_bit719,Morgan_bit720,Morgan_bit721,Morgan_bit722,Morgan_bit723,Morgan_bit724,Morgan_bit725,Morgan_bit726,Morgan_bit727,Morgan_bit728,Morgan_bit729,Morgan_bit730,Morgan_bit731,Morgan_bit732,Morgan_bit733,Morgan_bit734,Morgan_bit735,Morgan_bit736,Morgan_bit737,Morgan_bit738,Morgan_bit739,Morgan_bit740,Morgan_bit741,Morgan_bit742,Morgan_bit743,Morgan_bit744,Morgan_bit745,Morgan_bit746,Morgan_bit747,Morgan_bit748,Morgan_bit749,Morgan_bit750,Morgan_bit751,Morgan_bit752,Morgan_bit753,Morgan_bit754,Morgan_bit755,Morgan_bit756,Morgan_bit757,Morgan_bit758,Morgan_bit759,Morgan_bit760,Morgan_bit761,Morgan_bit762,Morgan_bit763,Morgan_bit764,Morgan_bit765,Morgan_bit766,Morgan_bit767,Morgan_bit768,Morgan_bit769,Morgan_bit770,Morgan_bit771,Morgan_bit772,Morgan_bit773,Morgan_bit774,Morgan_bit775,Morgan_bit776,Morgan_bit777,Morgan_bit778,Morgan_bit779,Morgan_bit780,Morgan_bit781,Morgan_bit782,Morgan_bit783,Morgan_bit784,Morgan_bit785,Morgan_bit786,Morgan_bit787,Morgan_bit788,Morgan_bit789,Morgan_bit790,Morgan_bit791,Morgan_bit792,Morgan_bit793,Morgan_bit794,Morgan_bit795,Morgan_bit796,Morgan_bit797,Morgan_bit798,Morgan_bit799,Morgan_bit800,Morgan_bit801,Morgan_bit802,Morgan_bit803,Morgan_bit804,Morgan_bit805,Morgan_bit806,Morgan_bit807,Morgan_bit808,Morgan_bit809,Morgan_bit810,Morgan_bit811,Morgan_bit812,Morgan_bit813,Morgan_bit814,Morgan_bit815,Morgan_bit816,Morgan_bit817,Morgan_bit818,Morgan_bit819,Morgan_bit820,Morgan_bit821,Morgan_bit822,Morgan_bit823,Morgan_bit824,Morgan_bit825,Morgan_bit826,Morgan_bit827,Morgan_bit828,Morgan_bit829,Morgan_bit830,Morgan_bit831,Morgan_bit832,Morgan_bit833,Morgan_bit834,Morgan_bit835,Morgan_bit836,Morgan_bit837,Morgan_bit838,Morgan_bit839,Morgan_bit840,Morgan_bit841,Morgan_bit842,Morgan_bit843,Morgan_bit844,Morgan_bit845,Morgan_bit846,Morgan_bit847,Morgan_bit848,Morgan_bit849,Morgan_bit850,Morgan_bit851,Morgan_bit852,Morgan_bit853,Morgan_bit854,Morgan_bit855,Morgan_bit856,Morgan_bit857,Morgan_bit858,Morgan_bit859,Morgan_bit860,Morgan_bit861,Morgan_bit862,Morgan_bit863,Morgan_bit864,Morgan_bit865,Morgan_bit866,Morgan_bit867,Morgan_bit868,Morgan_bit869,Morgan_bit870,Morgan_bit871,Morgan_bit872,Morgan_bit873,Morgan_bit874,Morgan_bit875,Morgan_bit876,Morgan_bit877,Morgan_bit878,Morgan_bit879,Morgan_bit880,Morgan_bit881,Morgan_bit882,Morgan_bit883,Morgan_bit884,Morgan_bit885,Morgan_bit886,Morgan_bit887,Morgan_bit888,Morgan_bit889,Morgan_bit890,Morgan_bit891,Morgan_bit892,Morgan_bit893,Morgan_bit894,Morgan_bit895,Morgan_bit896,Morgan_bit897,Morgan_bit898,Morgan_bit899,Morgan_bit900,Morgan_bit901,Morgan_bit902,Morgan_bit903,Morgan_bit904,Morgan_bit905,Morgan_bit906,Morgan_bit907,Morgan_bit908,Morgan_bit909,Morgan_bit910,Morgan_bit911,Morgan_bit912,Morgan_bit913,Morgan_bit914,Morgan_bit915,Morgan_bit916,Morgan_bit917,Morgan_bit918,Morgan_bit919,Morgan_bit920,Morgan_bit921,Morgan_bit922,Morgan_bit923,Morgan_bit924,Morgan_bit925,Morgan_bit926,Morgan_bit927,Morgan_bit928,Morgan_bit929,Morgan_bit930,Morgan_bit931,Morgan_bit932,Morgan_bit933,Morgan_bit934,Morgan_bit935,Morgan_bit936,Morgan_bit937,Morgan_bit938,Morgan_bit939,Morgan_bit940,Morgan_bit941,Morgan_bit942,Morgan_bit943,Morgan_bit944,Morgan_bit945,Morgan_bit946,Morgan_bit947,Morgan_bit948,Morgan_bit949,Morgan_bit950,Morgan_bit951,Morgan_bit952,Morgan_bit953,Morgan_bit954,Morgan_bit955,Morgan_bit956,Morgan_bit957,Morgan_bit958,Morgan_bit959,Morgan_bit960,Morgan_bit961,Morgan_bit962,Morgan_bit963,Morgan_bit964,Morgan_bit965,Morgan_bit966,Morgan_bit967,Morgan_bit968,Morgan_bit969,Morgan_bit970,Morgan_bit971,Morgan_bit972,Morgan_bit973,Morgan_bit974,Morgan_bit975,Morgan_bit976,Morgan_bit977,Morgan_bit978,Morgan_bit979,Morgan_bit980,Morgan_bit981,Morgan_bit982,Morgan_bit983,Morgan_bit984,Morgan_bit985,Morgan_bit986,Morgan_bit987,Morgan_bit988,Morgan_bit989,Morgan_bit990,Morgan_bit991,Morgan_bit992,Morgan_bit993,Morgan_bit994,Morgan_bit995,Morgan_bit996,Morgan_bit997,Morgan_bit998,Morgan_bit999,Morgan_bit1000,Morgan_bit1001,Morgan_bit1002,Morgan_bit1003,Morgan_bit1004,Morgan_bit1005,Morgan_bit1006,Morgan_bit1007,Morgan_bit1008,Morgan_bit1009,Morgan_bit1010,Morgan_bit1011,Morgan_bit1012,Morgan_bit1013,Morgan_bit1014,Morgan_bit1015,Morgan_bit1016,Morgan_bit1017,Morgan_bit1018,Morgan_bit1019,Morgan_bit1020,Morgan_bit1021,Morgan_bit1022,Morgan_bit1023,Morgan_bit1024,Morgan_bit1025,Morgan_bit1026,Morgan_bit1027,Morgan_bit1028,Morgan_bit1029,Morgan_bit1030,Morgan_bit1031,Morgan_bit1032,Morgan_bit1033,Morgan_bit1034,Morgan_bit1035,Morgan_bit1036,Morgan_bit1037,Morgan_bit1038,Morgan_bit1039,Morgan_bit1040,Morgan_bit1041,Morgan_bit1042,Morgan_bit1043,Morgan_bit1044,Morgan_bit1045,Morgan_bit1046,Morgan_bit1047,Morgan_bit1048,Morgan_bit1049,Morgan_bit1050,Morgan_bit1051,Morgan_bit1052,Morgan_bit1053,Morgan_bit1054,Morgan_bit1055,Morgan_bit1056,Morgan_bit1057,Morgan_bit1058,Morgan_bit1059,Morgan_bit1060,Morgan_bit1061,Morgan_bit1062,Morgan_bit1063,Morgan_bit1064,Morgan_bit1065,Morgan_bit1066,Morgan_bit1067,Morgan_bit1068,Morgan_bit1069,Morgan_bit1070,Morgan_bit1071,Morgan_bit1072,Morgan_bit1073,Morgan_bit1074,Morgan_bit1075,Morgan_bit1076,Morgan_bit1077,Morgan_bit1078,Morgan_bit1079,Morgan_bit1080,Morgan_bit1081,Morgan_bit1082,Morgan_bit1083,Morgan_bit1084,Morgan_bit1085,Morgan_bit1086,Morgan_bit1087,Morgan_bit1088,Morgan_bit1089,Morgan_bit1090,Morgan_bit1091,Morgan_bit1092,Morgan_bit1093,Morgan_bit1094,Morgan_bit1095,Morgan_bit1096,Morgan_bit1097,Morgan_bit1098,Morgan_bit1099,Morgan_bit1100,Morgan_bit1101,Morgan_bit1102,Morgan_bit1103,Morgan_bit1104,Morgan_bit1105,Morgan_bit1106,Morgan_bit1107,Morgan_bit1108,Morgan_bit1109,Morgan_bit1110,Morgan_bit1111,Morgan_bit1112,Morgan_bit1113,Morgan_bit1114,Morgan_bit1115,Morgan_bit1116,Morgan_bit1117,Morgan_bit1118,Morgan_bit1119,Morgan_bit1120,Morgan_bit1121,Morgan_bit1122,Morgan_bit1123,Morgan_bit1124,Morgan_bit1125,Morgan_bit1126,Morgan_bit1127,Morgan_bit1128,Morgan_bit1129,Morgan_bit1130,Morgan_bit1131,Morgan_bit1132,Morgan_bit1133,Morgan_bit1134,Morgan_bit1135,Morgan_bit1136,Morgan_bit1137,Morgan_bit1138,Morgan_bit1139,Morgan_bit1140,Morgan_bit1141,Morgan_bit1142,Morgan_bit1143,Morgan_bit1144,Morgan_bit1145,Morgan_bit1146,Morgan_bit1147,Morgan_bit1148,Morgan_bit1149,Morgan_bit1150,Morgan_bit1151,Morgan_bit1152,Morgan_bit1153,Morgan_bit1154,Morgan_bit1155,Morgan_bit1156,Morgan_bit1157,Morgan_bit1158,Morgan_bit1159,Morgan_bit1160,Morgan_bit1161,Morgan_bit1162,Morgan_bit1163,Morgan_bit1164,Morgan_bit1165,Morgan_bit1166,Morgan_bit1167,Morgan_bit1168,Morgan_bit1169,Morgan_bit1170,Morgan_bit1171,Morgan_bit1172,Morgan_bit1173,Morgan_bit1174,Morgan_bit1175,Morgan_bit1176,Morgan_bit1177,Morgan_bit1178,Morgan_bit1179,Morgan_bit1180,Morgan_bit1181,Morgan_bit1182,Morgan_bit1183,Morgan_bit1184,Morgan_bit1185,Morgan_bit1186,Morgan_bit1187,Morgan_bit1188,Morgan_bit1189,Morgan_bit1190,Morgan_bit1191,Morgan_bit1192,Morgan_bit1193,Morgan_bit1194,Morgan_bit1195,Morgan_bit1196,Morgan_bit1197,Morgan_bit1198,Morgan_bit1199,Morgan_bit1200,Morgan_bit1201,Morgan_bit1202,Morgan_bit1203,Morgan_bit1204,Morgan_bit1205,Morgan_bit1206,Morgan_bit1207,Morgan_bit1208,Morgan_bit1209,Morgan_bit1210,Morgan_bit1211,Morgan_bit1212,Morgan_bit1213,Morgan_bit1214,Morgan_bit1215,Morgan_bit1216,Morgan_bit1217,Morgan_bit1218,Morgan_bit1219,Morgan_bit1220,Morgan_bit1221,Morgan_bit1222,Morgan_bit1223,Morgan_bit1224,Morgan_bit1225,Morgan_bit1226,Morgan_bit1227,Morgan_bit1228,Morgan_bit1229,Morgan_bit1230,Morgan_bit1231,Morgan_bit1232,Morgan_bit1233,Morgan_bit1234,Morgan_bit1235,Morgan_bit1236,Morgan_bit1237,Morgan_bit1238,Morgan_bit1239,Morgan_bit1240,Morgan_bit1241,Morgan_bit1242,Morgan_bit1243,Morgan_bit1244,Morgan_bit1245,Morgan_bit1246,Morgan_bit1247,Morgan_bit1248,Morgan_bit1249,Morgan_bit1250,Morgan_bit1251,Morgan_bit1252,Morgan_bit1253,Morgan_bit1254,Morgan_bit1255,Morgan_bit1256,Morgan_bit1257,Morgan_bit1258,Morgan_bit1259,Morgan_bit1260,Morgan_bit1261,Morgan_bit1262,Morgan_bit1263,Morgan_bit1264,Morgan_bit1265,Morgan_bit1266,Morgan_bit1267,Morgan_bit1268,Morgan_bit1269,Morgan_bit1270,Morgan_bit1271,Morgan_bit1272,Morgan_bit1273,Morgan_bit1274,Morgan_bit1275,Morgan_bit1276,Morgan_bit1277,Morgan_bit1278,Morgan_bit1279,Morgan_bit1280,Morgan_bit1281,Morgan_bit1282,Morgan_bit1283,Morgan_bit1284,Morgan_bit1285,Morgan_bit1286,Morgan_bit1287,Morgan_bit1288,Morgan_bit1289,Morgan_bit1290,Morgan_bit1291,Morgan_bit1292,Morgan_bit1293,Morgan_bit1294,Morgan_bit1295,Morgan_bit1296,Morgan_bit1297,Morgan_bit1298,Morgan_bit1299,Morgan_bit1300,Morgan_bit1301,Morgan_bit1302,Morgan_bit1303,Morgan_bit1304,Morgan_bit1305,Morgan_bit1306,Morgan_bit1307,Morgan_bit1308,Morgan_bit1309,Morgan_bit1310,Morgan_bit1311,Morgan_bit1312,Morgan_bit1313,Morgan_bit1314,Morgan_bit1315,Morgan_bit1316,Morgan_bit1317,Morgan_bit1318,Morgan_bit1319,Morgan_bit1320,Morgan_bit1321,Morgan_bit1322,Morgan_bit1323,Morgan_bit1324,Morgan_bit1325,Morgan_bit1326,Morgan_bit1327,Morgan_bit1328,Morgan_bit1329,Morgan_bit1330,Morgan_bit1331,Morgan_bit1332,Morgan_bit1333,Morgan_bit1334,Morgan_bit1335,Morgan_bit1336,Morgan_bit1337,Morgan_bit1338,Morgan_bit1339,Morgan_bit1340,Morgan_bit1341,Morgan_bit1342,Morgan_bit1343,Morgan_bit1344,Morgan_bit1345,Morgan_bit1346,Morgan_bit1347,Morgan_bit1348,Morgan_bit1349,Morgan_bit1350,Morgan_bit1351,Morgan_bit1352,Morgan_bit1353,Morgan_bit1354,Morgan_bit1355,Morgan_bit1356,Morgan_bit1357,Morgan_bit1358,Morgan_bit1359,Morgan_bit1360,Morgan_bit1361,Morgan_bit1362,Morgan_bit1363,Morgan_bit1364,Morgan_bit1365,Morgan_bit1366,Morgan_bit1367,Morgan_bit1368,Morgan_bit1369,Morgan_bit1370,Morgan_bit1371,Morgan_bit1372,Morgan_bit1373,Morgan_bit1374,Morgan_bit1375,Morgan_bit1376,Morgan_bit1377,Morgan_bit1378,Morgan_bit1379,Morgan_bit1380,Morgan_bit1381,Morgan_bit1382,Morgan_bit1383,Morgan_bit1384,Morgan_bit1385,Morgan_bit1386,Morgan_bit1387,Morgan_bit1388,Morgan_bit1389,Morgan_bit1390,Morgan_bit1391,Morgan_bit1392,Morgan_bit1393,Morgan_bit1394,Morgan_bit1395,Morgan_bit1396,Morgan_bit1397,Morgan_bit1398,Morgan_bit1399,Morgan_bit1400,Morgan_bit1401,Morgan_bit1402,Morgan_bit1403,Morgan_bit1404,Morgan_bit1405,Morgan_bit1406,Morgan_bit1407,Morgan_bit1408,Morgan_bit1409,Morgan_bit1410,Morgan_bit1411,Morgan_bit1412,Morgan_bit1413,Morgan_bit1414,Morgan_bit1415,Morgan_bit1416,Morgan_bit1417,Morgan_bit1418,Morgan_bit1419,Morgan_bit1420,Morgan_bit1421,Morgan_bit1422,Morgan_bit1423,Morgan_bit1424,Morgan_bit1425,Morgan_bit1426,Morgan_bit1427,Morgan_bit1428,Morgan_bit1429,Morgan_bit1430,Morgan_bit1431,Morgan_bit1432,Morgan_bit1433,Morgan_bit1434,Morgan_bit1435,Morgan_bit1436,Morgan_bit1437,Morgan_bit1438,Morgan_bit1439,Morgan_bit1440,Morgan_bit1441,Morgan_bit1442,Morgan_bit1443,Morgan_bit1444,Morgan_bit1445,Morgan_bit1446,Morgan_bit1447,Morgan_bit1448,Morgan_bit1449,Morgan_bit1450,Morgan_bit1451,Morgan_bit1452,Morgan_bit1453,Morgan_bit1454,Morgan_bit1455,Morgan_bit1456,Morgan_bit1457,Morgan_bit1458,Morgan_bit1459,Morgan_bit1460,Morgan_bit1461,Morgan_bit1462,Morgan_bit1463,Morgan_bit1464,Morgan_bit1465,Morgan_bit1466,Morgan_bit1467,Morgan_bit1468,Morgan_bit1469,Morgan_bit1470,Morgan_bit1471,Morgan_bit1472,Morgan_bit1473,Morgan_bit1474,Morgan_bit1475,Morgan_bit1476,Morgan_bit1477,Morgan_bit1478,Morgan_bit1479,Morgan_bit1480,Morgan_bit1481,Morgan_bit1482,Morgan_bit1483,Morgan_bit1484,Morgan_bit1485,Morgan_bit1486,Morgan_bit1487,Morgan_bit1488,Morgan_bit1489,Morgan_bit1490,Morgan_bit1491,Morgan_bit1492,Morgan_bit1493,Morgan_bit1494,Morgan_bit1495,Morgan_bit1496,Morgan_bit1497,Morgan_bit1498,Morgan_bit1499,Morgan_bit1500,Morgan_bit1501,Morgan_bit1502,Morgan_bit1503,Morgan_bit1504,Morgan_bit1505,Morgan_bit1506,Morgan_bit1507,Morgan_bit1508,Morgan_bit1509,Morgan_bit1510,Morgan_bit1511,Morgan_bit1512,Morgan_bit1513,Morgan_bit1514,Morgan_bit1515,Morgan_bit1516,Morgan_bit1517,Morgan_bit1518,Morgan_bit1519,Morgan_bit1520,Morgan_bit1521,Morgan_bit1522,Morgan_bit1523,Morgan_bit1524,Morgan_bit1525,Morgan_bit1526,Morgan_bit1527,Morgan_bit1528,Morgan_bit1529,Morgan_bit1530,Morgan_bit1531,Morgan_bit1532,Morgan_bit1533,Morgan_bit1534,Morgan_bit1535,Morgan_bit1536,Morgan_bit1537,Morgan_bit1538,Morgan_bit1539,Morgan_bit1540,Morgan_bit1541,Morgan_bit1542,Morgan_bit1543,Morgan_bit1544,Morgan_bit1545,Morgan_bit1546,Morgan_bit1547,Morgan_bit1548,Morgan_bit1549,Morgan_bit1550,Morgan_bit1551,Morgan_bit1552,Morgan_bit1553,Morgan_bit1554,Morgan_bit1555,Morgan_bit1556,Morgan_bit1557,Morgan_bit1558,Morgan_bit1559,Morgan_bit1560,Morgan_bit1561,Morgan_bit1562,Morgan_bit1563,Morgan_bit1564,Morgan_bit1565,Morgan_bit1566,Morgan_bit1567,Morgan_bit1568,Morgan_bit1569,Morgan_bit1570,Morgan_bit1571,Morgan_bit1572,Morgan_bit1573,Morgan_bit1574,Morgan_bit1575,Morgan_bit1576,Morgan_bit1577,Morgan_bit1578,Morgan_bit1579,Morgan_bit1580,Morgan_bit1581,Morgan_bit1582,Morgan_bit1583,Morgan_bit1584,Morgan_bit1585,Morgan_bit1586,Morgan_bit1587,Morgan_bit1588,Morgan_bit1589,Morgan_bit1590,Morgan_bit1591,Morgan_bit1592,Morgan_bit1593,Morgan_bit1594,Morgan_bit1595,Morgan_bit1596,Morgan_bit1597,Morgan_bit1598,Morgan_bit1599,Morgan_bit1600,Morgan_bit1601,Morgan_bit1602,Morgan_bit1603,Morgan_bit1604,Morgan_bit1605,Morgan_bit1606,Morgan_bit1607,Morgan_bit1608,Morgan_bit1609,Morgan_bit1610,Morgan_bit1611,Morgan_bit1612,Morgan_bit1613,Morgan_bit1614,Morgan_bit1615,Morgan_bit1616,Morgan_bit1617,Morgan_bit1618,Morgan_bit1619,Morgan_bit1620,Morgan_bit1621,Morgan_bit1622,Morgan_bit1623,Morgan_bit1624,Morgan_bit1625,Morgan_bit1626,Morgan_bit1627,Morgan_bit1628,Morgan_bit1629,Morgan_bit1630,Morgan_bit1631,Morgan_bit1632,Morgan_bit1633,Morgan_bit1634,Morgan_bit1635,Morgan_bit1636,Morgan_bit1637,Morgan_bit1638,Morgan_bit1639,Morgan_bit1640,Morgan_bit1641,Morgan_bit1642,Morgan_bit1643,Morgan_bit1644,Morgan_bit1645,Morgan_bit1646,Morgan_bit1647,Morgan_bit1648,Morgan_bit1649,Morgan_bit1650,Morgan_bit1651,Morgan_bit1652,Morgan_bit1653,Morgan_bit1654,Morgan_bit1655,Morgan_bit1656,Morgan_bit1657,Morgan_bit1658,Morgan_bit1659,Morgan_bit1660,Morgan_bit1661,Morgan_bit1662,Morgan_bit1663,Morgan_bit1664,Morgan_bit1665,Morgan_bit1666,Morgan_bit1667,Morgan_bit1668,Morgan_bit1669,Morgan_bit1670,Morgan_bit1671,Morgan_bit1672,Morgan_bit1673,Morgan_bit1674,Morgan_bit1675,Morgan_bit1676,Morgan_bit1677,Morgan_bit1678,Morgan_bit1679,Morgan_bit1680,Morgan_bit1681,Morgan_bit1682,Morgan_bit1683,Morgan_bit1684,Morgan_bit1685,Morgan_bit1686,Morgan_bit1687,Morgan_bit1688,Morgan_bit1689,Morgan_bit1690,Morgan_bit1691,Morgan_bit1692,Morgan_bit1693,Morgan_bit1694,Morgan_bit1695,Morgan_bit1696,Morgan_bit1697,Morgan_bit1698,Morgan_bit1699,Morgan_bit1700,Morgan_bit1701,Morgan_bit1702,Morgan_bit1703,Morgan_bit1704,Morgan_bit1705,Morgan_bit1706,Morgan_bit1707,Morgan_bit1708,Morgan_bit1709,Morgan_bit1710,Morgan_bit1711,Morgan_bit1712,Morgan_bit1713,Morgan_bit1714,Morgan_bit1715,Morgan_bit1716,Morgan_bit1717,Morgan_bit1718,Morgan_bit1719,Morgan_bit1720,Morgan_bit1721,Morgan_bit1722,Morgan_bit1723,Morgan_bit1724,Morgan_bit1725,Morgan_bit1726,Morgan_bit1727,Morgan_bit1728,Morgan_bit1729,Morgan_bit1730,Morgan_bit1731,Morgan_bit1732,Morgan_bit1733,Morgan_bit1734,Morgan_bit1735,Morgan_bit1736,Morgan_bit1737,Morgan_bit1738,Morgan_bit1739,Morgan_bit1740,Morgan_bit1741,Morgan_bit1742,Morgan_bit1743,Morgan_bit1744,Morgan_bit1745,Morgan_bit1746,Morgan_bit1747,Morgan_bit1748,Morgan_bit1749,Morgan_bit1750,Morgan_bit1751,Morgan_bit1752,Morgan_bit1753,Morgan_bit1754,Morgan_bit1755,Morgan_bit1756,Morgan_bit1757,Morgan_bit1758,Morgan_bit1759,Morgan_bit1760,Morgan_bit1761,Morgan_bit1762,Morgan_bit1763,Morgan_bit1764,Morgan_bit1765,Morgan_bit1766,Morgan_bit1767,Morgan_bit1768,Morgan_bit1769,Morgan_bit1770,Morgan_bit1771,Morgan_bit1772,Morgan_bit1773,Morgan_bit1774,Morgan_bit1775,Morgan_bit1776,Morgan_bit1777,Morgan_bit1778,Morgan_bit1779,Morgan_bit1780,Morgan_bit1781,Morgan_bit1782,Morgan_bit1783,Morgan_bit1784,Morgan_bit1785,Morgan_bit1786,Morgan_bit1787,Morgan_bit1788,Morgan_bit1789,Morgan_bit1790,Morgan_bit1791,Morgan_bit1792,Morgan_bit1793,Morgan_bit1794,Morgan_bit1795,Morgan_bit1796,Morgan_bit1797,Morgan_bit1798,Morgan_bit1799,Morgan_bit1800,Morgan_bit1801,Morgan_bit1802,Morgan_bit1803,Morgan_bit1804,Morgan_bit1805,Morgan_bit1806,Morgan_bit1807,Morgan_bit1808,Morgan_bit1809,Morgan_bit1810,Morgan_bit1811,Morgan_bit1812,Morgan_bit1813,Morgan_bit1814,Morgan_bit1815,Morgan_bit1816,Morgan_bit1817,Morgan_bit1818,Morgan_bit1819,Morgan_bit1820,Morgan_bit1821,Morgan_bit1822,Morgan_bit1823,Morgan_bit1824,Morgan_bit1825,Morgan_bit1826,Morgan_bit1827,Morgan_bit1828,Morgan_bit1829,Morgan_bit1830,Morgan_bit1831,Morgan_bit1832,Morgan_bit1833,Morgan_bit1834,Morgan_bit1835,Morgan_bit1836,Morgan_bit1837,Morgan_bit1838,Morgan_bit1839,Morgan_bit1840,Morgan_bit1841,Morgan_bit1842,Morgan_bit1843,Morgan_bit1844,Morgan_bit1845,Morgan_bit1846,Morgan_bit1847,Morgan_bit1848,Morgan_bit1849,Morgan_bit1850,Morgan_bit1851,Morgan_bit1852,Morgan_bit1853,Morgan_bit1854,Morgan_bit1855,Morgan_bit1856,Morgan_bit1857,Morgan_bit1858,Morgan_bit1859,Morgan_bit1860,Morgan_bit1861,Morgan_bit1862,Morgan_bit1863,Morgan_bit1864,Morgan_bit1865,Morgan_bit1866,Morgan_bit1867,Morgan_bit1868,Morgan_bit1869,Morgan_bit1870,Morgan_bit1871,Morgan_bit1872,Morgan_bit1873,Morgan_bit1874,Morgan_bit1875,Morgan_bit1876,Morgan_bit1877,Morgan_bit1878,Morgan_bit1879,Morgan_bit1880,Morgan_bit1881,Morgan_bit1882,Morgan_bit1883,Morgan_bit1884,Morgan_bit1885,Morgan_bit1886,Morgan_bit1887,Morgan_bit1888,Morgan_bit1889,Morgan_bit1890,Morgan_bit1891,Morgan_bit1892,Morgan_bit1893,Morgan_bit1894,Morgan_bit1895,Morgan_bit1896,Morgan_bit1897,Morgan_bit1898,Morgan_bit1899,Morgan_bit1900,Morgan_bit1901,Morgan_bit1902,Morgan_bit1903,Morgan_bit1904,Morgan_bit1905,Morgan_bit1906,Morgan_bit1907,Morgan_bit1908,Morgan_bit1909,Morgan_bit1910,Morgan_bit1911,Morgan_bit1912,Morgan_bit1913,Morgan_bit1914,Morgan_bit1915,Morgan_bit1916,Morgan_bit1917,Morgan_bit1918,Morgan_bit1919,Morgan_bit1920,Morgan_bit1921,Morgan_bit1922,Morgan_bit1923,Morgan_bit1924,Morgan_bit1925,Morgan_bit1926,Morgan_bit1927,Morgan_bit1928,Morgan_bit1929,Morgan_bit1930,Morgan_bit1931,Morgan_bit1932,Morgan_bit1933,Morgan_bit1934,Morgan_bit1935,Morgan_bit1936,Morgan_bit1937,Morgan_bit1938,Morgan_bit1939,Morgan_bit1940,Morgan_bit1941,Morgan_bit1942,Morgan_bit1943,Morgan_bit1944,Morgan_bit1945,Morgan_bit1946,Morgan_bit1947,Morgan_bit1948,Morgan_bit1949,Morgan_bit1950,Morgan_bit1951,Morgan_bit1952,Morgan_bit1953,Morgan_bit1954,Morgan_bit1955,Morgan_bit1956,Morgan_bit1957,Morgan_bit1958,Morgan_bit1959,Morgan_bit1960,Morgan_bit1961,Morgan_bit1962,Morgan_bit1963,Morgan_bit1964,Morgan_bit1965,Morgan_bit1966,Morgan_bit1967,Morgan_bit1968,Morgan_bit1969,Morgan_bit1970,Morgan_bit1971,Morgan_bit1972,Morgan_bit1973,Morgan_bit1974,Morgan_bit1975,Morgan_bit1976,Morgan_bit1977,Morgan_bit1978,Morgan_bit1979,Morgan_bit1980,Morgan_bit1981,Morgan_bit1982,Morgan_bit1983,Morgan_bit1984,Morgan_bit1985,Morgan_bit1986,Morgan_bit1987,Morgan_bit1988,Morgan_bit1989,Morgan_bit1990,Morgan_bit1991,Morgan_bit1992,Morgan_bit1993,Morgan_bit1994,Morgan_bit1995,Morgan_bit1996,Morgan_bit1997,Morgan_bit1998,Morgan_bit1999,Morgan_bit2000,Morgan_bit2001,Morgan_bit2002,Morgan_bit2003,Morgan_bit2004,Morgan_bit2005,Morgan_bit2006,Morgan_bit2007,Morgan_bit2008,Morgan_bit2009,Morgan_bit2010,Morgan_bit2011,Morgan_bit2012,Morgan_bit2013,Morgan_bit2014,Morgan_bit2015,Morgan_bit2016,Morgan_bit2017,Morgan_bit2018,Morgan_bit2019,Morgan_bit2020,Morgan_bit2021,Morgan_bit2022,Morgan_bit2023,Morgan_bit2024,Morgan_bit2025,Morgan_bit2026,Morgan_bit2027,Morgan_bit2028,Morgan_bit2029,Morgan_bit2030,Morgan_bit2031,Morgan_bit2032,Morgan_bit2033,Morgan_bit2034,Morgan_bit2035,Morgan_bit2036,Morgan_bit2037,Morgan_bit2038,Morgan_bit2039,Morgan_bit2040,Morgan_bit2041,Morgan_bit2042,Morgan_bit2043,Morgan_bit2044,Morgan_bit2045,Morgan_bit2046,Morgan_bit2047\n",
      "NCGC00373801-01,c1cc(cc(c1)c2cccs2)C[NH3+],-9.1241,0,0,0,0,0,0,0,0,0,0,0,0,0,0,1,0,0,1,0,0,0,0,0,0,0,0,0,0,0,0,0,0,0,0,0,0,0,0,0,0,0,0,0,0,0,0,0,0,0,0,0,0,0,0,0,0,0,0,0,0,0,0,1,0,0,0,0,0,0,0,0,0,0,0,0,0,0,0,0,0,1,0,0,0,0,0,0,0,0,0,0,0,0,0,0,0,0,0,0,0,0,0,0,0,0,0,0,0,0,0,0,0,0,0,1,0,0,0,0,0,0,0,0,0,0,0,0,0,0,0,0,0,0,0,0,0,0,0,0,0,0,0,0,0,0,0,0,0,0,0,0,0,0,0,0,0,0,0,0,0,0,0,0,0,0,0,0,0,0,0,0,0,0,0,0,0,0,0,0,0,0,0,0,0,0,0,0,0,0,0,0,0,0,0,0,0,0,0,0,0,0,0,0,0,0,0,0,0,0,0,0,0,0,0,0,0,0,1,0,0,0,0,0,0,0,0,0,0,0,0,0,0,0,0,0,0,0,0,0,0,0,1,0,0,0,0,0,0,0,0,0,0,0,0,0,0,0,0,0,0,0,0,0,0,0,0,0,0,0,0,0,0,0,0,0,0,0,0,0,0,0,0,0,0,0,0,0,0,0,0,0,0,0,0,0,0,0,0,0,0,0,0,0,0,0,0,0,0,0,0,0,0,0,0,0,0,0,0,0,0,0,0,0,0,0,0,0,0,0,0,0,0,0,0,0,0,0,0,0,0,0,0,0,0,0,0,0,0,0,0,0,0,0,0,0,0,0,0,0,0,0,0,1,0,0,0,0,0,0,0,0,0,0,0,0,0,0,0,0,0,0,0,0,1,0,0,0,0,0,0,0,0,0,0,0,0,0,1,0,0,0,0,0,0,0,0,0,0,0,0,0,0,0,0,0,0,0,0,0,0,0,0,0,0,0,0,0,0,0,0,0,0,0,0,0,0,0,0,0,0,0,0,0,0,0,0,0,0,0,0,0,0,0,0,0,0,0,0,0,0,0,0,0,0,0,0,0,0,0,0,0,0,0,0,0,0,0,0,0,0,0,0,0,0,0,0,0,0,0,0,0,0,0,0,0,0,0,0,0,0,0,0,0,0,0,0,0,0,0,0,0,0,0,0,0,0,0,0,0,0,0,0,0,0,0,0,0,0,0,0,0,0,0,0,0,0,0,0,0,0,0,0,0,0,0,0,0,0,0,0,0,0,0,0,0,0,0,0,0,0,0,0,0,0,0,0,0,0,0,0,0,0,0,0,0,0,0,0,0,0,0,0,0,0,0,0,0,0,0,0,0,0,0,0,0,0,0,0,0,1,0,0,0,0,0,0,0,0,0,0,0,0,0,0,0,0,0,0,0,0,0,0,0,0,0,0,0,0,0,0,0,0,0,0,0,0,0,0,0,0,0,0,0,0,0,0,0,0,0,0,0,0,0,0,0,0,0,0,0,0,0,0,0,0,0,0,0,0,0,0,0,0,0,0,0,1,0,0,0,0,0,0,0,0,0,0,0,0,0,0,0,0,0,0,0,0,0,0,0,0,0,0,0,0,0,0,0,0,0,0,0,0,0,0,0,0,0,0,0,0,0,0,0,0,0,0,1,0,0,0,0,0,0,0,0,0,1,0,0,0,0,0,0,0,0,0,0,0,0,0,0,0,0,0,0,0,0,0,0,0,0,0,0,0,0,0,0,0,0,0,0,0,0,0,0,0,0,0,0,0,0,1,0,0,0,0,0,0,0,0,0,0,0,0,0,0,0,0,0,0,0,0,0,0,0,0,0,0,0,0,0,0,0,0,0,0,0,0,0,0,0,0,0,0,0,0,0,0,0,0,0,0,0,0,0,0,0,0,0,0,0,0,0,0,0,0,0,0,0,0,0,0,0,0,0,0,0,0,0,0,0,0,0,0,0,0,0,0,0,0,0,0,0,0,0,1,0,0,0,0,0,0,0,0,0,0,0,0,0,0,0,0,0,0,0,0,0,0,0,0,0,0,0,0,0,0,0,0,0,0,0,0,0,0,0,0,0,0,0,0,0,0,0,0,0,0,0,0,0,0,0,0,0,0,0,0,0,0,0,0,0,0,0,0,0,0,0,0,0,0,0,0,0,0,0,0,0,0,0,0,0,0,0,0,0,0,0,0,0,0,0,0,0,0,0,0,0,0,0,0,0,0,0,0,0,0,0,0,0,0,0,0,0,0,0,0,0,0,0,0,0,0,0,0,0,0,0,0,0,0,0,0,0,0,0,0,0,0,0,0,0,0,0,0,0,0,0,0,0,0,0,0,0,0,0,0,0,0,0,1,0,0,0,0,0,0,0,0,0,0,0,0,0,0,0,0,0,0,0,0,0,0,0,0,0,0,1,0,0,0,0,0,0,0,0,0,0,0,0,0,0,0,0,0,0,0,0,0,1,0,0,0,0,0,0,0,0,0,0,0,0,0,0,1,0,0,0,0,0,0,0,0,0,0,1,0,0,0,0,0,0,0,0,0,0,0,0,0,0,0,0,0,0,0,0,0,0,0,0,0,0,0,0,0,0,0,0,0,0,0,0,0,0,0,0,0,0,0,0,0,1,0,0,0,0,0,0,0,0,0,0,0,0,0,0,0,0,0,0,0,0,0,0,0,0,0,0,0,0,0,0,0,0,0,0,0,0,0,0,0,0,0,0,0,0,0,0,0,0,0,0,0,0,0,0,0,0,0,0,0,0,0,0,0,0,0,0,0,0,0,0,0,0,0,0,0,0,0,0,0,0,0,0,0,0,0,0,0,0,0,0,0,0,0,0,0,0,0,0,0,0,0,0,0,0,0,0,0,0,0,0,0,0,0,0,0,0,0,0,0,0,0,0,0,0,0,0,0,0,0,0,0,0,0,0,0,0,0,0,0,0,0,0,0,0,0,0,0,0,0,0,0,0,0,0,0,0,0,0,0,0,0,0,0,0,0,0,0,0,0,0,0,0,0,0,0,0,0,0,0,0,0,1,0,0,0,0,0,0,0,0,0,0,0,0,0,0,0,0,0,0,0,0,0,0,0,0,0,0,0,0,0,0,0,0,0,0,1,0,0,1,0,0,0,0,0,0,0,0,0,0,0,0,0,0,0,0,0,0,0,0,0,0,0,0,0,0,0,0,0,0,0,0,0,0,0,0,0,0,1,0,0,0,0,0,0,0,0,0,0,0,0,0,0,0,0,0,0,0,0,0,0,0,0,0,0,1,0,0,0,0,0,0,0,0,0,0,0,0,0,0,0,0,0,0,0,0,0,0,0,0,0,0,0,0,0,0,0,0,0,0,0,0,0,0,0,0,0,0,0,0,0,0,0,0,0,0,0,0,0,0,0,0,0,0,0,0,0,0,0,0,0,0,0,0,0,0,0,0,0,0,0,0,0,0,0,0,0,0,0,0,0,0,0,0,0,0,0,0,0,0,0,0,0,0,0,0,0,0,0,0,0,0,0,0,0,0,0,0,0,0,0,0,0,0,0,0,1,0,0,0,0,0,0,0,0,0,0,1,0,0,0,0,0,0,0,0,0,0,0,0,0,0,0,0,1,0,0,0,0,0,0,0,0,0,0,0,0,0,0,1,0,0,0,0,0,0,0,0,0,0,0,0,0,0,0,0,0,0,0,0,0,0,0,0,0,0,0,0,0,0,0,0,0,0,0,0,0,0,0,0,0,0,1,0,0,0,0,0,0,0,0,0,0,0,0,0,0,0,0,0,0,0,0,0,0,0,0,0,0,0,0,0,0,0,0,0,0,0,0,0,0,0,0,0,0,0,0,0,0,0,0,0,0,0,0,0,0,0,0,0,0,0,0,0,0,0,0,0,0,0,0,0,0,0,0,0,0,0,0,0,0,0,0,0,0,0,0,0,0,0,0,0,0,0,0,0,0,0,0,1,0,0,0,1,0,0,0,0,0,0,0,0,0,0,0,0,0,0,0,0,0,0,0,0,0,0,0,0,0,0,0,0,0,0,0,0,0,0,0,0,0,0,0,0,0,0,0,0,0,0,0,0,0,0,0,0,0,0,0,0,0,0,0,0,0,0,0,0,0,0,0,0,0,0,0,0,0,0,0,0,0,0,0,0,0,0,0,0,0,0,0,0,0,0,0,0,0,0,0,0,0,0,0,0,0,0,0,0,0,0,0,0,0,0,0,0,0,0,0,0,0,0,1,0,0,0,0,1,0,0,0,0,0,0,0,0,0,0,0,0,0,0,0,0,0,0,0,0,0,0,0,0,0,0,0,0,0,0,0,0,0,0,0,0,0,0,0,0,0,0,0,0,0,0,0,0,0,0,0,0,0,0,0,0,0,0,0,0,0,0,0,0,0,0,0,0,0,0,0,0,0,0,0,0,0,0,0,0,0,0,0,0,0,0,0,0,0,0,0,0,0,0,0,0,0,0,0,0,0,0,0,0,0,0,0,0,0,0,0,0,0,0,0,0,0,0,0,0,0,0,0,0,0,0,0,0,0,0,0,0,0,0,0,0,0,0,0,0,0,0,0,0,0,0,0,0,0,0,0,0,0,0,0,0,0,0,0,0,0,0,0,0,0,0,0,0,0\n"
     ]
    }
   ],
   "source": [
    "!head -n 2 round0_100_train_cmpds.csv"
   ]
  },
  {
   "cell_type": "code",
   "execution_count": 16,
   "id": "5933bc60-234b-4004-88e2-27f75cd23d84",
   "metadata": {},
   "outputs": [],
   "source": [
    "# Train our model using this training file.\n",
    "csv_file_path = 'round0_100_train_cmpds.csv'\n",
    "trained_gpr = train_gpr_model(csv_file_path)\n"
   ]
  },
  {
   "cell_type": "code",
   "execution_count": 17,
   "id": "d2de6630-4958-49ca-b32c-173cc1868a98",
   "metadata": {},
   "outputs": [
    {
     "name": "stdout",
     "output_type": "stream",
     "text": [
      "Compounds removed and remaining compounds saved to round0_100_test_cmpds.csv\n"
     ]
    }
   ],
   "source": [
    "# Remove the training data from the overall Nanoluc library\n",
    "# Save the remainder of compounds as test set\n",
    "input_csv_path = '../../../docked_ecfp.csv'\n",
    "compounds_to_remove_csv_path = 'round0_100_train_cmpds.csv'\n",
    "output_csv_path = 'round0_100_test_cmpds.csv'\n",
    "\n",
    "remove_train_compounds(input_csv_path, compounds_to_remove_csv_path, output_csv_path)\n"
   ]
  },
  {
   "cell_type": "code",
   "execution_count": 18,
   "id": "969f20ce-b51b-43a6-9a3b-3531b37ecc18",
   "metadata": {},
   "outputs": [],
   "source": [
    "# Predict on the test set\n",
    "csv_file_to_predict = 'round0_100_test_cmpds.csv'\n",
    "output_csv_file = 'round0_100_predicted_results.csv'\n",
    "predict_and_save_results(trained_gpr, csv_file_to_predict, output_csv_file)\n"
   ]
  },
  {
   "cell_type": "code",
   "execution_count": 19,
   "id": "1b980654-cebb-4a0d-b789-3c15dabadabe",
   "metadata": {},
   "outputs": [],
   "source": [
    "# Choose the next random subset of compounds from the test set\n",
    "docked_file_path = 'round0_100_test_cmpds.csv'\n",
    "output_csv_path = 'round1_100_cmpds.csv'\n",
    "subset_size_to_select = 100  # Set the desired subset size\n",
    "\n",
    "# Call the function\n",
    "random_strategy(docked_file_path, output_csv_path, subset_size=subset_size_to_select)\n"
   ]
  },
  {
   "cell_type": "code",
   "execution_count": 20,
   "id": "447ccce3-5ef0-494f-ab94-337873afcb1c",
   "metadata": {},
   "outputs": [
    {
     "name": "stdout",
     "output_type": "stream",
     "text": [
      "Name,SMILES,Morgan_bit0,Morgan_bit1,Morgan_bit2,Morgan_bit3,Morgan_bit4,Morgan_bit5,Morgan_bit6,Morgan_bit7,Morgan_bit8,Morgan_bit9,Morgan_bit10,Morgan_bit11,Morgan_bit12,Morgan_bit13,Morgan_bit14,Morgan_bit15,Morgan_bit16,Morgan_bit17,Morgan_bit18,Morgan_bit19,Morgan_bit20,Morgan_bit21,Morgan_bit22,Morgan_bit23,Morgan_bit24,Morgan_bit25,Morgan_bit26,Morgan_bit27,Morgan_bit28,Morgan_bit29,Morgan_bit30,Morgan_bit31,Morgan_bit32,Morgan_bit33,Morgan_bit34,Morgan_bit35,Morgan_bit36,Morgan_bit37,Morgan_bit38,Morgan_bit39,Morgan_bit40,Morgan_bit41,Morgan_bit42,Morgan_bit43,Morgan_bit44,Morgan_bit45,Morgan_bit46,Morgan_bit47,Morgan_bit48,Morgan_bit49,Morgan_bit50,Morgan_bit51,Morgan_bit52,Morgan_bit53,Morgan_bit54,Morgan_bit55,Morgan_bit56,Morgan_bit57,Morgan_bit58,Morgan_bit59,Morgan_bit60,Morgan_bit61,Morgan_bit62,Morgan_bit63,Morgan_bit64,Morgan_bit65,Morgan_bit66,Morgan_bit67,Morgan_bit68,Morgan_bit69,Morgan_bit70,Morgan_bit71,Morgan_bit72,Morgan_bit73,Morgan_bit74,Morgan_bit75,Morgan_bit76,Morgan_bit77,Morgan_bit78,Morgan_bit79,Morgan_bit80,Morgan_bit81,Morgan_bit82,Morgan_bit83,Morgan_bit84,Morgan_bit85,Morgan_bit86,Morgan_bit87,Morgan_bit88,Morgan_bit89,Morgan_bit90,Morgan_bit91,Morgan_bit92,Morgan_bit93,Morgan_bit94,Morgan_bit95,Morgan_bit96,Morgan_bit97,Morgan_bit98,Morgan_bit99,Morgan_bit100,Morgan_bit101,Morgan_bit102,Morgan_bit103,Morgan_bit104,Morgan_bit105,Morgan_bit106,Morgan_bit107,Morgan_bit108,Morgan_bit109,Morgan_bit110,Morgan_bit111,Morgan_bit112,Morgan_bit113,Morgan_bit114,Morgan_bit115,Morgan_bit116,Morgan_bit117,Morgan_bit118,Morgan_bit119,Morgan_bit120,Morgan_bit121,Morgan_bit122,Morgan_bit123,Morgan_bit124,Morgan_bit125,Morgan_bit126,Morgan_bit127,Morgan_bit128,Morgan_bit129,Morgan_bit130,Morgan_bit131,Morgan_bit132,Morgan_bit133,Morgan_bit134,Morgan_bit135,Morgan_bit136,Morgan_bit137,Morgan_bit138,Morgan_bit139,Morgan_bit140,Morgan_bit141,Morgan_bit142,Morgan_bit143,Morgan_bit144,Morgan_bit145,Morgan_bit146,Morgan_bit147,Morgan_bit148,Morgan_bit149,Morgan_bit150,Morgan_bit151,Morgan_bit152,Morgan_bit153,Morgan_bit154,Morgan_bit155,Morgan_bit156,Morgan_bit157,Morgan_bit158,Morgan_bit159,Morgan_bit160,Morgan_bit161,Morgan_bit162,Morgan_bit163,Morgan_bit164,Morgan_bit165,Morgan_bit166,Morgan_bit167,Morgan_bit168,Morgan_bit169,Morgan_bit170,Morgan_bit171,Morgan_bit172,Morgan_bit173,Morgan_bit174,Morgan_bit175,Morgan_bit176,Morgan_bit177,Morgan_bit178,Morgan_bit179,Morgan_bit180,Morgan_bit181,Morgan_bit182,Morgan_bit183,Morgan_bit184,Morgan_bit185,Morgan_bit186,Morgan_bit187,Morgan_bit188,Morgan_bit189,Morgan_bit190,Morgan_bit191,Morgan_bit192,Morgan_bit193,Morgan_bit194,Morgan_bit195,Morgan_bit196,Morgan_bit197,Morgan_bit198,Morgan_bit199,Morgan_bit200,Morgan_bit201,Morgan_bit202,Morgan_bit203,Morgan_bit204,Morgan_bit205,Morgan_bit206,Morgan_bit207,Morgan_bit208,Morgan_bit209,Morgan_bit210,Morgan_bit211,Morgan_bit212,Morgan_bit213,Morgan_bit214,Morgan_bit215,Morgan_bit216,Morgan_bit217,Morgan_bit218,Morgan_bit219,Morgan_bit220,Morgan_bit221,Morgan_bit222,Morgan_bit223,Morgan_bit224,Morgan_bit225,Morgan_bit226,Morgan_bit227,Morgan_bit228,Morgan_bit229,Morgan_bit230,Morgan_bit231,Morgan_bit232,Morgan_bit233,Morgan_bit234,Morgan_bit235,Morgan_bit236,Morgan_bit237,Morgan_bit238,Morgan_bit239,Morgan_bit240,Morgan_bit241,Morgan_bit242,Morgan_bit243,Morgan_bit244,Morgan_bit245,Morgan_bit246,Morgan_bit247,Morgan_bit248,Morgan_bit249,Morgan_bit250,Morgan_bit251,Morgan_bit252,Morgan_bit253,Morgan_bit254,Morgan_bit255,Morgan_bit256,Morgan_bit257,Morgan_bit258,Morgan_bit259,Morgan_bit260,Morgan_bit261,Morgan_bit262,Morgan_bit263,Morgan_bit264,Morgan_bit265,Morgan_bit266,Morgan_bit267,Morgan_bit268,Morgan_bit269,Morgan_bit270,Morgan_bit271,Morgan_bit272,Morgan_bit273,Morgan_bit274,Morgan_bit275,Morgan_bit276,Morgan_bit277,Morgan_bit278,Morgan_bit279,Morgan_bit280,Morgan_bit281,Morgan_bit282,Morgan_bit283,Morgan_bit284,Morgan_bit285,Morgan_bit286,Morgan_bit287,Morgan_bit288,Morgan_bit289,Morgan_bit290,Morgan_bit291,Morgan_bit292,Morgan_bit293,Morgan_bit294,Morgan_bit295,Morgan_bit296,Morgan_bit297,Morgan_bit298,Morgan_bit299,Morgan_bit300,Morgan_bit301,Morgan_bit302,Morgan_bit303,Morgan_bit304,Morgan_bit305,Morgan_bit306,Morgan_bit307,Morgan_bit308,Morgan_bit309,Morgan_bit310,Morgan_bit311,Morgan_bit312,Morgan_bit313,Morgan_bit314,Morgan_bit315,Morgan_bit316,Morgan_bit317,Morgan_bit318,Morgan_bit319,Morgan_bit320,Morgan_bit321,Morgan_bit322,Morgan_bit323,Morgan_bit324,Morgan_bit325,Morgan_bit326,Morgan_bit327,Morgan_bit328,Morgan_bit329,Morgan_bit330,Morgan_bit331,Morgan_bit332,Morgan_bit333,Morgan_bit334,Morgan_bit335,Morgan_bit336,Morgan_bit337,Morgan_bit338,Morgan_bit339,Morgan_bit340,Morgan_bit341,Morgan_bit342,Morgan_bit343,Morgan_bit344,Morgan_bit345,Morgan_bit346,Morgan_bit347,Morgan_bit348,Morgan_bit349,Morgan_bit350,Morgan_bit351,Morgan_bit352,Morgan_bit353,Morgan_bit354,Morgan_bit355,Morgan_bit356,Morgan_bit357,Morgan_bit358,Morgan_bit359,Morgan_bit360,Morgan_bit361,Morgan_bit362,Morgan_bit363,Morgan_bit364,Morgan_bit365,Morgan_bit366,Morgan_bit367,Morgan_bit368,Morgan_bit369,Morgan_bit370,Morgan_bit371,Morgan_bit372,Morgan_bit373,Morgan_bit374,Morgan_bit375,Morgan_bit376,Morgan_bit377,Morgan_bit378,Morgan_bit379,Morgan_bit380,Morgan_bit381,Morgan_bit382,Morgan_bit383,Morgan_bit384,Morgan_bit385,Morgan_bit386,Morgan_bit387,Morgan_bit388,Morgan_bit389,Morgan_bit390,Morgan_bit391,Morgan_bit392,Morgan_bit393,Morgan_bit394,Morgan_bit395,Morgan_bit396,Morgan_bit397,Morgan_bit398,Morgan_bit399,Morgan_bit400,Morgan_bit401,Morgan_bit402,Morgan_bit403,Morgan_bit404,Morgan_bit405,Morgan_bit406,Morgan_bit407,Morgan_bit408,Morgan_bit409,Morgan_bit410,Morgan_bit411,Morgan_bit412,Morgan_bit413,Morgan_bit414,Morgan_bit415,Morgan_bit416,Morgan_bit417,Morgan_bit418,Morgan_bit419,Morgan_bit420,Morgan_bit421,Morgan_bit422,Morgan_bit423,Morgan_bit424,Morgan_bit425,Morgan_bit426,Morgan_bit427,Morgan_bit428,Morgan_bit429,Morgan_bit430,Morgan_bit431,Morgan_bit432,Morgan_bit433,Morgan_bit434,Morgan_bit435,Morgan_bit436,Morgan_bit437,Morgan_bit438,Morgan_bit439,Morgan_bit440,Morgan_bit441,Morgan_bit442,Morgan_bit443,Morgan_bit444,Morgan_bit445,Morgan_bit446,Morgan_bit447,Morgan_bit448,Morgan_bit449,Morgan_bit450,Morgan_bit451,Morgan_bit452,Morgan_bit453,Morgan_bit454,Morgan_bit455,Morgan_bit456,Morgan_bit457,Morgan_bit458,Morgan_bit459,Morgan_bit460,Morgan_bit461,Morgan_bit462,Morgan_bit463,Morgan_bit464,Morgan_bit465,Morgan_bit466,Morgan_bit467,Morgan_bit468,Morgan_bit469,Morgan_bit470,Morgan_bit471,Morgan_bit472,Morgan_bit473,Morgan_bit474,Morgan_bit475,Morgan_bit476,Morgan_bit477,Morgan_bit478,Morgan_bit479,Morgan_bit480,Morgan_bit481,Morgan_bit482,Morgan_bit483,Morgan_bit484,Morgan_bit485,Morgan_bit486,Morgan_bit487,Morgan_bit488,Morgan_bit489,Morgan_bit490,Morgan_bit491,Morgan_bit492,Morgan_bit493,Morgan_bit494,Morgan_bit495,Morgan_bit496,Morgan_bit497,Morgan_bit498,Morgan_bit499,Morgan_bit500,Morgan_bit501,Morgan_bit502,Morgan_bit503,Morgan_bit504,Morgan_bit505,Morgan_bit506,Morgan_bit507,Morgan_bit508,Morgan_bit509,Morgan_bit510,Morgan_bit511,Morgan_bit512,Morgan_bit513,Morgan_bit514,Morgan_bit515,Morgan_bit516,Morgan_bit517,Morgan_bit518,Morgan_bit519,Morgan_bit520,Morgan_bit521,Morgan_bit522,Morgan_bit523,Morgan_bit524,Morgan_bit525,Morgan_bit526,Morgan_bit527,Morgan_bit528,Morgan_bit529,Morgan_bit530,Morgan_bit531,Morgan_bit532,Morgan_bit533,Morgan_bit534,Morgan_bit535,Morgan_bit536,Morgan_bit537,Morgan_bit538,Morgan_bit539,Morgan_bit540,Morgan_bit541,Morgan_bit542,Morgan_bit543,Morgan_bit544,Morgan_bit545,Morgan_bit546,Morgan_bit547,Morgan_bit548,Morgan_bit549,Morgan_bit550,Morgan_bit551,Morgan_bit552,Morgan_bit553,Morgan_bit554,Morgan_bit555,Morgan_bit556,Morgan_bit557,Morgan_bit558,Morgan_bit559,Morgan_bit560,Morgan_bit561,Morgan_bit562,Morgan_bit563,Morgan_bit564,Morgan_bit565,Morgan_bit566,Morgan_bit567,Morgan_bit568,Morgan_bit569,Morgan_bit570,Morgan_bit571,Morgan_bit572,Morgan_bit573,Morgan_bit574,Morgan_bit575,Morgan_bit576,Morgan_bit577,Morgan_bit578,Morgan_bit579,Morgan_bit580,Morgan_bit581,Morgan_bit582,Morgan_bit583,Morgan_bit584,Morgan_bit585,Morgan_bit586,Morgan_bit587,Morgan_bit588,Morgan_bit589,Morgan_bit590,Morgan_bit591,Morgan_bit592,Morgan_bit593,Morgan_bit594,Morgan_bit595,Morgan_bit596,Morgan_bit597,Morgan_bit598,Morgan_bit599,Morgan_bit600,Morgan_bit601,Morgan_bit602,Morgan_bit603,Morgan_bit604,Morgan_bit605,Morgan_bit606,Morgan_bit607,Morgan_bit608,Morgan_bit609,Morgan_bit610,Morgan_bit611,Morgan_bit612,Morgan_bit613,Morgan_bit614,Morgan_bit615,Morgan_bit616,Morgan_bit617,Morgan_bit618,Morgan_bit619,Morgan_bit620,Morgan_bit621,Morgan_bit622,Morgan_bit623,Morgan_bit624,Morgan_bit625,Morgan_bit626,Morgan_bit627,Morgan_bit628,Morgan_bit629,Morgan_bit630,Morgan_bit631,Morgan_bit632,Morgan_bit633,Morgan_bit634,Morgan_bit635,Morgan_bit636,Morgan_bit637,Morgan_bit638,Morgan_bit639,Morgan_bit640,Morgan_bit641,Morgan_bit642,Morgan_bit643,Morgan_bit644,Morgan_bit645,Morgan_bit646,Morgan_bit647,Morgan_bit648,Morgan_bit649,Morgan_bit650,Morgan_bit651,Morgan_bit652,Morgan_bit653,Morgan_bit654,Morgan_bit655,Morgan_bit656,Morgan_bit657,Morgan_bit658,Morgan_bit659,Morgan_bit660,Morgan_bit661,Morgan_bit662,Morgan_bit663,Morgan_bit664,Morgan_bit665,Morgan_bit666,Morgan_bit667,Morgan_bit668,Morgan_bit669,Morgan_bit670,Morgan_bit671,Morgan_bit672,Morgan_bit673,Morgan_bit674,Morgan_bit675,Morgan_bit676,Morgan_bit677,Morgan_bit678,Morgan_bit679,Morgan_bit680,Morgan_bit681,Morgan_bit682,Morgan_bit683,Morgan_bit684,Morgan_bit685,Morgan_bit686,Morgan_bit687,Morgan_bit688,Morgan_bit689,Morgan_bit690,Morgan_bit691,Morgan_bit692,Morgan_bit693,Morgan_bit694,Morgan_bit695,Morgan_bit696,Morgan_bit697,Morgan_bit698,Morgan_bit699,Morgan_bit700,Morgan_bit701,Morgan_bit702,Morgan_bit703,Morgan_bit704,Morgan_bit705,Morgan_bit706,Morgan_bit707,Morgan_bit708,Morgan_bit709,Morgan_bit710,Morgan_bit711,Morgan_bit712,Morgan_bit713,Morgan_bit714,Morgan_bit715,Morgan_bit716,Morgan_bit717,Morgan_bit718,Morgan_bit719,Morgan_bit720,Morgan_bit721,Morgan_bit722,Morgan_bit723,Morgan_bit724,Morgan_bit725,Morgan_bit726,Morgan_bit727,Morgan_bit728,Morgan_bit729,Morgan_bit730,Morgan_bit731,Morgan_bit732,Morgan_bit733,Morgan_bit734,Morgan_bit735,Morgan_bit736,Morgan_bit737,Morgan_bit738,Morgan_bit739,Morgan_bit740,Morgan_bit741,Morgan_bit742,Morgan_bit743,Morgan_bit744,Morgan_bit745,Morgan_bit746,Morgan_bit747,Morgan_bit748,Morgan_bit749,Morgan_bit750,Morgan_bit751,Morgan_bit752,Morgan_bit753,Morgan_bit754,Morgan_bit755,Morgan_bit756,Morgan_bit757,Morgan_bit758,Morgan_bit759,Morgan_bit760,Morgan_bit761,Morgan_bit762,Morgan_bit763,Morgan_bit764,Morgan_bit765,Morgan_bit766,Morgan_bit767,Morgan_bit768,Morgan_bit769,Morgan_bit770,Morgan_bit771,Morgan_bit772,Morgan_bit773,Morgan_bit774,Morgan_bit775,Morgan_bit776,Morgan_bit777,Morgan_bit778,Morgan_bit779,Morgan_bit780,Morgan_bit781,Morgan_bit782,Morgan_bit783,Morgan_bit784,Morgan_bit785,Morgan_bit786,Morgan_bit787,Morgan_bit788,Morgan_bit789,Morgan_bit790,Morgan_bit791,Morgan_bit792,Morgan_bit793,Morgan_bit794,Morgan_bit795,Morgan_bit796,Morgan_bit797,Morgan_bit798,Morgan_bit799,Morgan_bit800,Morgan_bit801,Morgan_bit802,Morgan_bit803,Morgan_bit804,Morgan_bit805,Morgan_bit806,Morgan_bit807,Morgan_bit808,Morgan_bit809,Morgan_bit810,Morgan_bit811,Morgan_bit812,Morgan_bit813,Morgan_bit814,Morgan_bit815,Morgan_bit816,Morgan_bit817,Morgan_bit818,Morgan_bit819,Morgan_bit820,Morgan_bit821,Morgan_bit822,Morgan_bit823,Morgan_bit824,Morgan_bit825,Morgan_bit826,Morgan_bit827,Morgan_bit828,Morgan_bit829,Morgan_bit830,Morgan_bit831,Morgan_bit832,Morgan_bit833,Morgan_bit834,Morgan_bit835,Morgan_bit836,Morgan_bit837,Morgan_bit838,Morgan_bit839,Morgan_bit840,Morgan_bit841,Morgan_bit842,Morgan_bit843,Morgan_bit844,Morgan_bit845,Morgan_bit846,Morgan_bit847,Morgan_bit848,Morgan_bit849,Morgan_bit850,Morgan_bit851,Morgan_bit852,Morgan_bit853,Morgan_bit854,Morgan_bit855,Morgan_bit856,Morgan_bit857,Morgan_bit858,Morgan_bit859,Morgan_bit860,Morgan_bit861,Morgan_bit862,Morgan_bit863,Morgan_bit864,Morgan_bit865,Morgan_bit866,Morgan_bit867,Morgan_bit868,Morgan_bit869,Morgan_bit870,Morgan_bit871,Morgan_bit872,Morgan_bit873,Morgan_bit874,Morgan_bit875,Morgan_bit876,Morgan_bit877,Morgan_bit878,Morgan_bit879,Morgan_bit880,Morgan_bit881,Morgan_bit882,Morgan_bit883,Morgan_bit884,Morgan_bit885,Morgan_bit886,Morgan_bit887,Morgan_bit888,Morgan_bit889,Morgan_bit890,Morgan_bit891,Morgan_bit892,Morgan_bit893,Morgan_bit894,Morgan_bit895,Morgan_bit896,Morgan_bit897,Morgan_bit898,Morgan_bit899,Morgan_bit900,Morgan_bit901,Morgan_bit902,Morgan_bit903,Morgan_bit904,Morgan_bit905,Morgan_bit906,Morgan_bit907,Morgan_bit908,Morgan_bit909,Morgan_bit910,Morgan_bit911,Morgan_bit912,Morgan_bit913,Morgan_bit914,Morgan_bit915,Morgan_bit916,Morgan_bit917,Morgan_bit918,Morgan_bit919,Morgan_bit920,Morgan_bit921,Morgan_bit922,Morgan_bit923,Morgan_bit924,Morgan_bit925,Morgan_bit926,Morgan_bit927,Morgan_bit928,Morgan_bit929,Morgan_bit930,Morgan_bit931,Morgan_bit932,Morgan_bit933,Morgan_bit934,Morgan_bit935,Morgan_bit936,Morgan_bit937,Morgan_bit938,Morgan_bit939,Morgan_bit940,Morgan_bit941,Morgan_bit942,Morgan_bit943,Morgan_bit944,Morgan_bit945,Morgan_bit946,Morgan_bit947,Morgan_bit948,Morgan_bit949,Morgan_bit950,Morgan_bit951,Morgan_bit952,Morgan_bit953,Morgan_bit954,Morgan_bit955,Morgan_bit956,Morgan_bit957,Morgan_bit958,Morgan_bit959,Morgan_bit960,Morgan_bit961,Morgan_bit962,Morgan_bit963,Morgan_bit964,Morgan_bit965,Morgan_bit966,Morgan_bit967,Morgan_bit968,Morgan_bit969,Morgan_bit970,Morgan_bit971,Morgan_bit972,Morgan_bit973,Morgan_bit974,Morgan_bit975,Morgan_bit976,Morgan_bit977,Morgan_bit978,Morgan_bit979,Morgan_bit980,Morgan_bit981,Morgan_bit982,Morgan_bit983,Morgan_bit984,Morgan_bit985,Morgan_bit986,Morgan_bit987,Morgan_bit988,Morgan_bit989,Morgan_bit990,Morgan_bit991,Morgan_bit992,Morgan_bit993,Morgan_bit994,Morgan_bit995,Morgan_bit996,Morgan_bit997,Morgan_bit998,Morgan_bit999,Morgan_bit1000,Morgan_bit1001,Morgan_bit1002,Morgan_bit1003,Morgan_bit1004,Morgan_bit1005,Morgan_bit1006,Morgan_bit1007,Morgan_bit1008,Morgan_bit1009,Morgan_bit1010,Morgan_bit1011,Morgan_bit1012,Morgan_bit1013,Morgan_bit1014,Morgan_bit1015,Morgan_bit1016,Morgan_bit1017,Morgan_bit1018,Morgan_bit1019,Morgan_bit1020,Morgan_bit1021,Morgan_bit1022,Morgan_bit1023,Morgan_bit1024,Morgan_bit1025,Morgan_bit1026,Morgan_bit1027,Morgan_bit1028,Morgan_bit1029,Morgan_bit1030,Morgan_bit1031,Morgan_bit1032,Morgan_bit1033,Morgan_bit1034,Morgan_bit1035,Morgan_bit1036,Morgan_bit1037,Morgan_bit1038,Morgan_bit1039,Morgan_bit1040,Morgan_bit1041,Morgan_bit1042,Morgan_bit1043,Morgan_bit1044,Morgan_bit1045,Morgan_bit1046,Morgan_bit1047,Morgan_bit1048,Morgan_bit1049,Morgan_bit1050,Morgan_bit1051,Morgan_bit1052,Morgan_bit1053,Morgan_bit1054,Morgan_bit1055,Morgan_bit1056,Morgan_bit1057,Morgan_bit1058,Morgan_bit1059,Morgan_bit1060,Morgan_bit1061,Morgan_bit1062,Morgan_bit1063,Morgan_bit1064,Morgan_bit1065,Morgan_bit1066,Morgan_bit1067,Morgan_bit1068,Morgan_bit1069,Morgan_bit1070,Morgan_bit1071,Morgan_bit1072,Morgan_bit1073,Morgan_bit1074,Morgan_bit1075,Morgan_bit1076,Morgan_bit1077,Morgan_bit1078,Morgan_bit1079,Morgan_bit1080,Morgan_bit1081,Morgan_bit1082,Morgan_bit1083,Morgan_bit1084,Morgan_bit1085,Morgan_bit1086,Morgan_bit1087,Morgan_bit1088,Morgan_bit1089,Morgan_bit1090,Morgan_bit1091,Morgan_bit1092,Morgan_bit1093,Morgan_bit1094,Morgan_bit1095,Morgan_bit1096,Morgan_bit1097,Morgan_bit1098,Morgan_bit1099,Morgan_bit1100,Morgan_bit1101,Morgan_bit1102,Morgan_bit1103,Morgan_bit1104,Morgan_bit1105,Morgan_bit1106,Morgan_bit1107,Morgan_bit1108,Morgan_bit1109,Morgan_bit1110,Morgan_bit1111,Morgan_bit1112,Morgan_bit1113,Morgan_bit1114,Morgan_bit1115,Morgan_bit1116,Morgan_bit1117,Morgan_bit1118,Morgan_bit1119,Morgan_bit1120,Morgan_bit1121,Morgan_bit1122,Morgan_bit1123,Morgan_bit1124,Morgan_bit1125,Morgan_bit1126,Morgan_bit1127,Morgan_bit1128,Morgan_bit1129,Morgan_bit1130,Morgan_bit1131,Morgan_bit1132,Morgan_bit1133,Morgan_bit1134,Morgan_bit1135,Morgan_bit1136,Morgan_bit1137,Morgan_bit1138,Morgan_bit1139,Morgan_bit1140,Morgan_bit1141,Morgan_bit1142,Morgan_bit1143,Morgan_bit1144,Morgan_bit1145,Morgan_bit1146,Morgan_bit1147,Morgan_bit1148,Morgan_bit1149,Morgan_bit1150,Morgan_bit1151,Morgan_bit1152,Morgan_bit1153,Morgan_bit1154,Morgan_bit1155,Morgan_bit1156,Morgan_bit1157,Morgan_bit1158,Morgan_bit1159,Morgan_bit1160,Morgan_bit1161,Morgan_bit1162,Morgan_bit1163,Morgan_bit1164,Morgan_bit1165,Morgan_bit1166,Morgan_bit1167,Morgan_bit1168,Morgan_bit1169,Morgan_bit1170,Morgan_bit1171,Morgan_bit1172,Morgan_bit1173,Morgan_bit1174,Morgan_bit1175,Morgan_bit1176,Morgan_bit1177,Morgan_bit1178,Morgan_bit1179,Morgan_bit1180,Morgan_bit1181,Morgan_bit1182,Morgan_bit1183,Morgan_bit1184,Morgan_bit1185,Morgan_bit1186,Morgan_bit1187,Morgan_bit1188,Morgan_bit1189,Morgan_bit1190,Morgan_bit1191,Morgan_bit1192,Morgan_bit1193,Morgan_bit1194,Morgan_bit1195,Morgan_bit1196,Morgan_bit1197,Morgan_bit1198,Morgan_bit1199,Morgan_bit1200,Morgan_bit1201,Morgan_bit1202,Morgan_bit1203,Morgan_bit1204,Morgan_bit1205,Morgan_bit1206,Morgan_bit1207,Morgan_bit1208,Morgan_bit1209,Morgan_bit1210,Morgan_bit1211,Morgan_bit1212,Morgan_bit1213,Morgan_bit1214,Morgan_bit1215,Morgan_bit1216,Morgan_bit1217,Morgan_bit1218,Morgan_bit1219,Morgan_bit1220,Morgan_bit1221,Morgan_bit1222,Morgan_bit1223,Morgan_bit1224,Morgan_bit1225,Morgan_bit1226,Morgan_bit1227,Morgan_bit1228,Morgan_bit1229,Morgan_bit1230,Morgan_bit1231,Morgan_bit1232,Morgan_bit1233,Morgan_bit1234,Morgan_bit1235,Morgan_bit1236,Morgan_bit1237,Morgan_bit1238,Morgan_bit1239,Morgan_bit1240,Morgan_bit1241,Morgan_bit1242,Morgan_bit1243,Morgan_bit1244,Morgan_bit1245,Morgan_bit1246,Morgan_bit1247,Morgan_bit1248,Morgan_bit1249,Morgan_bit1250,Morgan_bit1251,Morgan_bit1252,Morgan_bit1253,Morgan_bit1254,Morgan_bit1255,Morgan_bit1256,Morgan_bit1257,Morgan_bit1258,Morgan_bit1259,Morgan_bit1260,Morgan_bit1261,Morgan_bit1262,Morgan_bit1263,Morgan_bit1264,Morgan_bit1265,Morgan_bit1266,Morgan_bit1267,Morgan_bit1268,Morgan_bit1269,Morgan_bit1270,Morgan_bit1271,Morgan_bit1272,Morgan_bit1273,Morgan_bit1274,Morgan_bit1275,Morgan_bit1276,Morgan_bit1277,Morgan_bit1278,Morgan_bit1279,Morgan_bit1280,Morgan_bit1281,Morgan_bit1282,Morgan_bit1283,Morgan_bit1284,Morgan_bit1285,Morgan_bit1286,Morgan_bit1287,Morgan_bit1288,Morgan_bit1289,Morgan_bit1290,Morgan_bit1291,Morgan_bit1292,Morgan_bit1293,Morgan_bit1294,Morgan_bit1295,Morgan_bit1296,Morgan_bit1297,Morgan_bit1298,Morgan_bit1299,Morgan_bit1300,Morgan_bit1301,Morgan_bit1302,Morgan_bit1303,Morgan_bit1304,Morgan_bit1305,Morgan_bit1306,Morgan_bit1307,Morgan_bit1308,Morgan_bit1309,Morgan_bit1310,Morgan_bit1311,Morgan_bit1312,Morgan_bit1313,Morgan_bit1314,Morgan_bit1315,Morgan_bit1316,Morgan_bit1317,Morgan_bit1318,Morgan_bit1319,Morgan_bit1320,Morgan_bit1321,Morgan_bit1322,Morgan_bit1323,Morgan_bit1324,Morgan_bit1325,Morgan_bit1326,Morgan_bit1327,Morgan_bit1328,Morgan_bit1329,Morgan_bit1330,Morgan_bit1331,Morgan_bit1332,Morgan_bit1333,Morgan_bit1334,Morgan_bit1335,Morgan_bit1336,Morgan_bit1337,Morgan_bit1338,Morgan_bit1339,Morgan_bit1340,Morgan_bit1341,Morgan_bit1342,Morgan_bit1343,Morgan_bit1344,Morgan_bit1345,Morgan_bit1346,Morgan_bit1347,Morgan_bit1348,Morgan_bit1349,Morgan_bit1350,Morgan_bit1351,Morgan_bit1352,Morgan_bit1353,Morgan_bit1354,Morgan_bit1355,Morgan_bit1356,Morgan_bit1357,Morgan_bit1358,Morgan_bit1359,Morgan_bit1360,Morgan_bit1361,Morgan_bit1362,Morgan_bit1363,Morgan_bit1364,Morgan_bit1365,Morgan_bit1366,Morgan_bit1367,Morgan_bit1368,Morgan_bit1369,Morgan_bit1370,Morgan_bit1371,Morgan_bit1372,Morgan_bit1373,Morgan_bit1374,Morgan_bit1375,Morgan_bit1376,Morgan_bit1377,Morgan_bit1378,Morgan_bit1379,Morgan_bit1380,Morgan_bit1381,Morgan_bit1382,Morgan_bit1383,Morgan_bit1384,Morgan_bit1385,Morgan_bit1386,Morgan_bit1387,Morgan_bit1388,Morgan_bit1389,Morgan_bit1390,Morgan_bit1391,Morgan_bit1392,Morgan_bit1393,Morgan_bit1394,Morgan_bit1395,Morgan_bit1396,Morgan_bit1397,Morgan_bit1398,Morgan_bit1399,Morgan_bit1400,Morgan_bit1401,Morgan_bit1402,Morgan_bit1403,Morgan_bit1404,Morgan_bit1405,Morgan_bit1406,Morgan_bit1407,Morgan_bit1408,Morgan_bit1409,Morgan_bit1410,Morgan_bit1411,Morgan_bit1412,Morgan_bit1413,Morgan_bit1414,Morgan_bit1415,Morgan_bit1416,Morgan_bit1417,Morgan_bit1418,Morgan_bit1419,Morgan_bit1420,Morgan_bit1421,Morgan_bit1422,Morgan_bit1423,Morgan_bit1424,Morgan_bit1425,Morgan_bit1426,Morgan_bit1427,Morgan_bit1428,Morgan_bit1429,Morgan_bit1430,Morgan_bit1431,Morgan_bit1432,Morgan_bit1433,Morgan_bit1434,Morgan_bit1435,Morgan_bit1436,Morgan_bit1437,Morgan_bit1438,Morgan_bit1439,Morgan_bit1440,Morgan_bit1441,Morgan_bit1442,Morgan_bit1443,Morgan_bit1444,Morgan_bit1445,Morgan_bit1446,Morgan_bit1447,Morgan_bit1448,Morgan_bit1449,Morgan_bit1450,Morgan_bit1451,Morgan_bit1452,Morgan_bit1453,Morgan_bit1454,Morgan_bit1455,Morgan_bit1456,Morgan_bit1457,Morgan_bit1458,Morgan_bit1459,Morgan_bit1460,Morgan_bit1461,Morgan_bit1462,Morgan_bit1463,Morgan_bit1464,Morgan_bit1465,Morgan_bit1466,Morgan_bit1467,Morgan_bit1468,Morgan_bit1469,Morgan_bit1470,Morgan_bit1471,Morgan_bit1472,Morgan_bit1473,Morgan_bit1474,Morgan_bit1475,Morgan_bit1476,Morgan_bit1477,Morgan_bit1478,Morgan_bit1479,Morgan_bit1480,Morgan_bit1481,Morgan_bit1482,Morgan_bit1483,Morgan_bit1484,Morgan_bit1485,Morgan_bit1486,Morgan_bit1487,Morgan_bit1488,Morgan_bit1489,Morgan_bit1490,Morgan_bit1491,Morgan_bit1492,Morgan_bit1493,Morgan_bit1494,Morgan_bit1495,Morgan_bit1496,Morgan_bit1497,Morgan_bit1498,Morgan_bit1499,Morgan_bit1500,Morgan_bit1501,Morgan_bit1502,Morgan_bit1503,Morgan_bit1504,Morgan_bit1505,Morgan_bit1506,Morgan_bit1507,Morgan_bit1508,Morgan_bit1509,Morgan_bit1510,Morgan_bit1511,Morgan_bit1512,Morgan_bit1513,Morgan_bit1514,Morgan_bit1515,Morgan_bit1516,Morgan_bit1517,Morgan_bit1518,Morgan_bit1519,Morgan_bit1520,Morgan_bit1521,Morgan_bit1522,Morgan_bit1523,Morgan_bit1524,Morgan_bit1525,Morgan_bit1526,Morgan_bit1527,Morgan_bit1528,Morgan_bit1529,Morgan_bit1530,Morgan_bit1531,Morgan_bit1532,Morgan_bit1533,Morgan_bit1534,Morgan_bit1535,Morgan_bit1536,Morgan_bit1537,Morgan_bit1538,Morgan_bit1539,Morgan_bit1540,Morgan_bit1541,Morgan_bit1542,Morgan_bit1543,Morgan_bit1544,Morgan_bit1545,Morgan_bit1546,Morgan_bit1547,Morgan_bit1548,Morgan_bit1549,Morgan_bit1550,Morgan_bit1551,Morgan_bit1552,Morgan_bit1553,Morgan_bit1554,Morgan_bit1555,Morgan_bit1556,Morgan_bit1557,Morgan_bit1558,Morgan_bit1559,Morgan_bit1560,Morgan_bit1561,Morgan_bit1562,Morgan_bit1563,Morgan_bit1564,Morgan_bit1565,Morgan_bit1566,Morgan_bit1567,Morgan_bit1568,Morgan_bit1569,Morgan_bit1570,Morgan_bit1571,Morgan_bit1572,Morgan_bit1573,Morgan_bit1574,Morgan_bit1575,Morgan_bit1576,Morgan_bit1577,Morgan_bit1578,Morgan_bit1579,Morgan_bit1580,Morgan_bit1581,Morgan_bit1582,Morgan_bit1583,Morgan_bit1584,Morgan_bit1585,Morgan_bit1586,Morgan_bit1587,Morgan_bit1588,Morgan_bit1589,Morgan_bit1590,Morgan_bit1591,Morgan_bit1592,Morgan_bit1593,Morgan_bit1594,Morgan_bit1595,Morgan_bit1596,Morgan_bit1597,Morgan_bit1598,Morgan_bit1599,Morgan_bit1600,Morgan_bit1601,Morgan_bit1602,Morgan_bit1603,Morgan_bit1604,Morgan_bit1605,Morgan_bit1606,Morgan_bit1607,Morgan_bit1608,Morgan_bit1609,Morgan_bit1610,Morgan_bit1611,Morgan_bit1612,Morgan_bit1613,Morgan_bit1614,Morgan_bit1615,Morgan_bit1616,Morgan_bit1617,Morgan_bit1618,Morgan_bit1619,Morgan_bit1620,Morgan_bit1621,Morgan_bit1622,Morgan_bit1623,Morgan_bit1624,Morgan_bit1625,Morgan_bit1626,Morgan_bit1627,Morgan_bit1628,Morgan_bit1629,Morgan_bit1630,Morgan_bit1631,Morgan_bit1632,Morgan_bit1633,Morgan_bit1634,Morgan_bit1635,Morgan_bit1636,Morgan_bit1637,Morgan_bit1638,Morgan_bit1639,Morgan_bit1640,Morgan_bit1641,Morgan_bit1642,Morgan_bit1643,Morgan_bit1644,Morgan_bit1645,Morgan_bit1646,Morgan_bit1647,Morgan_bit1648,Morgan_bit1649,Morgan_bit1650,Morgan_bit1651,Morgan_bit1652,Morgan_bit1653,Morgan_bit1654,Morgan_bit1655,Morgan_bit1656,Morgan_bit1657,Morgan_bit1658,Morgan_bit1659,Morgan_bit1660,Morgan_bit1661,Morgan_bit1662,Morgan_bit1663,Morgan_bit1664,Morgan_bit1665,Morgan_bit1666,Morgan_bit1667,Morgan_bit1668,Morgan_bit1669,Morgan_bit1670,Morgan_bit1671,Morgan_bit1672,Morgan_bit1673,Morgan_bit1674,Morgan_bit1675,Morgan_bit1676,Morgan_bit1677,Morgan_bit1678,Morgan_bit1679,Morgan_bit1680,Morgan_bit1681,Morgan_bit1682,Morgan_bit1683,Morgan_bit1684,Morgan_bit1685,Morgan_bit1686,Morgan_bit1687,Morgan_bit1688,Morgan_bit1689,Morgan_bit1690,Morgan_bit1691,Morgan_bit1692,Morgan_bit1693,Morgan_bit1694,Morgan_bit1695,Morgan_bit1696,Morgan_bit1697,Morgan_bit1698,Morgan_bit1699,Morgan_bit1700,Morgan_bit1701,Morgan_bit1702,Morgan_bit1703,Morgan_bit1704,Morgan_bit1705,Morgan_bit1706,Morgan_bit1707,Morgan_bit1708,Morgan_bit1709,Morgan_bit1710,Morgan_bit1711,Morgan_bit1712,Morgan_bit1713,Morgan_bit1714,Morgan_bit1715,Morgan_bit1716,Morgan_bit1717,Morgan_bit1718,Morgan_bit1719,Morgan_bit1720,Morgan_bit1721,Morgan_bit1722,Morgan_bit1723,Morgan_bit1724,Morgan_bit1725,Morgan_bit1726,Morgan_bit1727,Morgan_bit1728,Morgan_bit1729,Morgan_bit1730,Morgan_bit1731,Morgan_bit1732,Morgan_bit1733,Morgan_bit1734,Morgan_bit1735,Morgan_bit1736,Morgan_bit1737,Morgan_bit1738,Morgan_bit1739,Morgan_bit1740,Morgan_bit1741,Morgan_bit1742,Morgan_bit1743,Morgan_bit1744,Morgan_bit1745,Morgan_bit1746,Morgan_bit1747,Morgan_bit1748,Morgan_bit1749,Morgan_bit1750,Morgan_bit1751,Morgan_bit1752,Morgan_bit1753,Morgan_bit1754,Morgan_bit1755,Morgan_bit1756,Morgan_bit1757,Morgan_bit1758,Morgan_bit1759,Morgan_bit1760,Morgan_bit1761,Morgan_bit1762,Morgan_bit1763,Morgan_bit1764,Morgan_bit1765,Morgan_bit1766,Morgan_bit1767,Morgan_bit1768,Morgan_bit1769,Morgan_bit1770,Morgan_bit1771,Morgan_bit1772,Morgan_bit1773,Morgan_bit1774,Morgan_bit1775,Morgan_bit1776,Morgan_bit1777,Morgan_bit1778,Morgan_bit1779,Morgan_bit1780,Morgan_bit1781,Morgan_bit1782,Morgan_bit1783,Morgan_bit1784,Morgan_bit1785,Morgan_bit1786,Morgan_bit1787,Morgan_bit1788,Morgan_bit1789,Morgan_bit1790,Morgan_bit1791,Morgan_bit1792,Morgan_bit1793,Morgan_bit1794,Morgan_bit1795,Morgan_bit1796,Morgan_bit1797,Morgan_bit1798,Morgan_bit1799,Morgan_bit1800,Morgan_bit1801,Morgan_bit1802,Morgan_bit1803,Morgan_bit1804,Morgan_bit1805,Morgan_bit1806,Morgan_bit1807,Morgan_bit1808,Morgan_bit1809,Morgan_bit1810,Morgan_bit1811,Morgan_bit1812,Morgan_bit1813,Morgan_bit1814,Morgan_bit1815,Morgan_bit1816,Morgan_bit1817,Morgan_bit1818,Morgan_bit1819,Morgan_bit1820,Morgan_bit1821,Morgan_bit1822,Morgan_bit1823,Morgan_bit1824,Morgan_bit1825,Morgan_bit1826,Morgan_bit1827,Morgan_bit1828,Morgan_bit1829,Morgan_bit1830,Morgan_bit1831,Morgan_bit1832,Morgan_bit1833,Morgan_bit1834,Morgan_bit1835,Morgan_bit1836,Morgan_bit1837,Morgan_bit1838,Morgan_bit1839,Morgan_bit1840,Morgan_bit1841,Morgan_bit1842,Morgan_bit1843,Morgan_bit1844,Morgan_bit1845,Morgan_bit1846,Morgan_bit1847,Morgan_bit1848,Morgan_bit1849,Morgan_bit1850,Morgan_bit1851,Morgan_bit1852,Morgan_bit1853,Morgan_bit1854,Morgan_bit1855,Morgan_bit1856,Morgan_bit1857,Morgan_bit1858,Morgan_bit1859,Morgan_bit1860,Morgan_bit1861,Morgan_bit1862,Morgan_bit1863,Morgan_bit1864,Morgan_bit1865,Morgan_bit1866,Morgan_bit1867,Morgan_bit1868,Morgan_bit1869,Morgan_bit1870,Morgan_bit1871,Morgan_bit1872,Morgan_bit1873,Morgan_bit1874,Morgan_bit1875,Morgan_bit1876,Morgan_bit1877,Morgan_bit1878,Morgan_bit1879,Morgan_bit1880,Morgan_bit1881,Morgan_bit1882,Morgan_bit1883,Morgan_bit1884,Morgan_bit1885,Morgan_bit1886,Morgan_bit1887,Morgan_bit1888,Morgan_bit1889,Morgan_bit1890,Morgan_bit1891,Morgan_bit1892,Morgan_bit1893,Morgan_bit1894,Morgan_bit1895,Morgan_bit1896,Morgan_bit1897,Morgan_bit1898,Morgan_bit1899,Morgan_bit1900,Morgan_bit1901,Morgan_bit1902,Morgan_bit1903,Morgan_bit1904,Morgan_bit1905,Morgan_bit1906,Morgan_bit1907,Morgan_bit1908,Morgan_bit1909,Morgan_bit1910,Morgan_bit1911,Morgan_bit1912,Morgan_bit1913,Morgan_bit1914,Morgan_bit1915,Morgan_bit1916,Morgan_bit1917,Morgan_bit1918,Morgan_bit1919,Morgan_bit1920,Morgan_bit1921,Morgan_bit1922,Morgan_bit1923,Morgan_bit1924,Morgan_bit1925,Morgan_bit1926,Morgan_bit1927,Morgan_bit1928,Morgan_bit1929,Morgan_bit1930,Morgan_bit1931,Morgan_bit1932,Morgan_bit1933,Morgan_bit1934,Morgan_bit1935,Morgan_bit1936,Morgan_bit1937,Morgan_bit1938,Morgan_bit1939,Morgan_bit1940,Morgan_bit1941,Morgan_bit1942,Morgan_bit1943,Morgan_bit1944,Morgan_bit1945,Morgan_bit1946,Morgan_bit1947,Morgan_bit1948,Morgan_bit1949,Morgan_bit1950,Morgan_bit1951,Morgan_bit1952,Morgan_bit1953,Morgan_bit1954,Morgan_bit1955,Morgan_bit1956,Morgan_bit1957,Morgan_bit1958,Morgan_bit1959,Morgan_bit1960,Morgan_bit1961,Morgan_bit1962,Morgan_bit1963,Morgan_bit1964,Morgan_bit1965,Morgan_bit1966,Morgan_bit1967,Morgan_bit1968,Morgan_bit1969,Morgan_bit1970,Morgan_bit1971,Morgan_bit1972,Morgan_bit1973,Morgan_bit1974,Morgan_bit1975,Morgan_bit1976,Morgan_bit1977,Morgan_bit1978,Morgan_bit1979,Morgan_bit1980,Morgan_bit1981,Morgan_bit1982,Morgan_bit1983,Morgan_bit1984,Morgan_bit1985,Morgan_bit1986,Morgan_bit1987,Morgan_bit1988,Morgan_bit1989,Morgan_bit1990,Morgan_bit1991,Morgan_bit1992,Morgan_bit1993,Morgan_bit1994,Morgan_bit1995,Morgan_bit1996,Morgan_bit1997,Morgan_bit1998,Morgan_bit1999,Morgan_bit2000,Morgan_bit2001,Morgan_bit2002,Morgan_bit2003,Morgan_bit2004,Morgan_bit2005,Morgan_bit2006,Morgan_bit2007,Morgan_bit2008,Morgan_bit2009,Morgan_bit2010,Morgan_bit2011,Morgan_bit2012,Morgan_bit2013,Morgan_bit2014,Morgan_bit2015,Morgan_bit2016,Morgan_bit2017,Morgan_bit2018,Morgan_bit2019,Morgan_bit2020,Morgan_bit2021,Morgan_bit2022,Morgan_bit2023,Morgan_bit2024,Morgan_bit2025,Morgan_bit2026,Morgan_bit2027,Morgan_bit2028,Morgan_bit2029,Morgan_bit2030,Morgan_bit2031,Morgan_bit2032,Morgan_bit2033,Morgan_bit2034,Morgan_bit2035,Morgan_bit2036,Morgan_bit2037,Morgan_bit2038,Morgan_bit2039,Morgan_bit2040,Morgan_bit2041,Morgan_bit2042,Morgan_bit2043,Morgan_bit2044,Morgan_bit2045,Morgan_bit2046,Morgan_bit2047\n",
      "NCGC00421504-01,CC(C)C[C@@H]1[NH2+][C@H](C(=O)N2CCOCC2)Cc2cn(Cc3ccncc3)c3cccc1c23,0,1,0,0,0,0,0,0,0,0,0,1,0,0,0,0,0,0,0,0,0,0,0,0,0,0,0,0,0,0,0,0,0,0,0,0,0,0,0,0,0,0,0,0,0,1,0,0,0,0,0,0,0,0,0,0,0,0,0,0,0,0,0,0,0,0,0,0,0,0,0,0,0,0,0,0,0,0,0,0,1,0,0,0,0,0,0,0,0,0,0,0,0,0,0,0,0,0,0,0,0,0,0,0,0,0,0,0,0,0,0,0,0,0,0,0,1,0,0,0,0,0,0,0,0,0,0,0,0,0,0,0,0,0,0,0,0,0,0,0,0,0,0,0,0,0,0,0,0,0,0,0,0,0,0,0,0,0,1,0,0,0,0,0,0,0,0,0,0,0,0,0,0,0,0,0,0,0,0,0,0,0,0,0,0,0,0,0,0,0,0,0,0,0,0,0,0,0,0,0,0,0,0,0,0,0,0,0,0,0,0,0,0,0,1,0,0,0,0,0,0,0,1,0,0,0,0,0,0,0,0,1,0,0,0,0,0,0,0,0,0,0,0,0,0,0,1,0,0,1,0,0,0,0,0,0,0,0,0,0,0,0,0,0,0,0,0,0,0,0,0,0,0,0,0,0,0,0,0,0,0,0,0,1,0,0,1,0,0,1,0,0,0,0,0,0,0,0,0,1,0,0,0,0,0,0,0,0,0,0,0,0,0,0,0,0,0,0,0,0,0,0,0,0,0,0,0,0,0,0,0,0,0,0,0,1,0,0,0,0,0,0,0,0,1,0,0,0,0,0,0,0,0,0,0,0,0,0,0,0,0,0,0,0,0,0,0,0,0,0,0,1,0,0,0,0,0,1,1,0,0,0,0,1,0,0,0,0,0,0,0,0,0,0,0,0,0,0,0,0,0,0,0,0,0,0,0,0,0,0,0,0,0,0,0,0,0,0,0,0,0,0,0,0,1,0,0,0,1,0,0,0,0,0,0,0,0,0,0,0,0,0,0,0,0,0,0,0,0,0,0,0,0,0,0,0,0,0,0,0,0,0,0,0,1,0,0,0,0,0,0,0,0,0,0,0,0,0,0,0,0,0,0,0,0,0,0,0,0,0,0,0,0,1,0,0,0,0,0,0,0,0,0,0,0,0,0,0,0,0,0,0,0,0,0,0,0,0,0,0,0,0,0,1,0,0,0,0,0,0,0,0,0,0,0,0,0,0,0,0,0,0,0,0,0,0,0,0,0,0,0,0,0,0,0,0,0,0,0,0,0,0,0,0,0,0,0,0,0,0,0,0,0,0,0,0,0,0,0,0,0,0,0,0,0,0,0,0,0,0,0,0,0,0,0,0,0,0,0,0,0,0,0,0,0,0,0,0,0,0,0,0,0,0,0,0,0,0,0,0,0,0,0,0,0,0,0,0,0,0,0,0,0,0,0,0,0,0,0,0,0,0,0,0,0,0,0,0,0,0,1,0,0,0,0,0,1,0,0,0,0,0,0,0,0,0,0,0,0,0,0,0,0,0,0,0,0,0,0,0,0,0,0,0,0,0,0,0,0,0,0,0,0,0,0,0,0,0,0,0,0,0,0,0,0,0,0,0,0,0,0,0,0,0,0,0,0,0,0,0,0,0,0,0,0,0,0,0,0,0,0,0,0,0,0,0,0,0,0,0,0,0,0,0,0,0,0,0,0,0,0,0,0,0,0,0,0,0,0,0,0,0,0,0,0,0,0,0,0,0,0,0,0,0,0,0,0,0,0,0,0,0,0,1,0,0,0,1,0,0,0,0,0,0,0,0,0,0,0,0,0,0,0,0,0,0,0,1,0,0,0,0,0,0,0,0,0,0,0,0,0,0,0,0,0,0,0,0,0,1,0,0,0,0,0,0,0,0,0,0,0,0,0,0,0,0,0,0,0,0,0,0,0,0,0,0,0,0,1,0,0,0,0,0,0,0,0,0,0,0,0,0,0,0,0,0,0,0,0,0,0,0,0,0,0,0,0,0,0,0,0,0,0,0,0,0,0,0,0,0,0,0,0,0,0,0,1,0,0,0,0,0,0,0,0,0,0,0,0,1,0,0,0,0,0,0,1,0,0,0,0,0,0,0,0,1,0,0,0,0,0,0,0,0,0,0,0,0,0,0,1,0,0,0,0,0,0,0,0,0,0,0,0,0,0,0,0,0,0,0,0,0,0,0,0,0,0,0,0,0,0,0,0,0,0,0,0,0,0,0,0,0,0,0,0,0,0,0,0,0,0,0,0,0,0,0,0,0,0,1,0,0,0,0,0,0,0,0,0,1,0,0,0,0,1,0,0,1,0,0,0,0,0,0,0,0,0,0,0,1,0,0,0,0,0,0,0,0,0,0,0,0,0,0,0,0,0,1,0,0,0,0,0,0,0,1,0,0,0,0,0,0,0,0,0,0,0,0,0,0,0,0,0,0,0,0,0,0,1,0,0,0,0,0,0,0,0,0,0,0,0,0,0,1,0,0,0,0,0,0,0,0,0,0,0,0,0,0,0,0,0,0,0,0,0,0,0,0,0,0,0,0,0,0,0,0,0,0,0,0,0,0,0,0,0,0,0,0,0,0,0,1,0,0,0,0,1,0,0,0,0,0,0,0,0,0,0,0,0,0,0,0,0,0,0,0,0,0,0,0,0,0,0,0,0,0,0,0,0,0,0,0,0,0,0,0,0,0,0,0,0,0,0,0,0,0,0,0,1,0,0,0,0,0,0,0,0,0,0,0,0,0,0,0,0,0,0,0,0,0,0,0,0,0,0,0,1,0,0,0,0,0,0,0,0,0,0,0,0,0,0,0,0,0,0,0,0,0,0,0,0,0,0,0,0,0,0,0,0,0,0,0,0,0,0,0,0,0,0,0,0,0,0,0,0,1,0,0,0,0,0,0,0,0,0,0,0,0,0,0,0,0,0,0,0,1,0,0,0,0,0,0,0,0,0,0,0,0,0,0,0,0,0,0,0,0,0,0,0,0,0,0,0,0,0,0,0,1,0,0,0,0,0,0,0,0,0,0,0,0,0,0,0,0,0,0,0,0,0,0,0,0,0,0,0,0,0,0,0,0,0,0,0,0,0,0,0,0,0,0,1,0,0,0,0,0,0,0,0,0,0,0,0,0,0,0,0,0,0,0,0,0,0,0,0,1,0,0,0,0,0,0,0,0,0,0,0,0,0,0,0,0,0,0,0,0,0,0,0,0,0,0,0,0,0,0,0,0,0,0,0,1,0,0,0,0,0,0,0,0,0,0,0,0,0,1,0,0,1,0,0,0,0,0,0,0,0,0,0,1,0,0,0,0,0,0,0,0,0,1,1,0,0,0,0,0,0,0,0,0,0,0,0,0,0,0,0,0,0,0,0,0,0,0,0,0,0,0,0,0,0,0,0,0,0,0,0,0,0,0,0,0,0,0,0,0,0,0,0,0,0,0,0,0,0,1,0,0,0,0,0,0,0,0,0,0,0,0,0,0,0,0,0,0,0,0,0,0,0,1,0,0,0,0,0,0,0,0,0,0,0,0,1,0,0,0,0,0,0,0,0,0,0,0,0,0,0,0,0,0,0,0,0,0,0,0,0,0,0,0,0,0,0,1,0,0,0,0,0,0,0,0,0,0,0,0,0,0,0,0,0,0,0,0,0,0,0,0,0,0,0,1,0,0,0,0,0,0,0,0,0,0,0,0,0,0,0,0,0,0,0,0,0,0,0,0,0,0,0,0,0,0,0,0,0,0,0,0,0,0,0,1,0,0,0,0,0,0,0,0,0,0,0,1,0,1,0,0,0,0,0,0,0,1,0,0,0,0,1,0,0,0,0,0,0,0,0,0,0,0,0,0,0,0,0,0,0,0,1,0,0,0,0,0,0,0,0,0,0,0,0,0,0,0,0,0,0,0,0,0,0,0,0,0,0,0,0,0,0,0,1,0,0,0,1,0,0,0,0,0,0,0,0,0,0,1,0,0,0,0,0,0,0,0,0,0,0,0,0,0,0,0,0,0,0,0,0,0,0,0,0,0,0,0,0,0,0,0,0,0,0,0,0,0,0,0,0,0,0,0,0,0,0,0,0,0,0,0,0,0,0,0,0,0,0,0,0,1,0,0,1,0,0,0,0,0,0,0,0,0,0,0,0,0,0,0,0,1,0,0,0,1,0,0,0,0,0,0,0,0,0,0,0,0,1,0,1,0,0,0,0,0,0,1,0,0,0,0,0,0,0,0,0,0,0,0,0,0,0,0,0,0,0,0,0,0,0,0,0,0,0,0,0,0,0,0,0,0,0,0,0,0,0,0,0,0,0,1,0,0,0,0,0,0,0,0,0,0,0,0,0,0,0,0,0,0,0,0,0,0,0,0,0,0,0,0,0,0,0,0,0,0,0,0,0,0,0,0,0,0,0,0,0,0,0,0,0,0,0,0,0,0,0,0,1,0,0,0,0,0,0,0,0,0,1,0,0,0,0,0,0,0,0,0,0,0,0,0,0,0,0,0,0,0,0,0,0,0,0,1,0,0,0,0,0,0,0,0,0,0,0,0,0,0,0,0,0,0,0,0,0,0,0,0,0,0,0,0,0,0,0,0,0,0,0,0,0,0\n"
     ]
    }
   ],
   "source": [
    "!head -n 2 round1_100_cmpds.csv"
   ]
  },
  {
   "cell_type": "markdown",
   "id": "6850db2b-f9b3-463c-9e1e-83b8ef2891b0",
   "metadata": {},
   "source": [
    "ROUND 1"
   ]
  },
  {
   "cell_type": "code",
   "execution_count": 21,
   "id": "a3c993b5-44bb-475f-a7c7-0cf7c6e8480f",
   "metadata": {},
   "outputs": [
    {
     "name": "stdout",
     "output_type": "stream",
     "text": [
      "Selected compounds saved to round1_100_train_cmpds.csv\n"
     ]
    }
   ],
   "source": [
    "# Unblind the scores for these 100 randomly chosen compounds and save as training set.\n",
    "input_csv_path = '../../../7nsw_all_hybrid.csv'\n",
    "cmpds_csv_path = 'round1_100_cmpds.csv'\n",
    "output_csv_path = 'round1_100_train_cmpds.csv'\n",
    "\n",
    "select_scores(input_csv_path, cmpds_csv_path, output_csv_path)"
   ]
  },
  {
   "cell_type": "code",
   "execution_count": 22,
   "id": "3048515d-9896-45c5-92ca-049ec7c12619",
   "metadata": {},
   "outputs": [
    {
     "name": "stdout",
     "output_type": "stream",
     "text": [
      "Name,SMILES,Score\n",
      "NCGC00373360-01,CC(C)CC[N@@H+]1CCC[C@@]2(C1)CC(=NO2)c3cccnc3,-12.2036\n"
     ]
    }
   ],
   "source": [
    "!head -n 2 round1_100_train_cmpds.csv"
   ]
  },
  {
   "cell_type": "code",
   "execution_count": 23,
   "id": "3923dc88-5cc2-4feb-a2f7-13bcb2af3dc4",
   "metadata": {},
   "outputs": [
    {
     "name": "stdout",
     "output_type": "stream",
     "text": [
      "Descriptors appended to round1_100_train_cmpds.csv\n"
     ]
    }
   ],
   "source": [
    "# Extract the descriptors and append them to the training set.\n",
    "compounds_csv_path = 'round1_100_train_cmpds.csv'\n",
    "descriptors_csv_path = '../../../docked_ecfp.csv'\n",
    "\n",
    "append_descriptors_to_csv(compounds_csv_path, descriptors_csv_path)"
   ]
  },
  {
   "cell_type": "code",
   "execution_count": 24,
   "id": "36b387a9-3e7b-41fd-bbe5-6a899492ba22",
   "metadata": {},
   "outputs": [
    {
     "name": "stdout",
     "output_type": "stream",
     "text": [
      "Name,SMILES,Score,Morgan_bit0,Morgan_bit1,Morgan_bit2,Morgan_bit3,Morgan_bit4,Morgan_bit5,Morgan_bit6,Morgan_bit7,Morgan_bit8,Morgan_bit9,Morgan_bit10,Morgan_bit11,Morgan_bit12,Morgan_bit13,Morgan_bit14,Morgan_bit15,Morgan_bit16,Morgan_bit17,Morgan_bit18,Morgan_bit19,Morgan_bit20,Morgan_bit21,Morgan_bit22,Morgan_bit23,Morgan_bit24,Morgan_bit25,Morgan_bit26,Morgan_bit27,Morgan_bit28,Morgan_bit29,Morgan_bit30,Morgan_bit31,Morgan_bit32,Morgan_bit33,Morgan_bit34,Morgan_bit35,Morgan_bit36,Morgan_bit37,Morgan_bit38,Morgan_bit39,Morgan_bit40,Morgan_bit41,Morgan_bit42,Morgan_bit43,Morgan_bit44,Morgan_bit45,Morgan_bit46,Morgan_bit47,Morgan_bit48,Morgan_bit49,Morgan_bit50,Morgan_bit51,Morgan_bit52,Morgan_bit53,Morgan_bit54,Morgan_bit55,Morgan_bit56,Morgan_bit57,Morgan_bit58,Morgan_bit59,Morgan_bit60,Morgan_bit61,Morgan_bit62,Morgan_bit63,Morgan_bit64,Morgan_bit65,Morgan_bit66,Morgan_bit67,Morgan_bit68,Morgan_bit69,Morgan_bit70,Morgan_bit71,Morgan_bit72,Morgan_bit73,Morgan_bit74,Morgan_bit75,Morgan_bit76,Morgan_bit77,Morgan_bit78,Morgan_bit79,Morgan_bit80,Morgan_bit81,Morgan_bit82,Morgan_bit83,Morgan_bit84,Morgan_bit85,Morgan_bit86,Morgan_bit87,Morgan_bit88,Morgan_bit89,Morgan_bit90,Morgan_bit91,Morgan_bit92,Morgan_bit93,Morgan_bit94,Morgan_bit95,Morgan_bit96,Morgan_bit97,Morgan_bit98,Morgan_bit99,Morgan_bit100,Morgan_bit101,Morgan_bit102,Morgan_bit103,Morgan_bit104,Morgan_bit105,Morgan_bit106,Morgan_bit107,Morgan_bit108,Morgan_bit109,Morgan_bit110,Morgan_bit111,Morgan_bit112,Morgan_bit113,Morgan_bit114,Morgan_bit115,Morgan_bit116,Morgan_bit117,Morgan_bit118,Morgan_bit119,Morgan_bit120,Morgan_bit121,Morgan_bit122,Morgan_bit123,Morgan_bit124,Morgan_bit125,Morgan_bit126,Morgan_bit127,Morgan_bit128,Morgan_bit129,Morgan_bit130,Morgan_bit131,Morgan_bit132,Morgan_bit133,Morgan_bit134,Morgan_bit135,Morgan_bit136,Morgan_bit137,Morgan_bit138,Morgan_bit139,Morgan_bit140,Morgan_bit141,Morgan_bit142,Morgan_bit143,Morgan_bit144,Morgan_bit145,Morgan_bit146,Morgan_bit147,Morgan_bit148,Morgan_bit149,Morgan_bit150,Morgan_bit151,Morgan_bit152,Morgan_bit153,Morgan_bit154,Morgan_bit155,Morgan_bit156,Morgan_bit157,Morgan_bit158,Morgan_bit159,Morgan_bit160,Morgan_bit161,Morgan_bit162,Morgan_bit163,Morgan_bit164,Morgan_bit165,Morgan_bit166,Morgan_bit167,Morgan_bit168,Morgan_bit169,Morgan_bit170,Morgan_bit171,Morgan_bit172,Morgan_bit173,Morgan_bit174,Morgan_bit175,Morgan_bit176,Morgan_bit177,Morgan_bit178,Morgan_bit179,Morgan_bit180,Morgan_bit181,Morgan_bit182,Morgan_bit183,Morgan_bit184,Morgan_bit185,Morgan_bit186,Morgan_bit187,Morgan_bit188,Morgan_bit189,Morgan_bit190,Morgan_bit191,Morgan_bit192,Morgan_bit193,Morgan_bit194,Morgan_bit195,Morgan_bit196,Morgan_bit197,Morgan_bit198,Morgan_bit199,Morgan_bit200,Morgan_bit201,Morgan_bit202,Morgan_bit203,Morgan_bit204,Morgan_bit205,Morgan_bit206,Morgan_bit207,Morgan_bit208,Morgan_bit209,Morgan_bit210,Morgan_bit211,Morgan_bit212,Morgan_bit213,Morgan_bit214,Morgan_bit215,Morgan_bit216,Morgan_bit217,Morgan_bit218,Morgan_bit219,Morgan_bit220,Morgan_bit221,Morgan_bit222,Morgan_bit223,Morgan_bit224,Morgan_bit225,Morgan_bit226,Morgan_bit227,Morgan_bit228,Morgan_bit229,Morgan_bit230,Morgan_bit231,Morgan_bit232,Morgan_bit233,Morgan_bit234,Morgan_bit235,Morgan_bit236,Morgan_bit237,Morgan_bit238,Morgan_bit239,Morgan_bit240,Morgan_bit241,Morgan_bit242,Morgan_bit243,Morgan_bit244,Morgan_bit245,Morgan_bit246,Morgan_bit247,Morgan_bit248,Morgan_bit249,Morgan_bit250,Morgan_bit251,Morgan_bit252,Morgan_bit253,Morgan_bit254,Morgan_bit255,Morgan_bit256,Morgan_bit257,Morgan_bit258,Morgan_bit259,Morgan_bit260,Morgan_bit261,Morgan_bit262,Morgan_bit263,Morgan_bit264,Morgan_bit265,Morgan_bit266,Morgan_bit267,Morgan_bit268,Morgan_bit269,Morgan_bit270,Morgan_bit271,Morgan_bit272,Morgan_bit273,Morgan_bit274,Morgan_bit275,Morgan_bit276,Morgan_bit277,Morgan_bit278,Morgan_bit279,Morgan_bit280,Morgan_bit281,Morgan_bit282,Morgan_bit283,Morgan_bit284,Morgan_bit285,Morgan_bit286,Morgan_bit287,Morgan_bit288,Morgan_bit289,Morgan_bit290,Morgan_bit291,Morgan_bit292,Morgan_bit293,Morgan_bit294,Morgan_bit295,Morgan_bit296,Morgan_bit297,Morgan_bit298,Morgan_bit299,Morgan_bit300,Morgan_bit301,Morgan_bit302,Morgan_bit303,Morgan_bit304,Morgan_bit305,Morgan_bit306,Morgan_bit307,Morgan_bit308,Morgan_bit309,Morgan_bit310,Morgan_bit311,Morgan_bit312,Morgan_bit313,Morgan_bit314,Morgan_bit315,Morgan_bit316,Morgan_bit317,Morgan_bit318,Morgan_bit319,Morgan_bit320,Morgan_bit321,Morgan_bit322,Morgan_bit323,Morgan_bit324,Morgan_bit325,Morgan_bit326,Morgan_bit327,Morgan_bit328,Morgan_bit329,Morgan_bit330,Morgan_bit331,Morgan_bit332,Morgan_bit333,Morgan_bit334,Morgan_bit335,Morgan_bit336,Morgan_bit337,Morgan_bit338,Morgan_bit339,Morgan_bit340,Morgan_bit341,Morgan_bit342,Morgan_bit343,Morgan_bit344,Morgan_bit345,Morgan_bit346,Morgan_bit347,Morgan_bit348,Morgan_bit349,Morgan_bit350,Morgan_bit351,Morgan_bit352,Morgan_bit353,Morgan_bit354,Morgan_bit355,Morgan_bit356,Morgan_bit357,Morgan_bit358,Morgan_bit359,Morgan_bit360,Morgan_bit361,Morgan_bit362,Morgan_bit363,Morgan_bit364,Morgan_bit365,Morgan_bit366,Morgan_bit367,Morgan_bit368,Morgan_bit369,Morgan_bit370,Morgan_bit371,Morgan_bit372,Morgan_bit373,Morgan_bit374,Morgan_bit375,Morgan_bit376,Morgan_bit377,Morgan_bit378,Morgan_bit379,Morgan_bit380,Morgan_bit381,Morgan_bit382,Morgan_bit383,Morgan_bit384,Morgan_bit385,Morgan_bit386,Morgan_bit387,Morgan_bit388,Morgan_bit389,Morgan_bit390,Morgan_bit391,Morgan_bit392,Morgan_bit393,Morgan_bit394,Morgan_bit395,Morgan_bit396,Morgan_bit397,Morgan_bit398,Morgan_bit399,Morgan_bit400,Morgan_bit401,Morgan_bit402,Morgan_bit403,Morgan_bit404,Morgan_bit405,Morgan_bit406,Morgan_bit407,Morgan_bit408,Morgan_bit409,Morgan_bit410,Morgan_bit411,Morgan_bit412,Morgan_bit413,Morgan_bit414,Morgan_bit415,Morgan_bit416,Morgan_bit417,Morgan_bit418,Morgan_bit419,Morgan_bit420,Morgan_bit421,Morgan_bit422,Morgan_bit423,Morgan_bit424,Morgan_bit425,Morgan_bit426,Morgan_bit427,Morgan_bit428,Morgan_bit429,Morgan_bit430,Morgan_bit431,Morgan_bit432,Morgan_bit433,Morgan_bit434,Morgan_bit435,Morgan_bit436,Morgan_bit437,Morgan_bit438,Morgan_bit439,Morgan_bit440,Morgan_bit441,Morgan_bit442,Morgan_bit443,Morgan_bit444,Morgan_bit445,Morgan_bit446,Morgan_bit447,Morgan_bit448,Morgan_bit449,Morgan_bit450,Morgan_bit451,Morgan_bit452,Morgan_bit453,Morgan_bit454,Morgan_bit455,Morgan_bit456,Morgan_bit457,Morgan_bit458,Morgan_bit459,Morgan_bit460,Morgan_bit461,Morgan_bit462,Morgan_bit463,Morgan_bit464,Morgan_bit465,Morgan_bit466,Morgan_bit467,Morgan_bit468,Morgan_bit469,Morgan_bit470,Morgan_bit471,Morgan_bit472,Morgan_bit473,Morgan_bit474,Morgan_bit475,Morgan_bit476,Morgan_bit477,Morgan_bit478,Morgan_bit479,Morgan_bit480,Morgan_bit481,Morgan_bit482,Morgan_bit483,Morgan_bit484,Morgan_bit485,Morgan_bit486,Morgan_bit487,Morgan_bit488,Morgan_bit489,Morgan_bit490,Morgan_bit491,Morgan_bit492,Morgan_bit493,Morgan_bit494,Morgan_bit495,Morgan_bit496,Morgan_bit497,Morgan_bit498,Morgan_bit499,Morgan_bit500,Morgan_bit501,Morgan_bit502,Morgan_bit503,Morgan_bit504,Morgan_bit505,Morgan_bit506,Morgan_bit507,Morgan_bit508,Morgan_bit509,Morgan_bit510,Morgan_bit511,Morgan_bit512,Morgan_bit513,Morgan_bit514,Morgan_bit515,Morgan_bit516,Morgan_bit517,Morgan_bit518,Morgan_bit519,Morgan_bit520,Morgan_bit521,Morgan_bit522,Morgan_bit523,Morgan_bit524,Morgan_bit525,Morgan_bit526,Morgan_bit527,Morgan_bit528,Morgan_bit529,Morgan_bit530,Morgan_bit531,Morgan_bit532,Morgan_bit533,Morgan_bit534,Morgan_bit535,Morgan_bit536,Morgan_bit537,Morgan_bit538,Morgan_bit539,Morgan_bit540,Morgan_bit541,Morgan_bit542,Morgan_bit543,Morgan_bit544,Morgan_bit545,Morgan_bit546,Morgan_bit547,Morgan_bit548,Morgan_bit549,Morgan_bit550,Morgan_bit551,Morgan_bit552,Morgan_bit553,Morgan_bit554,Morgan_bit555,Morgan_bit556,Morgan_bit557,Morgan_bit558,Morgan_bit559,Morgan_bit560,Morgan_bit561,Morgan_bit562,Morgan_bit563,Morgan_bit564,Morgan_bit565,Morgan_bit566,Morgan_bit567,Morgan_bit568,Morgan_bit569,Morgan_bit570,Morgan_bit571,Morgan_bit572,Morgan_bit573,Morgan_bit574,Morgan_bit575,Morgan_bit576,Morgan_bit577,Morgan_bit578,Morgan_bit579,Morgan_bit580,Morgan_bit581,Morgan_bit582,Morgan_bit583,Morgan_bit584,Morgan_bit585,Morgan_bit586,Morgan_bit587,Morgan_bit588,Morgan_bit589,Morgan_bit590,Morgan_bit591,Morgan_bit592,Morgan_bit593,Morgan_bit594,Morgan_bit595,Morgan_bit596,Morgan_bit597,Morgan_bit598,Morgan_bit599,Morgan_bit600,Morgan_bit601,Morgan_bit602,Morgan_bit603,Morgan_bit604,Morgan_bit605,Morgan_bit606,Morgan_bit607,Morgan_bit608,Morgan_bit609,Morgan_bit610,Morgan_bit611,Morgan_bit612,Morgan_bit613,Morgan_bit614,Morgan_bit615,Morgan_bit616,Morgan_bit617,Morgan_bit618,Morgan_bit619,Morgan_bit620,Morgan_bit621,Morgan_bit622,Morgan_bit623,Morgan_bit624,Morgan_bit625,Morgan_bit626,Morgan_bit627,Morgan_bit628,Morgan_bit629,Morgan_bit630,Morgan_bit631,Morgan_bit632,Morgan_bit633,Morgan_bit634,Morgan_bit635,Morgan_bit636,Morgan_bit637,Morgan_bit638,Morgan_bit639,Morgan_bit640,Morgan_bit641,Morgan_bit642,Morgan_bit643,Morgan_bit644,Morgan_bit645,Morgan_bit646,Morgan_bit647,Morgan_bit648,Morgan_bit649,Morgan_bit650,Morgan_bit651,Morgan_bit652,Morgan_bit653,Morgan_bit654,Morgan_bit655,Morgan_bit656,Morgan_bit657,Morgan_bit658,Morgan_bit659,Morgan_bit660,Morgan_bit661,Morgan_bit662,Morgan_bit663,Morgan_bit664,Morgan_bit665,Morgan_bit666,Morgan_bit667,Morgan_bit668,Morgan_bit669,Morgan_bit670,Morgan_bit671,Morgan_bit672,Morgan_bit673,Morgan_bit674,Morgan_bit675,Morgan_bit676,Morgan_bit677,Morgan_bit678,Morgan_bit679,Morgan_bit680,Morgan_bit681,Morgan_bit682,Morgan_bit683,Morgan_bit684,Morgan_bit685,Morgan_bit686,Morgan_bit687,Morgan_bit688,Morgan_bit689,Morgan_bit690,Morgan_bit691,Morgan_bit692,Morgan_bit693,Morgan_bit694,Morgan_bit695,Morgan_bit696,Morgan_bit697,Morgan_bit698,Morgan_bit699,Morgan_bit700,Morgan_bit701,Morgan_bit702,Morgan_bit703,Morgan_bit704,Morgan_bit705,Morgan_bit706,Morgan_bit707,Morgan_bit708,Morgan_bit709,Morgan_bit710,Morgan_bit711,Morgan_bit712,Morgan_bit713,Morgan_bit714,Morgan_bit715,Morgan_bit716,Morgan_bit717,Morgan_bit718,Morgan_bit719,Morgan_bit720,Morgan_bit721,Morgan_bit722,Morgan_bit723,Morgan_bit724,Morgan_bit725,Morgan_bit726,Morgan_bit727,Morgan_bit728,Morgan_bit729,Morgan_bit730,Morgan_bit731,Morgan_bit732,Morgan_bit733,Morgan_bit734,Morgan_bit735,Morgan_bit736,Morgan_bit737,Morgan_bit738,Morgan_bit739,Morgan_bit740,Morgan_bit741,Morgan_bit742,Morgan_bit743,Morgan_bit744,Morgan_bit745,Morgan_bit746,Morgan_bit747,Morgan_bit748,Morgan_bit749,Morgan_bit750,Morgan_bit751,Morgan_bit752,Morgan_bit753,Morgan_bit754,Morgan_bit755,Morgan_bit756,Morgan_bit757,Morgan_bit758,Morgan_bit759,Morgan_bit760,Morgan_bit761,Morgan_bit762,Morgan_bit763,Morgan_bit764,Morgan_bit765,Morgan_bit766,Morgan_bit767,Morgan_bit768,Morgan_bit769,Morgan_bit770,Morgan_bit771,Morgan_bit772,Morgan_bit773,Morgan_bit774,Morgan_bit775,Morgan_bit776,Morgan_bit777,Morgan_bit778,Morgan_bit779,Morgan_bit780,Morgan_bit781,Morgan_bit782,Morgan_bit783,Morgan_bit784,Morgan_bit785,Morgan_bit786,Morgan_bit787,Morgan_bit788,Morgan_bit789,Morgan_bit790,Morgan_bit791,Morgan_bit792,Morgan_bit793,Morgan_bit794,Morgan_bit795,Morgan_bit796,Morgan_bit797,Morgan_bit798,Morgan_bit799,Morgan_bit800,Morgan_bit801,Morgan_bit802,Morgan_bit803,Morgan_bit804,Morgan_bit805,Morgan_bit806,Morgan_bit807,Morgan_bit808,Morgan_bit809,Morgan_bit810,Morgan_bit811,Morgan_bit812,Morgan_bit813,Morgan_bit814,Morgan_bit815,Morgan_bit816,Morgan_bit817,Morgan_bit818,Morgan_bit819,Morgan_bit820,Morgan_bit821,Morgan_bit822,Morgan_bit823,Morgan_bit824,Morgan_bit825,Morgan_bit826,Morgan_bit827,Morgan_bit828,Morgan_bit829,Morgan_bit830,Morgan_bit831,Morgan_bit832,Morgan_bit833,Morgan_bit834,Morgan_bit835,Morgan_bit836,Morgan_bit837,Morgan_bit838,Morgan_bit839,Morgan_bit840,Morgan_bit841,Morgan_bit842,Morgan_bit843,Morgan_bit844,Morgan_bit845,Morgan_bit846,Morgan_bit847,Morgan_bit848,Morgan_bit849,Morgan_bit850,Morgan_bit851,Morgan_bit852,Morgan_bit853,Morgan_bit854,Morgan_bit855,Morgan_bit856,Morgan_bit857,Morgan_bit858,Morgan_bit859,Morgan_bit860,Morgan_bit861,Morgan_bit862,Morgan_bit863,Morgan_bit864,Morgan_bit865,Morgan_bit866,Morgan_bit867,Morgan_bit868,Morgan_bit869,Morgan_bit870,Morgan_bit871,Morgan_bit872,Morgan_bit873,Morgan_bit874,Morgan_bit875,Morgan_bit876,Morgan_bit877,Morgan_bit878,Morgan_bit879,Morgan_bit880,Morgan_bit881,Morgan_bit882,Morgan_bit883,Morgan_bit884,Morgan_bit885,Morgan_bit886,Morgan_bit887,Morgan_bit888,Morgan_bit889,Morgan_bit890,Morgan_bit891,Morgan_bit892,Morgan_bit893,Morgan_bit894,Morgan_bit895,Morgan_bit896,Morgan_bit897,Morgan_bit898,Morgan_bit899,Morgan_bit900,Morgan_bit901,Morgan_bit902,Morgan_bit903,Morgan_bit904,Morgan_bit905,Morgan_bit906,Morgan_bit907,Morgan_bit908,Morgan_bit909,Morgan_bit910,Morgan_bit911,Morgan_bit912,Morgan_bit913,Morgan_bit914,Morgan_bit915,Morgan_bit916,Morgan_bit917,Morgan_bit918,Morgan_bit919,Morgan_bit920,Morgan_bit921,Morgan_bit922,Morgan_bit923,Morgan_bit924,Morgan_bit925,Morgan_bit926,Morgan_bit927,Morgan_bit928,Morgan_bit929,Morgan_bit930,Morgan_bit931,Morgan_bit932,Morgan_bit933,Morgan_bit934,Morgan_bit935,Morgan_bit936,Morgan_bit937,Morgan_bit938,Morgan_bit939,Morgan_bit940,Morgan_bit941,Morgan_bit942,Morgan_bit943,Morgan_bit944,Morgan_bit945,Morgan_bit946,Morgan_bit947,Morgan_bit948,Morgan_bit949,Morgan_bit950,Morgan_bit951,Morgan_bit952,Morgan_bit953,Morgan_bit954,Morgan_bit955,Morgan_bit956,Morgan_bit957,Morgan_bit958,Morgan_bit959,Morgan_bit960,Morgan_bit961,Morgan_bit962,Morgan_bit963,Morgan_bit964,Morgan_bit965,Morgan_bit966,Morgan_bit967,Morgan_bit968,Morgan_bit969,Morgan_bit970,Morgan_bit971,Morgan_bit972,Morgan_bit973,Morgan_bit974,Morgan_bit975,Morgan_bit976,Morgan_bit977,Morgan_bit978,Morgan_bit979,Morgan_bit980,Morgan_bit981,Morgan_bit982,Morgan_bit983,Morgan_bit984,Morgan_bit985,Morgan_bit986,Morgan_bit987,Morgan_bit988,Morgan_bit989,Morgan_bit990,Morgan_bit991,Morgan_bit992,Morgan_bit993,Morgan_bit994,Morgan_bit995,Morgan_bit996,Morgan_bit997,Morgan_bit998,Morgan_bit999,Morgan_bit1000,Morgan_bit1001,Morgan_bit1002,Morgan_bit1003,Morgan_bit1004,Morgan_bit1005,Morgan_bit1006,Morgan_bit1007,Morgan_bit1008,Morgan_bit1009,Morgan_bit1010,Morgan_bit1011,Morgan_bit1012,Morgan_bit1013,Morgan_bit1014,Morgan_bit1015,Morgan_bit1016,Morgan_bit1017,Morgan_bit1018,Morgan_bit1019,Morgan_bit1020,Morgan_bit1021,Morgan_bit1022,Morgan_bit1023,Morgan_bit1024,Morgan_bit1025,Morgan_bit1026,Morgan_bit1027,Morgan_bit1028,Morgan_bit1029,Morgan_bit1030,Morgan_bit1031,Morgan_bit1032,Morgan_bit1033,Morgan_bit1034,Morgan_bit1035,Morgan_bit1036,Morgan_bit1037,Morgan_bit1038,Morgan_bit1039,Morgan_bit1040,Morgan_bit1041,Morgan_bit1042,Morgan_bit1043,Morgan_bit1044,Morgan_bit1045,Morgan_bit1046,Morgan_bit1047,Morgan_bit1048,Morgan_bit1049,Morgan_bit1050,Morgan_bit1051,Morgan_bit1052,Morgan_bit1053,Morgan_bit1054,Morgan_bit1055,Morgan_bit1056,Morgan_bit1057,Morgan_bit1058,Morgan_bit1059,Morgan_bit1060,Morgan_bit1061,Morgan_bit1062,Morgan_bit1063,Morgan_bit1064,Morgan_bit1065,Morgan_bit1066,Morgan_bit1067,Morgan_bit1068,Morgan_bit1069,Morgan_bit1070,Morgan_bit1071,Morgan_bit1072,Morgan_bit1073,Morgan_bit1074,Morgan_bit1075,Morgan_bit1076,Morgan_bit1077,Morgan_bit1078,Morgan_bit1079,Morgan_bit1080,Morgan_bit1081,Morgan_bit1082,Morgan_bit1083,Morgan_bit1084,Morgan_bit1085,Morgan_bit1086,Morgan_bit1087,Morgan_bit1088,Morgan_bit1089,Morgan_bit1090,Morgan_bit1091,Morgan_bit1092,Morgan_bit1093,Morgan_bit1094,Morgan_bit1095,Morgan_bit1096,Morgan_bit1097,Morgan_bit1098,Morgan_bit1099,Morgan_bit1100,Morgan_bit1101,Morgan_bit1102,Morgan_bit1103,Morgan_bit1104,Morgan_bit1105,Morgan_bit1106,Morgan_bit1107,Morgan_bit1108,Morgan_bit1109,Morgan_bit1110,Morgan_bit1111,Morgan_bit1112,Morgan_bit1113,Morgan_bit1114,Morgan_bit1115,Morgan_bit1116,Morgan_bit1117,Morgan_bit1118,Morgan_bit1119,Morgan_bit1120,Morgan_bit1121,Morgan_bit1122,Morgan_bit1123,Morgan_bit1124,Morgan_bit1125,Morgan_bit1126,Morgan_bit1127,Morgan_bit1128,Morgan_bit1129,Morgan_bit1130,Morgan_bit1131,Morgan_bit1132,Morgan_bit1133,Morgan_bit1134,Morgan_bit1135,Morgan_bit1136,Morgan_bit1137,Morgan_bit1138,Morgan_bit1139,Morgan_bit1140,Morgan_bit1141,Morgan_bit1142,Morgan_bit1143,Morgan_bit1144,Morgan_bit1145,Morgan_bit1146,Morgan_bit1147,Morgan_bit1148,Morgan_bit1149,Morgan_bit1150,Morgan_bit1151,Morgan_bit1152,Morgan_bit1153,Morgan_bit1154,Morgan_bit1155,Morgan_bit1156,Morgan_bit1157,Morgan_bit1158,Morgan_bit1159,Morgan_bit1160,Morgan_bit1161,Morgan_bit1162,Morgan_bit1163,Morgan_bit1164,Morgan_bit1165,Morgan_bit1166,Morgan_bit1167,Morgan_bit1168,Morgan_bit1169,Morgan_bit1170,Morgan_bit1171,Morgan_bit1172,Morgan_bit1173,Morgan_bit1174,Morgan_bit1175,Morgan_bit1176,Morgan_bit1177,Morgan_bit1178,Morgan_bit1179,Morgan_bit1180,Morgan_bit1181,Morgan_bit1182,Morgan_bit1183,Morgan_bit1184,Morgan_bit1185,Morgan_bit1186,Morgan_bit1187,Morgan_bit1188,Morgan_bit1189,Morgan_bit1190,Morgan_bit1191,Morgan_bit1192,Morgan_bit1193,Morgan_bit1194,Morgan_bit1195,Morgan_bit1196,Morgan_bit1197,Morgan_bit1198,Morgan_bit1199,Morgan_bit1200,Morgan_bit1201,Morgan_bit1202,Morgan_bit1203,Morgan_bit1204,Morgan_bit1205,Morgan_bit1206,Morgan_bit1207,Morgan_bit1208,Morgan_bit1209,Morgan_bit1210,Morgan_bit1211,Morgan_bit1212,Morgan_bit1213,Morgan_bit1214,Morgan_bit1215,Morgan_bit1216,Morgan_bit1217,Morgan_bit1218,Morgan_bit1219,Morgan_bit1220,Morgan_bit1221,Morgan_bit1222,Morgan_bit1223,Morgan_bit1224,Morgan_bit1225,Morgan_bit1226,Morgan_bit1227,Morgan_bit1228,Morgan_bit1229,Morgan_bit1230,Morgan_bit1231,Morgan_bit1232,Morgan_bit1233,Morgan_bit1234,Morgan_bit1235,Morgan_bit1236,Morgan_bit1237,Morgan_bit1238,Morgan_bit1239,Morgan_bit1240,Morgan_bit1241,Morgan_bit1242,Morgan_bit1243,Morgan_bit1244,Morgan_bit1245,Morgan_bit1246,Morgan_bit1247,Morgan_bit1248,Morgan_bit1249,Morgan_bit1250,Morgan_bit1251,Morgan_bit1252,Morgan_bit1253,Morgan_bit1254,Morgan_bit1255,Morgan_bit1256,Morgan_bit1257,Morgan_bit1258,Morgan_bit1259,Morgan_bit1260,Morgan_bit1261,Morgan_bit1262,Morgan_bit1263,Morgan_bit1264,Morgan_bit1265,Morgan_bit1266,Morgan_bit1267,Morgan_bit1268,Morgan_bit1269,Morgan_bit1270,Morgan_bit1271,Morgan_bit1272,Morgan_bit1273,Morgan_bit1274,Morgan_bit1275,Morgan_bit1276,Morgan_bit1277,Morgan_bit1278,Morgan_bit1279,Morgan_bit1280,Morgan_bit1281,Morgan_bit1282,Morgan_bit1283,Morgan_bit1284,Morgan_bit1285,Morgan_bit1286,Morgan_bit1287,Morgan_bit1288,Morgan_bit1289,Morgan_bit1290,Morgan_bit1291,Morgan_bit1292,Morgan_bit1293,Morgan_bit1294,Morgan_bit1295,Morgan_bit1296,Morgan_bit1297,Morgan_bit1298,Morgan_bit1299,Morgan_bit1300,Morgan_bit1301,Morgan_bit1302,Morgan_bit1303,Morgan_bit1304,Morgan_bit1305,Morgan_bit1306,Morgan_bit1307,Morgan_bit1308,Morgan_bit1309,Morgan_bit1310,Morgan_bit1311,Morgan_bit1312,Morgan_bit1313,Morgan_bit1314,Morgan_bit1315,Morgan_bit1316,Morgan_bit1317,Morgan_bit1318,Morgan_bit1319,Morgan_bit1320,Morgan_bit1321,Morgan_bit1322,Morgan_bit1323,Morgan_bit1324,Morgan_bit1325,Morgan_bit1326,Morgan_bit1327,Morgan_bit1328,Morgan_bit1329,Morgan_bit1330,Morgan_bit1331,Morgan_bit1332,Morgan_bit1333,Morgan_bit1334,Morgan_bit1335,Morgan_bit1336,Morgan_bit1337,Morgan_bit1338,Morgan_bit1339,Morgan_bit1340,Morgan_bit1341,Morgan_bit1342,Morgan_bit1343,Morgan_bit1344,Morgan_bit1345,Morgan_bit1346,Morgan_bit1347,Morgan_bit1348,Morgan_bit1349,Morgan_bit1350,Morgan_bit1351,Morgan_bit1352,Morgan_bit1353,Morgan_bit1354,Morgan_bit1355,Morgan_bit1356,Morgan_bit1357,Morgan_bit1358,Morgan_bit1359,Morgan_bit1360,Morgan_bit1361,Morgan_bit1362,Morgan_bit1363,Morgan_bit1364,Morgan_bit1365,Morgan_bit1366,Morgan_bit1367,Morgan_bit1368,Morgan_bit1369,Morgan_bit1370,Morgan_bit1371,Morgan_bit1372,Morgan_bit1373,Morgan_bit1374,Morgan_bit1375,Morgan_bit1376,Morgan_bit1377,Morgan_bit1378,Morgan_bit1379,Morgan_bit1380,Morgan_bit1381,Morgan_bit1382,Morgan_bit1383,Morgan_bit1384,Morgan_bit1385,Morgan_bit1386,Morgan_bit1387,Morgan_bit1388,Morgan_bit1389,Morgan_bit1390,Morgan_bit1391,Morgan_bit1392,Morgan_bit1393,Morgan_bit1394,Morgan_bit1395,Morgan_bit1396,Morgan_bit1397,Morgan_bit1398,Morgan_bit1399,Morgan_bit1400,Morgan_bit1401,Morgan_bit1402,Morgan_bit1403,Morgan_bit1404,Morgan_bit1405,Morgan_bit1406,Morgan_bit1407,Morgan_bit1408,Morgan_bit1409,Morgan_bit1410,Morgan_bit1411,Morgan_bit1412,Morgan_bit1413,Morgan_bit1414,Morgan_bit1415,Morgan_bit1416,Morgan_bit1417,Morgan_bit1418,Morgan_bit1419,Morgan_bit1420,Morgan_bit1421,Morgan_bit1422,Morgan_bit1423,Morgan_bit1424,Morgan_bit1425,Morgan_bit1426,Morgan_bit1427,Morgan_bit1428,Morgan_bit1429,Morgan_bit1430,Morgan_bit1431,Morgan_bit1432,Morgan_bit1433,Morgan_bit1434,Morgan_bit1435,Morgan_bit1436,Morgan_bit1437,Morgan_bit1438,Morgan_bit1439,Morgan_bit1440,Morgan_bit1441,Morgan_bit1442,Morgan_bit1443,Morgan_bit1444,Morgan_bit1445,Morgan_bit1446,Morgan_bit1447,Morgan_bit1448,Morgan_bit1449,Morgan_bit1450,Morgan_bit1451,Morgan_bit1452,Morgan_bit1453,Morgan_bit1454,Morgan_bit1455,Morgan_bit1456,Morgan_bit1457,Morgan_bit1458,Morgan_bit1459,Morgan_bit1460,Morgan_bit1461,Morgan_bit1462,Morgan_bit1463,Morgan_bit1464,Morgan_bit1465,Morgan_bit1466,Morgan_bit1467,Morgan_bit1468,Morgan_bit1469,Morgan_bit1470,Morgan_bit1471,Morgan_bit1472,Morgan_bit1473,Morgan_bit1474,Morgan_bit1475,Morgan_bit1476,Morgan_bit1477,Morgan_bit1478,Morgan_bit1479,Morgan_bit1480,Morgan_bit1481,Morgan_bit1482,Morgan_bit1483,Morgan_bit1484,Morgan_bit1485,Morgan_bit1486,Morgan_bit1487,Morgan_bit1488,Morgan_bit1489,Morgan_bit1490,Morgan_bit1491,Morgan_bit1492,Morgan_bit1493,Morgan_bit1494,Morgan_bit1495,Morgan_bit1496,Morgan_bit1497,Morgan_bit1498,Morgan_bit1499,Morgan_bit1500,Morgan_bit1501,Morgan_bit1502,Morgan_bit1503,Morgan_bit1504,Morgan_bit1505,Morgan_bit1506,Morgan_bit1507,Morgan_bit1508,Morgan_bit1509,Morgan_bit1510,Morgan_bit1511,Morgan_bit1512,Morgan_bit1513,Morgan_bit1514,Morgan_bit1515,Morgan_bit1516,Morgan_bit1517,Morgan_bit1518,Morgan_bit1519,Morgan_bit1520,Morgan_bit1521,Morgan_bit1522,Morgan_bit1523,Morgan_bit1524,Morgan_bit1525,Morgan_bit1526,Morgan_bit1527,Morgan_bit1528,Morgan_bit1529,Morgan_bit1530,Morgan_bit1531,Morgan_bit1532,Morgan_bit1533,Morgan_bit1534,Morgan_bit1535,Morgan_bit1536,Morgan_bit1537,Morgan_bit1538,Morgan_bit1539,Morgan_bit1540,Morgan_bit1541,Morgan_bit1542,Morgan_bit1543,Morgan_bit1544,Morgan_bit1545,Morgan_bit1546,Morgan_bit1547,Morgan_bit1548,Morgan_bit1549,Morgan_bit1550,Morgan_bit1551,Morgan_bit1552,Morgan_bit1553,Morgan_bit1554,Morgan_bit1555,Morgan_bit1556,Morgan_bit1557,Morgan_bit1558,Morgan_bit1559,Morgan_bit1560,Morgan_bit1561,Morgan_bit1562,Morgan_bit1563,Morgan_bit1564,Morgan_bit1565,Morgan_bit1566,Morgan_bit1567,Morgan_bit1568,Morgan_bit1569,Morgan_bit1570,Morgan_bit1571,Morgan_bit1572,Morgan_bit1573,Morgan_bit1574,Morgan_bit1575,Morgan_bit1576,Morgan_bit1577,Morgan_bit1578,Morgan_bit1579,Morgan_bit1580,Morgan_bit1581,Morgan_bit1582,Morgan_bit1583,Morgan_bit1584,Morgan_bit1585,Morgan_bit1586,Morgan_bit1587,Morgan_bit1588,Morgan_bit1589,Morgan_bit1590,Morgan_bit1591,Morgan_bit1592,Morgan_bit1593,Morgan_bit1594,Morgan_bit1595,Morgan_bit1596,Morgan_bit1597,Morgan_bit1598,Morgan_bit1599,Morgan_bit1600,Morgan_bit1601,Morgan_bit1602,Morgan_bit1603,Morgan_bit1604,Morgan_bit1605,Morgan_bit1606,Morgan_bit1607,Morgan_bit1608,Morgan_bit1609,Morgan_bit1610,Morgan_bit1611,Morgan_bit1612,Morgan_bit1613,Morgan_bit1614,Morgan_bit1615,Morgan_bit1616,Morgan_bit1617,Morgan_bit1618,Morgan_bit1619,Morgan_bit1620,Morgan_bit1621,Morgan_bit1622,Morgan_bit1623,Morgan_bit1624,Morgan_bit1625,Morgan_bit1626,Morgan_bit1627,Morgan_bit1628,Morgan_bit1629,Morgan_bit1630,Morgan_bit1631,Morgan_bit1632,Morgan_bit1633,Morgan_bit1634,Morgan_bit1635,Morgan_bit1636,Morgan_bit1637,Morgan_bit1638,Morgan_bit1639,Morgan_bit1640,Morgan_bit1641,Morgan_bit1642,Morgan_bit1643,Morgan_bit1644,Morgan_bit1645,Morgan_bit1646,Morgan_bit1647,Morgan_bit1648,Morgan_bit1649,Morgan_bit1650,Morgan_bit1651,Morgan_bit1652,Morgan_bit1653,Morgan_bit1654,Morgan_bit1655,Morgan_bit1656,Morgan_bit1657,Morgan_bit1658,Morgan_bit1659,Morgan_bit1660,Morgan_bit1661,Morgan_bit1662,Morgan_bit1663,Morgan_bit1664,Morgan_bit1665,Morgan_bit1666,Morgan_bit1667,Morgan_bit1668,Morgan_bit1669,Morgan_bit1670,Morgan_bit1671,Morgan_bit1672,Morgan_bit1673,Morgan_bit1674,Morgan_bit1675,Morgan_bit1676,Morgan_bit1677,Morgan_bit1678,Morgan_bit1679,Morgan_bit1680,Morgan_bit1681,Morgan_bit1682,Morgan_bit1683,Morgan_bit1684,Morgan_bit1685,Morgan_bit1686,Morgan_bit1687,Morgan_bit1688,Morgan_bit1689,Morgan_bit1690,Morgan_bit1691,Morgan_bit1692,Morgan_bit1693,Morgan_bit1694,Morgan_bit1695,Morgan_bit1696,Morgan_bit1697,Morgan_bit1698,Morgan_bit1699,Morgan_bit1700,Morgan_bit1701,Morgan_bit1702,Morgan_bit1703,Morgan_bit1704,Morgan_bit1705,Morgan_bit1706,Morgan_bit1707,Morgan_bit1708,Morgan_bit1709,Morgan_bit1710,Morgan_bit1711,Morgan_bit1712,Morgan_bit1713,Morgan_bit1714,Morgan_bit1715,Morgan_bit1716,Morgan_bit1717,Morgan_bit1718,Morgan_bit1719,Morgan_bit1720,Morgan_bit1721,Morgan_bit1722,Morgan_bit1723,Morgan_bit1724,Morgan_bit1725,Morgan_bit1726,Morgan_bit1727,Morgan_bit1728,Morgan_bit1729,Morgan_bit1730,Morgan_bit1731,Morgan_bit1732,Morgan_bit1733,Morgan_bit1734,Morgan_bit1735,Morgan_bit1736,Morgan_bit1737,Morgan_bit1738,Morgan_bit1739,Morgan_bit1740,Morgan_bit1741,Morgan_bit1742,Morgan_bit1743,Morgan_bit1744,Morgan_bit1745,Morgan_bit1746,Morgan_bit1747,Morgan_bit1748,Morgan_bit1749,Morgan_bit1750,Morgan_bit1751,Morgan_bit1752,Morgan_bit1753,Morgan_bit1754,Morgan_bit1755,Morgan_bit1756,Morgan_bit1757,Morgan_bit1758,Morgan_bit1759,Morgan_bit1760,Morgan_bit1761,Morgan_bit1762,Morgan_bit1763,Morgan_bit1764,Morgan_bit1765,Morgan_bit1766,Morgan_bit1767,Morgan_bit1768,Morgan_bit1769,Morgan_bit1770,Morgan_bit1771,Morgan_bit1772,Morgan_bit1773,Morgan_bit1774,Morgan_bit1775,Morgan_bit1776,Morgan_bit1777,Morgan_bit1778,Morgan_bit1779,Morgan_bit1780,Morgan_bit1781,Morgan_bit1782,Morgan_bit1783,Morgan_bit1784,Morgan_bit1785,Morgan_bit1786,Morgan_bit1787,Morgan_bit1788,Morgan_bit1789,Morgan_bit1790,Morgan_bit1791,Morgan_bit1792,Morgan_bit1793,Morgan_bit1794,Morgan_bit1795,Morgan_bit1796,Morgan_bit1797,Morgan_bit1798,Morgan_bit1799,Morgan_bit1800,Morgan_bit1801,Morgan_bit1802,Morgan_bit1803,Morgan_bit1804,Morgan_bit1805,Morgan_bit1806,Morgan_bit1807,Morgan_bit1808,Morgan_bit1809,Morgan_bit1810,Morgan_bit1811,Morgan_bit1812,Morgan_bit1813,Morgan_bit1814,Morgan_bit1815,Morgan_bit1816,Morgan_bit1817,Morgan_bit1818,Morgan_bit1819,Morgan_bit1820,Morgan_bit1821,Morgan_bit1822,Morgan_bit1823,Morgan_bit1824,Morgan_bit1825,Morgan_bit1826,Morgan_bit1827,Morgan_bit1828,Morgan_bit1829,Morgan_bit1830,Morgan_bit1831,Morgan_bit1832,Morgan_bit1833,Morgan_bit1834,Morgan_bit1835,Morgan_bit1836,Morgan_bit1837,Morgan_bit1838,Morgan_bit1839,Morgan_bit1840,Morgan_bit1841,Morgan_bit1842,Morgan_bit1843,Morgan_bit1844,Morgan_bit1845,Morgan_bit1846,Morgan_bit1847,Morgan_bit1848,Morgan_bit1849,Morgan_bit1850,Morgan_bit1851,Morgan_bit1852,Morgan_bit1853,Morgan_bit1854,Morgan_bit1855,Morgan_bit1856,Morgan_bit1857,Morgan_bit1858,Morgan_bit1859,Morgan_bit1860,Morgan_bit1861,Morgan_bit1862,Morgan_bit1863,Morgan_bit1864,Morgan_bit1865,Morgan_bit1866,Morgan_bit1867,Morgan_bit1868,Morgan_bit1869,Morgan_bit1870,Morgan_bit1871,Morgan_bit1872,Morgan_bit1873,Morgan_bit1874,Morgan_bit1875,Morgan_bit1876,Morgan_bit1877,Morgan_bit1878,Morgan_bit1879,Morgan_bit1880,Morgan_bit1881,Morgan_bit1882,Morgan_bit1883,Morgan_bit1884,Morgan_bit1885,Morgan_bit1886,Morgan_bit1887,Morgan_bit1888,Morgan_bit1889,Morgan_bit1890,Morgan_bit1891,Morgan_bit1892,Morgan_bit1893,Morgan_bit1894,Morgan_bit1895,Morgan_bit1896,Morgan_bit1897,Morgan_bit1898,Morgan_bit1899,Morgan_bit1900,Morgan_bit1901,Morgan_bit1902,Morgan_bit1903,Morgan_bit1904,Morgan_bit1905,Morgan_bit1906,Morgan_bit1907,Morgan_bit1908,Morgan_bit1909,Morgan_bit1910,Morgan_bit1911,Morgan_bit1912,Morgan_bit1913,Morgan_bit1914,Morgan_bit1915,Morgan_bit1916,Morgan_bit1917,Morgan_bit1918,Morgan_bit1919,Morgan_bit1920,Morgan_bit1921,Morgan_bit1922,Morgan_bit1923,Morgan_bit1924,Morgan_bit1925,Morgan_bit1926,Morgan_bit1927,Morgan_bit1928,Morgan_bit1929,Morgan_bit1930,Morgan_bit1931,Morgan_bit1932,Morgan_bit1933,Morgan_bit1934,Morgan_bit1935,Morgan_bit1936,Morgan_bit1937,Morgan_bit1938,Morgan_bit1939,Morgan_bit1940,Morgan_bit1941,Morgan_bit1942,Morgan_bit1943,Morgan_bit1944,Morgan_bit1945,Morgan_bit1946,Morgan_bit1947,Morgan_bit1948,Morgan_bit1949,Morgan_bit1950,Morgan_bit1951,Morgan_bit1952,Morgan_bit1953,Morgan_bit1954,Morgan_bit1955,Morgan_bit1956,Morgan_bit1957,Morgan_bit1958,Morgan_bit1959,Morgan_bit1960,Morgan_bit1961,Morgan_bit1962,Morgan_bit1963,Morgan_bit1964,Morgan_bit1965,Morgan_bit1966,Morgan_bit1967,Morgan_bit1968,Morgan_bit1969,Morgan_bit1970,Morgan_bit1971,Morgan_bit1972,Morgan_bit1973,Morgan_bit1974,Morgan_bit1975,Morgan_bit1976,Morgan_bit1977,Morgan_bit1978,Morgan_bit1979,Morgan_bit1980,Morgan_bit1981,Morgan_bit1982,Morgan_bit1983,Morgan_bit1984,Morgan_bit1985,Morgan_bit1986,Morgan_bit1987,Morgan_bit1988,Morgan_bit1989,Morgan_bit1990,Morgan_bit1991,Morgan_bit1992,Morgan_bit1993,Morgan_bit1994,Morgan_bit1995,Morgan_bit1996,Morgan_bit1997,Morgan_bit1998,Morgan_bit1999,Morgan_bit2000,Morgan_bit2001,Morgan_bit2002,Morgan_bit2003,Morgan_bit2004,Morgan_bit2005,Morgan_bit2006,Morgan_bit2007,Morgan_bit2008,Morgan_bit2009,Morgan_bit2010,Morgan_bit2011,Morgan_bit2012,Morgan_bit2013,Morgan_bit2014,Morgan_bit2015,Morgan_bit2016,Morgan_bit2017,Morgan_bit2018,Morgan_bit2019,Morgan_bit2020,Morgan_bit2021,Morgan_bit2022,Morgan_bit2023,Morgan_bit2024,Morgan_bit2025,Morgan_bit2026,Morgan_bit2027,Morgan_bit2028,Morgan_bit2029,Morgan_bit2030,Morgan_bit2031,Morgan_bit2032,Morgan_bit2033,Morgan_bit2034,Morgan_bit2035,Morgan_bit2036,Morgan_bit2037,Morgan_bit2038,Morgan_bit2039,Morgan_bit2040,Morgan_bit2041,Morgan_bit2042,Morgan_bit2043,Morgan_bit2044,Morgan_bit2045,Morgan_bit2046,Morgan_bit2047\n",
      "NCGC00373360-01,CC(C)CC[N@@H+]1CCC[C@@]2(C1)CC(=NO2)c3cccnc3,-12.2036,0,1,0,0,0,0,0,0,1,0,0,0,0,0,0,0,0,0,0,0,0,0,0,0,0,0,0,0,0,0,0,0,0,0,0,0,0,0,0,0,0,0,0,0,0,0,0,0,0,0,0,0,0,0,0,0,0,0,0,0,0,0,0,0,0,0,0,0,0,0,0,0,0,0,0,0,0,0,0,0,1,0,0,0,0,0,0,0,0,0,0,0,0,0,0,0,0,0,0,0,0,0,0,0,0,0,0,0,0,0,0,0,0,0,0,0,0,0,0,0,0,0,0,0,0,0,0,0,0,0,0,0,0,0,0,0,0,0,0,0,0,0,0,0,0,0,0,0,0,0,0,0,0,0,0,0,0,0,0,0,0,0,0,0,0,0,0,0,0,0,0,0,0,0,0,0,0,0,0,0,0,0,0,0,0,0,0,0,0,0,0,0,0,0,0,0,0,0,0,0,0,0,0,0,0,0,0,0,0,0,0,0,0,0,0,0,0,0,0,0,0,0,0,0,0,0,0,0,0,0,0,0,0,0,0,0,0,0,0,0,0,0,0,0,1,0,0,0,0,0,0,0,0,0,0,0,0,1,0,0,0,0,0,0,0,0,0,0,0,0,0,0,0,0,0,0,0,0,0,0,0,0,0,1,0,0,0,0,0,0,0,0,0,0,0,0,0,0,0,0,0,0,0,0,0,0,0,0,0,0,0,0,0,0,0,0,0,0,0,0,0,0,0,0,0,0,0,0,0,0,0,0,0,0,0,0,0,0,0,0,0,1,0,0,0,0,0,0,0,0,0,0,0,0,0,0,0,0,0,0,0,0,0,0,0,0,0,0,0,0,0,0,0,0,0,0,0,0,1,0,0,0,1,0,0,0,0,0,0,0,0,0,0,0,0,0,0,0,0,0,0,1,0,0,0,0,0,0,0,0,0,0,0,0,0,0,0,0,0,0,0,0,0,0,0,0,0,0,0,0,0,0,0,0,0,0,0,1,0,0,0,0,0,0,0,0,0,0,0,0,0,0,0,0,0,0,0,0,1,0,0,0,0,0,0,0,0,0,0,0,0,0,0,0,0,0,0,0,0,0,0,0,0,0,0,0,0,0,0,0,0,0,0,0,0,0,0,0,0,0,0,0,0,0,0,0,0,0,0,0,0,0,0,0,0,0,0,0,0,0,0,0,0,0,0,0,0,0,0,0,0,0,0,0,0,0,0,0,0,0,0,0,0,0,0,0,0,0,0,0,0,0,0,0,0,0,0,0,0,0,0,0,0,1,0,0,0,0,0,0,0,0,0,0,0,0,1,0,1,0,0,0,0,0,0,0,0,0,0,0,0,0,0,0,0,0,0,0,0,0,0,0,0,0,0,0,0,1,0,0,0,1,0,0,0,0,0,0,0,0,0,0,0,0,0,0,0,0,0,0,0,0,0,0,0,0,0,0,0,0,0,0,0,0,0,0,0,0,0,0,0,0,0,0,0,0,1,0,0,0,0,0,0,0,0,0,0,0,0,0,0,0,0,0,0,0,0,0,0,0,0,0,0,0,0,0,0,0,0,0,0,0,0,0,0,0,0,0,0,0,0,0,0,0,0,0,0,0,0,0,0,0,0,0,0,0,0,0,0,0,0,0,0,0,0,0,0,0,0,0,0,0,0,0,0,0,1,0,0,1,0,0,0,0,0,0,0,0,0,0,0,0,0,0,0,0,0,0,0,0,0,0,0,0,0,0,0,0,0,0,0,0,0,0,0,0,0,0,0,0,0,0,0,0,0,0,0,0,0,0,0,0,0,0,0,0,0,0,0,0,0,0,0,0,0,0,0,0,0,0,0,0,0,0,0,0,0,0,1,0,0,0,0,0,0,0,0,0,0,0,0,0,0,0,1,0,0,0,0,0,0,0,0,0,0,0,0,0,0,0,0,0,0,0,0,0,0,0,0,0,0,0,0,0,0,0,0,0,0,0,0,0,0,0,0,0,0,0,0,0,0,0,0,0,0,0,0,0,0,0,0,0,0,0,0,0,0,0,0,0,0,0,0,0,0,0,0,0,0,0,0,0,0,0,0,0,0,0,0,0,0,0,0,0,0,0,1,0,0,0,0,0,0,0,0,0,0,0,0,0,1,0,0,0,0,0,0,0,0,0,0,0,0,0,0,0,1,0,0,0,0,0,0,0,0,0,0,0,0,0,0,0,0,0,0,0,0,0,0,0,0,0,0,0,0,0,0,0,0,0,0,1,0,0,0,0,0,0,0,0,0,0,0,0,0,0,0,0,0,0,1,0,0,0,0,0,0,0,0,0,0,0,0,0,0,0,0,0,1,0,0,0,0,0,0,0,0,0,0,0,0,0,0,1,0,0,0,0,0,0,0,0,0,0,0,0,0,1,0,0,1,0,0,0,0,0,0,0,0,0,0,0,0,0,0,0,0,0,0,0,0,0,0,0,0,0,0,0,1,0,0,0,0,0,0,0,0,0,0,0,0,0,0,0,0,0,0,0,0,0,0,0,0,0,0,0,0,1,0,0,0,0,0,0,0,0,0,0,0,0,0,0,0,0,0,1,0,0,0,0,0,0,0,0,0,0,0,0,0,0,0,0,0,0,0,0,0,0,0,0,1,0,1,0,0,0,0,1,0,0,0,0,0,0,0,0,0,0,0,0,0,0,0,1,0,0,0,0,0,0,0,0,0,0,0,0,0,0,0,0,0,0,0,0,0,0,0,0,0,0,0,0,0,0,1,0,0,0,0,0,0,0,0,0,0,0,0,0,0,0,0,0,0,0,0,0,0,0,0,0,0,0,0,0,0,0,0,0,0,0,0,0,0,0,0,0,0,0,0,0,0,0,0,0,0,0,0,0,0,0,0,0,0,0,0,0,0,0,0,0,0,0,0,0,0,0,0,0,0,0,0,0,0,0,0,0,0,0,0,0,0,0,0,0,0,0,0,0,0,0,0,0,0,0,0,0,0,0,0,0,0,0,0,0,0,0,0,0,0,0,0,0,0,0,0,0,0,0,0,0,0,0,0,0,0,0,1,0,0,0,0,0,0,0,0,0,0,0,0,1,0,0,0,0,0,0,0,0,0,0,0,0,0,0,0,1,0,0,0,0,1,0,0,0,0,0,0,0,0,0,0,1,0,0,0,0,0,0,0,0,0,0,0,0,0,0,0,0,0,0,0,0,0,0,0,0,0,0,0,0,0,0,0,0,0,0,0,0,0,0,0,0,0,0,0,0,0,0,0,0,0,0,0,0,0,0,0,0,0,0,1,0,0,0,0,0,0,0,0,0,0,0,0,0,0,0,0,0,0,0,0,0,0,0,0,0,0,0,0,0,0,0,1,0,0,0,0,0,0,0,0,0,0,0,0,0,0,0,0,0,0,1,0,0,0,0,0,0,0,0,0,0,0,0,0,0,0,0,0,0,0,0,0,0,0,0,0,0,0,0,0,0,0,0,0,1,0,0,0,0,0,0,0,0,0,0,0,0,0,0,0,0,0,0,0,0,0,0,0,0,0,0,0,0,0,0,0,0,0,0,0,0,0,0,0,0,0,0,0,0,0,1,0,0,0,0,1,0,0,0,0,0,0,0,0,0,0,0,0,0,0,0,0,1,0,0,0,0,0,0,0,0,0,0,0,0,0,0,0,0,0,0,0,0,0,0,0,0,0,0,0,0,0,0,0,0,0,0,0,0,0,0,0,1,0,0,0,0,0,0,0,0,0,0,0,0,0,0,0,0,0,0,0,0,0,0,0,0,0,0,0,0,0,0,0,0,0,0,0,0,0,0,0,0,0,0,0,0,0,0,1,1,0,0,0,0,0,0,0,0,0,0,0,0,0,0,0,0,0,0,0,0,0,0,0,0,0,0,0,0,0,1,0,0,0,0,0,0,0,1,0,0,0,1,0,0,0,0,0,0,0,0,0,0,0,0,0,0,0,0,1,0,0,0,0,0,0,0,0,0,0,0,0,0,0,0,0,0,0,0,0,0,0,0,0,0,0,0,0,0,0,0,0,0,0,0,0,0,0,0,0,0,0,0,0,0,0,0,0,0,0,0,0,0,0,0,0,0,0,0,0,0,0,0,0,0,0,0,0,0,0,0,0,0,0,0,0,0,0,0,0,0,0,0,0,0,0,0,0,0,0,0,0,0,0,0,0,1,0,0,0,0,1,0,0,0,0,0,0,0,1,0,0,0,0,0,1,0,0,0,0,0,0,1,0,0,0,0,0,0,0,0,0,0,0,0,0,0,0,0,0,0,0,0,0,0,0,0,0,0,0,0,0,0,0,0,0,0,0,0,0,0,0,0,0,0,0,0,0,0,0,0,0,0,0,0,0,0,0,0,0,0,0,0,0,0,0,0,0,0,0,0,0,0,0,0,0,0,0,0,0,0,0,0,0,0,0,0,0,0,0,0,0,0,0,0,0,0,0,0,0,0,0,0,0,0,0,0,0,0,0,0,0,0,0,0,0,0,0,0,0,0,0,0,0,0,0,0,0,0,0,0,0,0,0,0,0,0,0,0,1,0,0,0,0,0,0,0,0,0,0,0,0,0,0,0,0,0,0,0,0,0,0,0,0,0,0,0,0,1,0,0,0,0,0,0,0,0\n"
     ]
    }
   ],
   "source": [
    "!head -n 2 round1_100_train_cmpds.csv"
   ]
  },
  {
   "cell_type": "code",
   "execution_count": 25,
   "id": "213bf7df-ae75-448d-9299-b216b0040619",
   "metadata": {},
   "outputs": [
    {
     "name": "stdout",
     "output_type": "stream",
     "text": [
      "101 round0_100_train_cmpds.csv\n"
     ]
    }
   ],
   "source": [
    "!wc -l round0_100_train_cmpds.csv"
   ]
  },
  {
   "cell_type": "code",
   "execution_count": 26,
   "id": "9aa852ad-6cfe-4cc4-ad25-3925fbff6101",
   "metadata": {},
   "outputs": [
    {
     "name": "stdout",
     "output_type": "stream",
     "text": [
      "101 round1_100_train_cmpds.csv\n"
     ]
    }
   ],
   "source": [
    "!wc -l round1_100_train_cmpds.csv"
   ]
  },
  {
   "cell_type": "code",
   "execution_count": 27,
   "id": "1e658eb2-7e9d-43d6-81d6-cd7bc6cbc01a",
   "metadata": {},
   "outputs": [
    {
     "name": "stdout",
     "output_type": "stream",
     "text": [
      "Concatenated compounds saved to round1_100_train_cmpds.csv\n"
     ]
    }
   ],
   "source": [
    "# Concatanate the train sets together \n",
    "file1_path = 'round0_100_train_cmpds.csv'\n",
    "file2_path = 'round1_100_train_cmpds.csv'\n",
    "output_path = 'round1_100_train_cmpds.csv'\n",
    "\n",
    "append_train_compounds(file1_path, file2_path, output_path)"
   ]
  },
  {
   "cell_type": "code",
   "execution_count": 28,
   "id": "93bc0144-a82e-4c0f-896c-e85c2fffc4d6",
   "metadata": {},
   "outputs": [
    {
     "name": "stdout",
     "output_type": "stream",
     "text": [
      "201 round1_100_train_cmpds.csv\n"
     ]
    }
   ],
   "source": [
    "!wc -l round1_100_train_cmpds.csv"
   ]
  },
  {
   "cell_type": "code",
   "execution_count": 29,
   "id": "287faee0-f35d-48cd-a40d-de3d4d65fd06",
   "metadata": {},
   "outputs": [],
   "source": [
    "# Retrain the model using this training file.\n",
    "csv_file_path = 'round1_100_train_cmpds.csv'\n",
    "trained_gpr = train_gpr_model(csv_file_path)"
   ]
  },
  {
   "cell_type": "code",
   "execution_count": 30,
   "id": "18a4f0cf-81a9-4d40-b966-461307a084c0",
   "metadata": {},
   "outputs": [
    {
     "name": "stdout",
     "output_type": "stream",
     "text": [
      "41905 ../../../docked_ecfp.csv\n"
     ]
    }
   ],
   "source": [
    "!wc -l ../../../docked_ecfp.csv"
   ]
  },
  {
   "cell_type": "code",
   "execution_count": 31,
   "id": "c3b6865b-bfda-4e4a-a81e-9c2379976110",
   "metadata": {},
   "outputs": [
    {
     "name": "stdout",
     "output_type": "stream",
     "text": [
      "41805 round0_100_test_cmpds.csv\n"
     ]
    }
   ],
   "source": [
    "!wc -l round0_100_test_cmpds.csv"
   ]
  },
  {
   "cell_type": "code",
   "execution_count": 32,
   "id": "766924ad-f24a-4f33-91b6-c1c5825fec13",
   "metadata": {},
   "outputs": [
    {
     "name": "stdout",
     "output_type": "stream",
     "text": [
      "Compounds removed and remaining compounds saved to round1_100_test_cmpds.csv\n"
     ]
    }
   ],
   "source": [
    "# Remove the training set from the test set\n",
    "# Save the remainder of compounds as next rounds test set\n",
    "input_csv_path = 'round0_100_test_cmpds.csv'\n",
    "compounds_to_remove_csv_path = 'round1_100_train_cmpds.csv'\n",
    "output_csv_path = 'round1_100_test_cmpds.csv'\n",
    "\n",
    "remove_train_compounds(input_csv_path, compounds_to_remove_csv_path, output_csv_path)\n"
   ]
  },
  {
   "cell_type": "code",
   "execution_count": 33,
   "id": "9901f212-e0bf-4d8e-b911-463ca66c3ef5",
   "metadata": {},
   "outputs": [
    {
     "name": "stdout",
     "output_type": "stream",
     "text": [
      "41705 round1_100_test_cmpds.csv\n"
     ]
    }
   ],
   "source": [
    "!wc -l round1_100_test_cmpds.csv"
   ]
  },
  {
   "cell_type": "code",
   "execution_count": 34,
   "id": "48c94385-1d2c-45cd-b84a-9630e27996b6",
   "metadata": {},
   "outputs": [],
   "source": [
    "# Predict on the test set\n",
    "csv_file_to_predict = 'round1_100_test_cmpds.csv'\n",
    "output_csv_file = 'round1_100_predicted_results.csv'\n",
    "predict_and_save_results(trained_gpr, csv_file_to_predict, output_csv_file)"
   ]
  },
  {
   "cell_type": "code",
   "execution_count": 35,
   "id": "7d5b5d97-3c2f-4895-a96c-3bd9999f18ff",
   "metadata": {},
   "outputs": [],
   "source": [
    "# Choose the next random subset of compounds from the test set\n",
    "docked_file_path = 'round1_100_test_cmpds.csv'\n",
    "output_csv_path = 'round2_100_cmpds.csv'\n",
    "subset_size_to_select = 100  # Set the desired subset size\n",
    "\n",
    "# Call the function\n",
    "random_strategy(docked_file_path, output_csv_path, subset_size=subset_size_to_select)"
   ]
  },
  {
   "cell_type": "markdown",
   "id": "5db16c6e-c36a-4dd1-a62f-a5d51efa0212",
   "metadata": {},
   "source": [
    "ROUND 2"
   ]
  },
  {
   "cell_type": "code",
   "execution_count": 36,
   "id": "0a8e205a-732b-4cf8-9bb0-2565204d294d",
   "metadata": {},
   "outputs": [
    {
     "name": "stdout",
     "output_type": "stream",
     "text": [
      "Selected compounds saved to round2_100_train_cmpds.csv\n"
     ]
    }
   ],
   "source": [
    "# Unblind the scores for these 100 randomly chosen compounds and save as training set.\n",
    "input_csv_path = '../../../7nsw_all_hybrid.csv'\n",
    "cmpds_csv_path = 'round2_100_cmpds.csv'\n",
    "output_csv_path = 'round2_100_train_cmpds.csv'\n",
    "\n",
    "select_scores(input_csv_path, cmpds_csv_path, output_csv_path)"
   ]
  },
  {
   "cell_type": "code",
   "execution_count": 37,
   "id": "01dbc37f-c103-4143-bff5-9bc3ea0b5d86",
   "metadata": {},
   "outputs": [
    {
     "name": "stdout",
     "output_type": "stream",
     "text": [
      "Descriptors appended to round2_100_train_cmpds.csv\n"
     ]
    }
   ],
   "source": [
    "# Extract the descriptors and append them to the training set.\n",
    "compounds_csv_path = 'round2_100_train_cmpds.csv'\n",
    "descriptors_csv_path = '../../../docked_ecfp.csv'\n",
    "\n",
    "append_descriptors_to_csv(compounds_csv_path, descriptors_csv_path)"
   ]
  },
  {
   "cell_type": "code",
   "execution_count": 38,
   "id": "f8124d42-627c-42e0-a6b1-60e6e6e0c898",
   "metadata": {},
   "outputs": [
    {
     "name": "stdout",
     "output_type": "stream",
     "text": [
      "Concatenated compounds saved to round2_100_train_cmpds.csv\n"
     ]
    }
   ],
   "source": [
    "# Concatanate the train sets together \n",
    "file1_path = 'round1_100_train_cmpds.csv'\n",
    "file2_path = 'round2_100_train_cmpds.csv'\n",
    "output_path = 'round2_100_train_cmpds.csv'\n",
    "\n",
    "append_train_compounds(file1_path, file2_path, output_path)"
   ]
  },
  {
   "cell_type": "code",
   "execution_count": 39,
   "id": "ec065730-b1cb-49ed-afb2-15331a39080a",
   "metadata": {},
   "outputs": [],
   "source": [
    "# Retrain the model using this training file.\n",
    "csv_file_path = 'round2_100_train_cmpds.csv'\n",
    "trained_gpr = train_gpr_model(csv_file_path)"
   ]
  },
  {
   "cell_type": "code",
   "execution_count": 40,
   "id": "c275d98d-7594-4477-8536-5137c48c604d",
   "metadata": {},
   "outputs": [
    {
     "name": "stdout",
     "output_type": "stream",
     "text": [
      "Compounds removed and remaining compounds saved to round2_100_test_cmpds.csv\n"
     ]
    }
   ],
   "source": [
    "# Remove the training set from the test set\n",
    "# Save the remainder of compounds as next rounds test set\n",
    "input_csv_path = 'round1_100_test_cmpds.csv'\n",
    "compounds_to_remove_csv_path = 'round2_100_train_cmpds.csv'\n",
    "output_csv_path = 'round2_100_test_cmpds.csv'\n",
    "\n",
    "remove_train_compounds(input_csv_path, compounds_to_remove_csv_path, output_csv_path)\n"
   ]
  },
  {
   "cell_type": "code",
   "execution_count": 41,
   "id": "4e9579b3-4b52-4f8f-b2cc-b94fd5aa6f4a",
   "metadata": {},
   "outputs": [],
   "source": [
    "# Predict on the test set\n",
    "csv_file_to_predict = 'round2_100_test_cmpds.csv'\n",
    "output_csv_file = 'round2_100_predicted_results.csv'\n",
    "predict_and_save_results(trained_gpr, csv_file_to_predict, output_csv_file)"
   ]
  },
  {
   "cell_type": "code",
   "execution_count": 42,
   "id": "e2e077e5-acb6-4943-bd5b-2dda18250014",
   "metadata": {},
   "outputs": [],
   "source": [
    "# Choose the next random subset of compounds from the test set\n",
    "docked_file_path = 'round2_100_test_cmpds.csv'\n",
    "output_csv_path = 'round3_100_cmpds.csv'\n",
    "subset_size_to_select = 100  # Set the desired subset size\n",
    "\n",
    "# Call the function\n",
    "random_strategy(docked_file_path, output_csv_path, subset_size=subset_size_to_select)"
   ]
  },
  {
   "cell_type": "markdown",
   "id": "68243198-be91-4345-9ae6-44f51ffa3148",
   "metadata": {},
   "source": [
    "ROUND 3"
   ]
  },
  {
   "cell_type": "code",
   "execution_count": 43,
   "id": "1ae1104f-ae57-4d3a-9fb8-ea99ee0ab9c1",
   "metadata": {},
   "outputs": [
    {
     "name": "stdout",
     "output_type": "stream",
     "text": [
      "Selected compounds saved to round3_100_train_cmpds.csv\n"
     ]
    }
   ],
   "source": [
    "# Unblind the scores for these 100 randomly chosen compounds and save as training set.\n",
    "input_csv_path = '../../../7nsw_all_hybrid.csv'\n",
    "cmpds_csv_path = 'round3_100_cmpds.csv'\n",
    "output_csv_path = 'round3_100_train_cmpds.csv'\n",
    "\n",
    "select_scores(input_csv_path, cmpds_csv_path, output_csv_path)"
   ]
  },
  {
   "cell_type": "code",
   "execution_count": 44,
   "id": "2db40787-8046-4701-a814-6eac1bb6b61e",
   "metadata": {},
   "outputs": [
    {
     "name": "stdout",
     "output_type": "stream",
     "text": [
      "Descriptors appended to round3_100_train_cmpds.csv\n"
     ]
    }
   ],
   "source": [
    "# Extract the descriptors and append them to the training set.\n",
    "compounds_csv_path = 'round3_100_train_cmpds.csv'\n",
    "descriptors_csv_path = '../../../docked_ecfp.csv'\n",
    "\n",
    "append_descriptors_to_csv(compounds_csv_path, descriptors_csv_path)"
   ]
  },
  {
   "cell_type": "code",
   "execution_count": 45,
   "id": "b323f2f3-429c-46dc-9e5c-ba728a26b987",
   "metadata": {},
   "outputs": [
    {
     "name": "stdout",
     "output_type": "stream",
     "text": [
      "Concatenated compounds saved to round3_100_train_cmpds.csv\n"
     ]
    }
   ],
   "source": [
    "# Concatanate the train sets together \n",
    "file1_path = 'round2_100_train_cmpds.csv'\n",
    "file2_path = 'round3_100_train_cmpds.csv'\n",
    "output_path = 'round3_100_train_cmpds.csv'\n",
    "\n",
    "append_train_compounds(file1_path, file2_path, output_path)"
   ]
  },
  {
   "cell_type": "code",
   "execution_count": 46,
   "id": "9a74497e-6456-42ec-b5c6-c5ce2131d775",
   "metadata": {},
   "outputs": [],
   "source": [
    "# Retrain the model using this training file.\n",
    "csv_file_path = 'round3_100_train_cmpds.csv'\n",
    "trained_gpr = train_gpr_model(csv_file_path)"
   ]
  },
  {
   "cell_type": "code",
   "execution_count": 47,
   "id": "4b129fc6-4583-448d-b7ff-2cdc6a8c6140",
   "metadata": {},
   "outputs": [
    {
     "name": "stdout",
     "output_type": "stream",
     "text": [
      "Compounds removed and remaining compounds saved to round3_100_test_cmpds.csv\n"
     ]
    }
   ],
   "source": [
    "# Remove the training set from the test set\n",
    "# Save the remainder of compounds as next rounds test set\n",
    "input_csv_path = 'round2_100_test_cmpds.csv'\n",
    "compounds_to_remove_csv_path = 'round3_100_train_cmpds.csv'\n",
    "output_csv_path = 'round3_100_test_cmpds.csv'\n",
    "\n",
    "remove_train_compounds(input_csv_path, compounds_to_remove_csv_path, output_csv_path)\n"
   ]
  },
  {
   "cell_type": "code",
   "execution_count": 48,
   "id": "4143ffc6-2c3b-4c3c-92d1-e37c7222d09a",
   "metadata": {},
   "outputs": [],
   "source": [
    "# Predict on the test set\n",
    "csv_file_to_predict = 'round3_100_test_cmpds.csv'\n",
    "output_csv_file = 'round3_100_predicted_results.csv'\n",
    "predict_and_save_results(trained_gpr, csv_file_to_predict, output_csv_file)"
   ]
  },
  {
   "cell_type": "code",
   "execution_count": 49,
   "id": "8375a63a-19ef-472b-9ace-f53de1db69c7",
   "metadata": {},
   "outputs": [],
   "source": [
    "# Choose the next random subset of compounds from the test set\n",
    "docked_file_path = 'round3_100_test_cmpds.csv'\n",
    "output_csv_path = 'round4_100_cmpds.csv'\n",
    "subset_size_to_select = 100  # Set the desired subset size\n",
    "\n",
    "# Call the function\n",
    "random_strategy(docked_file_path, output_csv_path, subset_size=subset_size_to_select)"
   ]
  },
  {
   "cell_type": "markdown",
   "id": "677075cd-f213-4dee-b6ce-53772e7ff6ec",
   "metadata": {},
   "source": [
    "ROUND 4"
   ]
  },
  {
   "cell_type": "code",
   "execution_count": 50,
   "id": "cf02caeb-054f-4c47-813c-f45063e24589",
   "metadata": {},
   "outputs": [
    {
     "name": "stdout",
     "output_type": "stream",
     "text": [
      "Selected compounds saved to round4_100_train_cmpds.csv\n"
     ]
    }
   ],
   "source": [
    "# Unblind the scores for these 100 randomly chosen compounds and save as training set.\n",
    "input_csv_path = '../../../7nsw_all_hybrid.csv'\n",
    "cmpds_csv_path = 'round4_100_cmpds.csv'\n",
    "output_csv_path = 'round4_100_train_cmpds.csv'\n",
    "\n",
    "select_scores(input_csv_path, cmpds_csv_path, output_csv_path)"
   ]
  },
  {
   "cell_type": "code",
   "execution_count": 51,
   "id": "017764e1-b4a8-415d-bc83-ef5003a65ad6",
   "metadata": {},
   "outputs": [
    {
     "name": "stdout",
     "output_type": "stream",
     "text": [
      "Descriptors appended to round4_100_train_cmpds.csv\n"
     ]
    }
   ],
   "source": [
    "# Extract the descriptors and append them to the training set.\n",
    "compounds_csv_path = 'round4_100_train_cmpds.csv'\n",
    "descriptors_csv_path = '../../../docked_ecfp.csv'\n",
    "\n",
    "append_descriptors_to_csv(compounds_csv_path, descriptors_csv_path)"
   ]
  },
  {
   "cell_type": "code",
   "execution_count": 52,
   "id": "010ff086-d125-4bad-b1ca-41b83e9b164c",
   "metadata": {},
   "outputs": [
    {
     "name": "stdout",
     "output_type": "stream",
     "text": [
      "Concatenated compounds saved to round4_100_train_cmpds.csv\n"
     ]
    }
   ],
   "source": [
    "# Concatanate the train sets together \n",
    "file1_path = 'round3_100_train_cmpds.csv'\n",
    "file2_path = 'round4_100_train_cmpds.csv'\n",
    "output_path = 'round4_100_train_cmpds.csv'\n",
    "\n",
    "append_train_compounds(file1_path, file2_path, output_path)"
   ]
  },
  {
   "cell_type": "code",
   "execution_count": 53,
   "id": "f0c10eef-36ab-4dda-aae3-ff4e481e8cdf",
   "metadata": {},
   "outputs": [],
   "source": [
    "# Retrain the model using this training file.\n",
    "csv_file_path = 'round4_100_train_cmpds.csv'\n",
    "trained_gpr = train_gpr_model(csv_file_path)"
   ]
  },
  {
   "cell_type": "code",
   "execution_count": 54,
   "id": "7bb6e34b-43e6-4a1a-b0f1-f9f93b688530",
   "metadata": {},
   "outputs": [
    {
     "name": "stdout",
     "output_type": "stream",
     "text": [
      "Compounds removed and remaining compounds saved to round4_100_test_cmpds.csv\n"
     ]
    }
   ],
   "source": [
    "# Remove the training set from the test set\n",
    "# Save the remainder of compounds as next rounds test set\n",
    "input_csv_path = 'round3_100_test_cmpds.csv'\n",
    "compounds_to_remove_csv_path = 'round4_100_train_cmpds.csv'\n",
    "output_csv_path = 'round4_100_test_cmpds.csv'\n",
    "\n",
    "remove_train_compounds(input_csv_path, compounds_to_remove_csv_path, output_csv_path)\n"
   ]
  },
  {
   "cell_type": "code",
   "execution_count": 55,
   "id": "9ee2e811-d7fe-4360-9c5f-22a21c99b0ec",
   "metadata": {},
   "outputs": [],
   "source": [
    "# Predict on the test set\n",
    "csv_file_to_predict = 'round4_100_test_cmpds.csv'\n",
    "output_csv_file = 'round4_100_predicted_results.csv'\n",
    "predict_and_save_results(trained_gpr, csv_file_to_predict, output_csv_file)"
   ]
  },
  {
   "cell_type": "code",
   "execution_count": 56,
   "id": "e062b6f3-59a0-445a-8116-e995a7a87669",
   "metadata": {},
   "outputs": [],
   "source": [
    "# Choose the next random subset of compounds from the test set\n",
    "docked_file_path = 'round4_100_test_cmpds.csv'\n",
    "output_csv_path = 'round5_100_cmpds.csv'\n",
    "subset_size_to_select = 100  # Set the desired subset size\n",
    "\n",
    "# Call the function\n",
    "random_strategy(docked_file_path, output_csv_path, subset_size=subset_size_to_select)"
   ]
  },
  {
   "cell_type": "markdown",
   "id": "a66de1bd-f671-40d5-9703-a1302ec9f007",
   "metadata": {},
   "source": [
    "ROUND 5"
   ]
  },
  {
   "cell_type": "code",
   "execution_count": 57,
   "id": "2bc09d0a-e9d3-4429-986b-901fa81410a1",
   "metadata": {},
   "outputs": [
    {
     "name": "stdout",
     "output_type": "stream",
     "text": [
      "Selected compounds saved to round5_100_train_cmpds.csv\n"
     ]
    }
   ],
   "source": [
    "# Unblind the scores for these 100 randomly chosen compounds and save as training set.\n",
    "input_csv_path = '../../../7nsw_all_hybrid.csv'\n",
    "cmpds_csv_path = 'round5_100_cmpds.csv'\n",
    "output_csv_path = 'round5_100_train_cmpds.csv'\n",
    "\n",
    "select_scores(input_csv_path, cmpds_csv_path, output_csv_path)"
   ]
  },
  {
   "cell_type": "code",
   "execution_count": 58,
   "id": "bd42cffc-7d8a-4708-a282-e6b9c2577de1",
   "metadata": {},
   "outputs": [
    {
     "name": "stdout",
     "output_type": "stream",
     "text": [
      "Descriptors appended to round5_100_train_cmpds.csv\n"
     ]
    }
   ],
   "source": [
    "# Extract the descriptors and append them to the training set.\n",
    "compounds_csv_path = 'round5_100_train_cmpds.csv'\n",
    "descriptors_csv_path = '../../../docked_ecfp.csv'\n",
    "\n",
    "append_descriptors_to_csv(compounds_csv_path, descriptors_csv_path)"
   ]
  },
  {
   "cell_type": "code",
   "execution_count": 59,
   "id": "0cb29383-dc44-41d0-bec6-aca83041544c",
   "metadata": {},
   "outputs": [
    {
     "name": "stdout",
     "output_type": "stream",
     "text": [
      "Concatenated compounds saved to round5_100_train_cmpds.csv\n"
     ]
    }
   ],
   "source": [
    "# Concatanate the train sets together \n",
    "file1_path = 'round4_100_train_cmpds.csv'\n",
    "file2_path = 'round5_100_train_cmpds.csv'\n",
    "output_path = 'round5_100_train_cmpds.csv'\n",
    "\n",
    "append_train_compounds(file1_path, file2_path, output_path)"
   ]
  },
  {
   "cell_type": "code",
   "execution_count": 60,
   "id": "3c57a031-f7b2-47d1-8902-e26b7be6b931",
   "metadata": {},
   "outputs": [],
   "source": [
    "# Retrain the model using this training file.\n",
    "csv_file_path = 'round5_100_train_cmpds.csv'\n",
    "trained_gpr = train_gpr_model(csv_file_path)"
   ]
  },
  {
   "cell_type": "code",
   "execution_count": 61,
   "id": "261e104c-5aaa-4617-ad31-0fdbaf9cbfed",
   "metadata": {},
   "outputs": [
    {
     "name": "stdout",
     "output_type": "stream",
     "text": [
      "Compounds removed and remaining compounds saved to round5_100_test_cmpds.csv\n"
     ]
    }
   ],
   "source": [
    "# Remove the training set from the test set\n",
    "# Save the remainder of compounds as next rounds test set\n",
    "input_csv_path = 'round4_100_test_cmpds.csv'\n",
    "compounds_to_remove_csv_path = 'round5_100_train_cmpds.csv'\n",
    "output_csv_path = 'round5_100_test_cmpds.csv'\n",
    "\n",
    "remove_train_compounds(input_csv_path, compounds_to_remove_csv_path, output_csv_path)\n"
   ]
  },
  {
   "cell_type": "code",
   "execution_count": 62,
   "id": "5316f2a1-c428-4483-ad4b-725345de5d09",
   "metadata": {},
   "outputs": [],
   "source": [
    "# Predict on the test set\n",
    "csv_file_to_predict = 'round5_100_test_cmpds.csv'\n",
    "output_csv_file = 'round5_100_predicted_results.csv'\n",
    "predict_and_save_results(trained_gpr, csv_file_to_predict, output_csv_file)"
   ]
  },
  {
   "cell_type": "code",
   "execution_count": 63,
   "id": "9259fd39-c16d-422e-a6f4-748f3eae811d",
   "metadata": {},
   "outputs": [],
   "source": [
    "# Choose the next random subset of compounds from the test set\n",
    "docked_file_path = 'round5_100_test_cmpds.csv'\n",
    "output_csv_path = 'round6_100_cmpds.csv'\n",
    "subset_size_to_select = 100  # Set the desired subset size\n",
    "\n",
    "# Call the function\n",
    "random_strategy(docked_file_path, output_csv_path, subset_size=subset_size_to_select)"
   ]
  },
  {
   "cell_type": "markdown",
   "id": "45bf39da-5167-4087-8dbb-95cc0b12694b",
   "metadata": {},
   "source": [
    "ROUND 6"
   ]
  },
  {
   "cell_type": "code",
   "execution_count": 64,
   "id": "6694c1e7-2fd5-48fa-8623-5fa8129e28e7",
   "metadata": {},
   "outputs": [
    {
     "name": "stdout",
     "output_type": "stream",
     "text": [
      "Selected compounds saved to round6_100_train_cmpds.csv\n"
     ]
    }
   ],
   "source": [
    "# Unblind the scores for these 100 randomly chosen compounds and save as training set.\n",
    "input_csv_path = '../../../7nsw_all_hybrid.csv'\n",
    "cmpds_csv_path = 'round6_100_cmpds.csv'\n",
    "output_csv_path = 'round6_100_train_cmpds.csv'\n",
    "\n",
    "select_scores(input_csv_path, cmpds_csv_path, output_csv_path)"
   ]
  },
  {
   "cell_type": "code",
   "execution_count": 65,
   "id": "ac3a3f3e-dc57-476d-bf34-11e2c22388f0",
   "metadata": {},
   "outputs": [
    {
     "name": "stdout",
     "output_type": "stream",
     "text": [
      "Descriptors appended to round6_100_train_cmpds.csv\n"
     ]
    }
   ],
   "source": [
    "# Extract the descriptors and append them to the training set.\n",
    "compounds_csv_path = 'round6_100_train_cmpds.csv'\n",
    "descriptors_csv_path = '../../../docked_ecfp.csv'\n",
    "\n",
    "append_descriptors_to_csv(compounds_csv_path, descriptors_csv_path)"
   ]
  },
  {
   "cell_type": "code",
   "execution_count": 66,
   "id": "905cf44f-e6a6-4493-b674-87bac2fd688f",
   "metadata": {},
   "outputs": [
    {
     "name": "stdout",
     "output_type": "stream",
     "text": [
      "Concatenated compounds saved to round6_100_train_cmpds.csv\n"
     ]
    }
   ],
   "source": [
    "# Concatanate the train sets together \n",
    "file1_path = 'round5_100_train_cmpds.csv'\n",
    "file2_path = 'round6_100_train_cmpds.csv'\n",
    "output_path = 'round6_100_train_cmpds.csv'\n",
    "\n",
    "append_train_compounds(file1_path, file2_path, output_path)"
   ]
  },
  {
   "cell_type": "code",
   "execution_count": 67,
   "id": "04eda887-dd5d-4363-a05e-8830d1a13260",
   "metadata": {},
   "outputs": [],
   "source": [
    "# Retrain the model using this training file.\n",
    "csv_file_path = 'round6_100_train_cmpds.csv'\n",
    "trained_gpr = train_gpr_model(csv_file_path)"
   ]
  },
  {
   "cell_type": "code",
   "execution_count": 68,
   "id": "94bd2380-c953-4142-88a0-00bc01bfc47e",
   "metadata": {},
   "outputs": [
    {
     "name": "stdout",
     "output_type": "stream",
     "text": [
      "Compounds removed and remaining compounds saved to round6_100_test_cmpds.csv\n"
     ]
    }
   ],
   "source": [
    "# Remove the training set from the test set\n",
    "# Save the remainder of compounds as next rounds test set\n",
    "input_csv_path = 'round5_100_test_cmpds.csv'\n",
    "compounds_to_remove_csv_path = 'round6_100_train_cmpds.csv'\n",
    "output_csv_path = 'round6_100_test_cmpds.csv'\n",
    "\n",
    "remove_train_compounds(input_csv_path, compounds_to_remove_csv_path, output_csv_path)\n"
   ]
  },
  {
   "cell_type": "code",
   "execution_count": 69,
   "id": "31fc4039-0643-4fff-a705-bc0e0647d865",
   "metadata": {},
   "outputs": [],
   "source": [
    "# Predict on the test set\n",
    "csv_file_to_predict = 'round6_100_test_cmpds.csv'\n",
    "output_csv_file = 'round6_100_predicted_results.csv'\n",
    "predict_and_save_results(trained_gpr, csv_file_to_predict, output_csv_file)"
   ]
  },
  {
   "cell_type": "code",
   "execution_count": 70,
   "id": "5fa50d0c-16a9-4fe9-a6b2-54c0ca74b5a7",
   "metadata": {},
   "outputs": [],
   "source": [
    "# Choose the next random subset of compounds from the test set\n",
    "docked_file_path = 'round6_100_test_cmpds.csv'\n",
    "output_csv_path = 'round7_100_cmpds.csv'\n",
    "subset_size_to_select = 100  # Set the desired subset size\n",
    "\n",
    "# Call the function\n",
    "random_strategy(docked_file_path, output_csv_path, subset_size=subset_size_to_select)"
   ]
  },
  {
   "cell_type": "markdown",
   "id": "ad72bc70-016c-4592-85cc-f138408ac39b",
   "metadata": {},
   "source": [
    "ROUND 7"
   ]
  },
  {
   "cell_type": "code",
   "execution_count": 11,
   "id": "d4f36f42-8f03-4e3d-b06e-7bc7381b15bd",
   "metadata": {},
   "outputs": [
    {
     "name": "stdout",
     "output_type": "stream",
     "text": [
      "Selected compounds saved to round7_100_train_cmpds.csv\n"
     ]
    }
   ],
   "source": [
    "# Unblind the scores for these 100 randomly chosen compounds and save as training set.\n",
    "input_csv_path = '../../../7nsw_all_hybrid.csv'\n",
    "cmpds_csv_path = 'round7_100_cmpds.csv'\n",
    "output_csv_path = 'round7_100_train_cmpds.csv'\n",
    "\n",
    "select_scores(input_csv_path, cmpds_csv_path, output_csv_path)"
   ]
  },
  {
   "cell_type": "code",
   "execution_count": 12,
   "id": "19c0d5b8-bb7b-4ed3-b7c9-b8ad11a082cb",
   "metadata": {},
   "outputs": [
    {
     "name": "stdout",
     "output_type": "stream",
     "text": [
      "Descriptors appended to round7_100_train_cmpds.csv\n"
     ]
    }
   ],
   "source": [
    "# Extract the descriptors and append them to the training set.\n",
    "compounds_csv_path = 'round7_100_train_cmpds.csv'\n",
    "descriptors_csv_path = '../../../docked_ecfp.csv'\n",
    "\n",
    "append_descriptors_to_csv(compounds_csv_path, descriptors_csv_path)"
   ]
  },
  {
   "cell_type": "code",
   "execution_count": 13,
   "id": "7dcf9513-4aa4-4d96-a8b3-390a25e05be4",
   "metadata": {},
   "outputs": [
    {
     "name": "stdout",
     "output_type": "stream",
     "text": [
      "Concatenated compounds saved to round7_100_train_cmpds.csv\n"
     ]
    }
   ],
   "source": [
    "# Concatanate the train sets together \n",
    "file1_path = 'round6_100_train_cmpds.csv'\n",
    "file2_path = 'round7_100_train_cmpds.csv'\n",
    "output_path = 'round7_100_train_cmpds.csv'\n",
    "\n",
    "append_train_compounds(file1_path, file2_path, output_path)"
   ]
  },
  {
   "cell_type": "code",
   "execution_count": 14,
   "id": "1febca6a-1204-4294-a7bd-b75a95853132",
   "metadata": {},
   "outputs": [],
   "source": [
    "# Retrain the model using this training file.\n",
    "csv_file_path = 'round7_100_train_cmpds.csv'\n",
    "trained_gpr = train_gpr_model(csv_file_path)"
   ]
  },
  {
   "cell_type": "code",
   "execution_count": 15,
   "id": "f4f3b323-6b7f-4717-9f43-57a69fe859b7",
   "metadata": {},
   "outputs": [
    {
     "name": "stdout",
     "output_type": "stream",
     "text": [
      "Compounds removed and remaining compounds saved to round7_100_test_cmpds.csv\n"
     ]
    }
   ],
   "source": [
    "# Remove the training set from the test set\n",
    "# Save the remainder of compounds as next rounds test set\n",
    "input_csv_path = 'round6_100_test_cmpds.csv'\n",
    "compounds_to_remove_csv_path = 'round7_100_train_cmpds.csv'\n",
    "output_csv_path = 'round7_100_test_cmpds.csv'\n",
    "\n",
    "remove_train_compounds(input_csv_path, compounds_to_remove_csv_path, output_csv_path)\n"
   ]
  },
  {
   "cell_type": "code",
   "execution_count": 16,
   "id": "9828357b-eea4-4ba8-b60f-00f043682f74",
   "metadata": {},
   "outputs": [],
   "source": [
    "# Predict on the test set\n",
    "csv_file_to_predict = 'round7_100_test_cmpds.csv'\n",
    "output_csv_file = 'round7_100_predicted_results.csv'\n",
    "predict_and_save_results(trained_gpr, csv_file_to_predict, output_csv_file)"
   ]
  },
  {
   "cell_type": "code",
   "execution_count": 17,
   "id": "e2d73adf-b4f8-44a8-93e6-26dc2ae19441",
   "metadata": {},
   "outputs": [],
   "source": [
    "# Choose the next random subset of compounds from the test set\n",
    "docked_file_path = 'round7_100_test_cmpds.csv'\n",
    "output_csv_path = 'round8_100_cmpds.csv'\n",
    "subset_size_to_select = 100  # Set the desired subset size\n",
    "\n",
    "# Call the function\n",
    "random_strategy(docked_file_path, output_csv_path, subset_size=subset_size_to_select)"
   ]
  },
  {
   "cell_type": "markdown",
   "id": "f6332c67-69ef-4f88-9c39-5b4890bee05f",
   "metadata": {},
   "source": [
    "ROUND 8"
   ]
  },
  {
   "cell_type": "code",
   "execution_count": 18,
   "id": "cb5727dc-61c5-48c2-bf61-33b69ce3b9a1",
   "metadata": {},
   "outputs": [
    {
     "name": "stdout",
     "output_type": "stream",
     "text": [
      "Selected compounds saved to round8_100_train_cmpds.csv\n"
     ]
    }
   ],
   "source": [
    "# Unblind the scores for these 100 randomly chosen compounds and save as training set.\n",
    "input_csv_path = '../../../7nsw_all_hybrid.csv'\n",
    "cmpds_csv_path = 'round8_100_cmpds.csv'\n",
    "output_csv_path = 'round8_100_train_cmpds.csv'\n",
    "\n",
    "select_scores(input_csv_path, cmpds_csv_path, output_csv_path)"
   ]
  },
  {
   "cell_type": "code",
   "execution_count": 19,
   "id": "4f13be5e-04e7-41b5-bc64-06373caed8a7",
   "metadata": {},
   "outputs": [
    {
     "name": "stdout",
     "output_type": "stream",
     "text": [
      "Descriptors appended to round8_100_train_cmpds.csv\n"
     ]
    }
   ],
   "source": [
    "# Extract the descriptors and append them to the training set.\n",
    "compounds_csv_path = 'round8_100_train_cmpds.csv'\n",
    "descriptors_csv_path = '../../../docked_ecfp.csv'\n",
    "\n",
    "append_descriptors_to_csv(compounds_csv_path, descriptors_csv_path)"
   ]
  },
  {
   "cell_type": "code",
   "execution_count": 20,
   "id": "199b8953-e662-4197-b7fc-20dc71a1d27c",
   "metadata": {},
   "outputs": [
    {
     "name": "stdout",
     "output_type": "stream",
     "text": [
      "Concatenated compounds saved to round8_100_train_cmpds.csv\n"
     ]
    }
   ],
   "source": [
    "# Concatanate the train sets together \n",
    "file1_path = 'round7_100_train_cmpds.csv'\n",
    "file2_path = 'round8_100_train_cmpds.csv'\n",
    "output_path = 'round8_100_train_cmpds.csv'\n",
    "\n",
    "append_train_compounds(file1_path, file2_path, output_path)"
   ]
  },
  {
   "cell_type": "code",
   "execution_count": 21,
   "id": "e3d33a60-295c-4cd7-9d88-5276e5070269",
   "metadata": {},
   "outputs": [],
   "source": [
    "# Retrain the model using this training file.\n",
    "csv_file_path = 'round8_100_train_cmpds.csv'\n",
    "trained_gpr = train_gpr_model(csv_file_path)"
   ]
  },
  {
   "cell_type": "code",
   "execution_count": 22,
   "id": "0444e030-80bc-4500-89ff-4d3f278de304",
   "metadata": {},
   "outputs": [
    {
     "name": "stdout",
     "output_type": "stream",
     "text": [
      "Compounds removed and remaining compounds saved to round8_100_test_cmpds.csv\n"
     ]
    }
   ],
   "source": [
    "# Remove the training set from the test set\n",
    "# Save the remainder of compounds as next rounds test set\n",
    "input_csv_path = 'round7_100_test_cmpds.csv'\n",
    "compounds_to_remove_csv_path = 'round8_100_train_cmpds.csv'\n",
    "output_csv_path = 'round8_100_test_cmpds.csv'\n",
    "\n",
    "remove_train_compounds(input_csv_path, compounds_to_remove_csv_path, output_csv_path)\n"
   ]
  },
  {
   "cell_type": "code",
   "execution_count": 23,
   "id": "5f210799-2483-4cd2-a5ef-a046368d1224",
   "metadata": {},
   "outputs": [],
   "source": [
    "# Predict on the test set\n",
    "csv_file_to_predict = 'round8_100_test_cmpds.csv'\n",
    "output_csv_file = 'round8_100_predicted_results.csv'\n",
    "predict_and_save_results(trained_gpr, csv_file_to_predict, output_csv_file)"
   ]
  },
  {
   "cell_type": "code",
   "execution_count": 24,
   "id": "b0dffcd9-b0de-4362-9f2e-1fc3c25b7924",
   "metadata": {},
   "outputs": [],
   "source": [
    "# Choose the next random subset of compounds from the test set\n",
    "docked_file_path = 'round8_100_test_cmpds.csv'\n",
    "output_csv_path = 'round9_100_cmpds.csv'\n",
    "subset_size_to_select = 100  # Set the desired subset size\n",
    "\n",
    "# Call the function\n",
    "random_strategy(docked_file_path, output_csv_path, subset_size=subset_size_to_select)"
   ]
  },
  {
   "cell_type": "markdown",
   "id": "538c890d-25f6-4251-90e6-56d355e91628",
   "metadata": {},
   "source": [
    "ROUND 9"
   ]
  },
  {
   "cell_type": "code",
   "execution_count": 25,
   "id": "9df827cc-048e-4cdb-826c-20e829c8fc73",
   "metadata": {},
   "outputs": [
    {
     "name": "stdout",
     "output_type": "stream",
     "text": [
      "Selected compounds saved to round9_100_train_cmpds.csv\n"
     ]
    }
   ],
   "source": [
    "# Unblind the scores for these 100 randomly chosen compounds and save as training set.\n",
    "input_csv_path = '../../../7nsw_all_hybrid.csv'\n",
    "cmpds_csv_path = 'round9_100_cmpds.csv'\n",
    "output_csv_path = 'round9_100_train_cmpds.csv'\n",
    "\n",
    "select_scores(input_csv_path, cmpds_csv_path, output_csv_path)"
   ]
  },
  {
   "cell_type": "code",
   "execution_count": 26,
   "id": "5e2e5c77-44ad-493a-acb0-a273a70acf32",
   "metadata": {},
   "outputs": [
    {
     "name": "stdout",
     "output_type": "stream",
     "text": [
      "Descriptors appended to round9_100_train_cmpds.csv\n"
     ]
    }
   ],
   "source": [
    "# Extract the descriptors and append them to the training set.\n",
    "compounds_csv_path = 'round9_100_train_cmpds.csv'\n",
    "descriptors_csv_path = '../../../docked_ecfp.csv'\n",
    "\n",
    "append_descriptors_to_csv(compounds_csv_path, descriptors_csv_path)"
   ]
  },
  {
   "cell_type": "code",
   "execution_count": 27,
   "id": "de0ab206-c611-4452-8974-4e76eaf7008e",
   "metadata": {},
   "outputs": [
    {
     "name": "stdout",
     "output_type": "stream",
     "text": [
      "Concatenated compounds saved to round9_100_train_cmpds.csv\n"
     ]
    }
   ],
   "source": [
    "# Concatanate the train sets together \n",
    "file1_path = 'round8_100_train_cmpds.csv'\n",
    "file2_path = 'round9_100_train_cmpds.csv'\n",
    "output_path = 'round9_100_train_cmpds.csv'\n",
    "\n",
    "append_train_compounds(file1_path, file2_path, output_path)"
   ]
  },
  {
   "cell_type": "code",
   "execution_count": 28,
   "id": "cd3d8fe4-94d5-4883-844c-92729df683ca",
   "metadata": {},
   "outputs": [],
   "source": [
    "# Retrain the model using this training file.\n",
    "csv_file_path = 'round9_100_train_cmpds.csv'\n",
    "trained_gpr = train_gpr_model(csv_file_path)"
   ]
  },
  {
   "cell_type": "code",
   "execution_count": 29,
   "id": "f040f954-6c22-4ed2-a4f5-e4e84c13d062",
   "metadata": {},
   "outputs": [
    {
     "name": "stdout",
     "output_type": "stream",
     "text": [
      "Compounds removed and remaining compounds saved to round9_100_test_cmpds.csv\n"
     ]
    }
   ],
   "source": [
    "# Remove the training set from the test set\n",
    "# Save the remainder of compounds as next rounds test set\n",
    "input_csv_path = 'round8_100_test_cmpds.csv'\n",
    "compounds_to_remove_csv_path = 'round9_100_train_cmpds.csv'\n",
    "output_csv_path = 'round9_100_test_cmpds.csv'\n",
    "\n",
    "remove_train_compounds(input_csv_path, compounds_to_remove_csv_path, output_csv_path)\n"
   ]
  },
  {
   "cell_type": "code",
   "execution_count": null,
   "id": "725470eb-c81e-4c79-a94b-4f0c771f4f8b",
   "metadata": {},
   "outputs": [],
   "source": [
    "# Predict on the test set\n",
    "csv_file_to_predict = 'round9_100_test_cmpds.csv'\n",
    "output_csv_file = 'round9_100_predicted_results.csv'\n",
    "predict_and_save_results(trained_gpr, csv_file_to_predict, output_csv_file)"
   ]
  },
  {
   "cell_type": "code",
   "execution_count": null,
   "id": "abe58c58-e859-4def-97e5-6fc8005c0d97",
   "metadata": {},
   "outputs": [],
   "source": [
    "# Choose the next random subset of compounds from the test set\n",
    "docked_file_path = 'round9_100_test_cmpds.csv'\n",
    "output_csv_path = 'round10_100_cmpds.csv'\n",
    "subset_size_to_select = 100  # Set the desired subset size\n",
    "\n",
    "# Call the function\n",
    "random_strategy(docked_file_path, output_csv_path, subset_size=subset_size_to_select)"
   ]
  },
  {
   "cell_type": "code",
   "execution_count": null,
   "id": "e6e1b212-e6f4-4a1e-a54f-6f0895b23fdd",
   "metadata": {},
   "outputs": [],
   "source": []
  },
  {
   "cell_type": "code",
   "execution_count": null,
   "id": "6b2348d4-2e20-45c2-b74b-db1b91d4c81b",
   "metadata": {},
   "outputs": [],
   "source": []
  }
 ],
 "metadata": {
  "kernelspec": {
   "display_name": "Python [conda env:sklearn] *",
   "language": "python",
   "name": "conda-env-sklearn-py"
  },
  "language_info": {
   "codemirror_mode": {
    "name": "ipython",
    "version": 3
   },
   "file_extension": ".py",
   "mimetype": "text/x-python",
   "name": "python",
   "nbconvert_exporter": "python",
   "pygments_lexer": "ipython3",
   "version": "3.9.18"
  }
 },
 "nbformat": 4,
 "nbformat_minor": 5
}
